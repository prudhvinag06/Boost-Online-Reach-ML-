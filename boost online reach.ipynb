{
 "cells": [
  {
   "cell_type": "markdown",
   "id": "846698d2",
   "metadata": {},
   "source": [
    "# Boost Online Reach"
   ]
  },
  {
   "cell_type": "markdown",
   "id": "8b6ca6f5",
   "metadata": {},
   "source": [
    "url : URL of the webpage to be classified\n",
    "\n",
    "webpageDescription : One line description of the webpage\n",
    "\n",
    "alchemy_category : Alchemy category (per the publicly available Alchemy API found at www.alchemyapi.com)\n",
    "\n",
    "alchemy_category_score : Alchemy category score (per the publicly available Alchemy API found at www.alchemyapi.com)\n",
    "\n",
    "avgLinkWordLength : Average number of words in a webpage\n",
    "\n",
    "AvglinkWithOneCommonWord : Average number of web pages sharing at least one word with one other web page\n",
    "\n",
    "AvglinkWithTwoCommonWord : Average number of web pages sharing at least one word with two other web pages\n",
    "\n",
    "AvglinkWithThreeCommonWord : Average number of web pages sharing at least one word with three other web pages\n",
    "\n",
    "AvglinkWithFourCommonWord : Average number of web pages sharing at least one word with four other web pages\n",
    "\n",
    "redundancyMeasure : Measure of redundancy computed by finding the compression achieved on this web page via gzip\n",
    "\n",
    "embedRatio : Count of tags\n",
    "\n",
    "frameBased : Binary indication of whether a webpage has frameset markup\n",
    "\n",
    "frameTagRatio : Ratio of frameset markups over total markups\n",
    "\n",
    "domainLink: Binary indication of whether the webpage contains in URL with domain\n",
    "\n",
    "tagRatio : Ratio of tags over text in the webpage\n",
    "\n",
    "imageTagRatio : Ratio of tags over text in the webpage\n",
    "\n",
    "isNews : Binary indication of whether a webpage is a news article\n",
    "\n",
    "lengthyDomain : Binary indication of whether webpage's text contains\n",
    "more than 30 alpha-numeric characters\n",
    "\n",
    "hyperlinkToAllWordsRatio : Percentage of words on the webpage that are also in the hyperlink text\n",
    "\n",
    "isFrontPageNews : Binary indication of whether webpage is front-page news\n",
    "\n",
    "alphanumCharCount : Number of alpha-numeric characters in webpage's text\n",
    "\n",
    "linksCount : Number of markups\n",
    "\n",
    "wordCount : Number of words in URL\n",
    "\n",
    "parametrizedLinkRatio :\n",
    "spellingErrorsRatio : Ration of words that contain spelling errors"
   ]
  },
  {
   "cell_type": "code",
   "execution_count": 1,
   "id": "a09e548d",
   "metadata": {
    "ExecuteTime": {
     "end_time": "2021-11-07T15:09:34.963615Z",
     "start_time": "2021-11-07T15:09:34.208106Z"
    }
   },
   "outputs": [],
   "source": [
    "import pandas as pd\n",
    "import numpy as np\n",
    "import matplotlib.pyplot as plt\n",
    "import seaborn as sns\n",
    "import json\n",
    "\n",
    "%matplotlib inline"
   ]
  },
  {
   "cell_type": "code",
   "execution_count": 2,
   "id": "8d62f618",
   "metadata": {
    "ExecuteTime": {
     "end_time": "2021-11-07T15:09:35.105052Z",
     "start_time": "2021-11-07T15:09:34.965280Z"
    }
   },
   "outputs": [
    {
     "name": "stdout",
     "output_type": "stream",
     "text": [
      "(5916, 27)\n"
     ]
    },
    {
     "data": {
      "text/html": [
       "<div>\n",
       "<style scoped>\n",
       "    .dataframe tbody tr th:only-of-type {\n",
       "        vertical-align: middle;\n",
       "    }\n",
       "\n",
       "    .dataframe tbody tr th {\n",
       "        vertical-align: top;\n",
       "    }\n",
       "\n",
       "    .dataframe thead th {\n",
       "        text-align: right;\n",
       "    }\n",
       "</style>\n",
       "<table border=\"1\" class=\"dataframe\">\n",
       "  <thead>\n",
       "    <tr style=\"text-align: right;\">\n",
       "      <th></th>\n",
       "      <th>url</th>\n",
       "      <th>webpageDescription</th>\n",
       "      <th>alchemy_category</th>\n",
       "      <th>alchemy_category_score</th>\n",
       "      <th>avgLinkWordLength</th>\n",
       "      <th>AvglinkWithOneCommonWord</th>\n",
       "      <th>AvglinkWithTwoCommonWord</th>\n",
       "      <th>AvglinkWithThreeCommonWord</th>\n",
       "      <th>AvglinkWithFourCommonWord</th>\n",
       "      <th>redundancyMeasure</th>\n",
       "      <th>...</th>\n",
       "      <th>lengthyDomain</th>\n",
       "      <th>hyperlinkToAllWordsRatio</th>\n",
       "      <th>isFrontPageNews</th>\n",
       "      <th>alphanumCharCount</th>\n",
       "      <th>linksCount</th>\n",
       "      <th>wordCount</th>\n",
       "      <th>parametrizedLinkRatio</th>\n",
       "      <th>spellingErrorsRatio</th>\n",
       "      <th>label</th>\n",
       "      <th>id</th>\n",
       "    </tr>\n",
       "  </thead>\n",
       "  <tbody>\n",
       "    <tr>\n",
       "      <th>0</th>\n",
       "      <td>http://www.polyvore.com/cgi/home?id=1389651</td>\n",
       "      <td>{\"title\":\"Join Polyvore and follow the latest ...</td>\n",
       "      <td>?</td>\n",
       "      <td>?</td>\n",
       "      <td>1.916667</td>\n",
       "      <td>0.047619</td>\n",
       "      <td>0.007937</td>\n",
       "      <td>0.000000</td>\n",
       "      <td>0.000000</td>\n",
       "      <td>0.803797</td>\n",
       "      <td>...</td>\n",
       "      <td>0</td>\n",
       "      <td>34</td>\n",
       "      <td>0</td>\n",
       "      <td>682</td>\n",
       "      <td>126</td>\n",
       "      <td>1</td>\n",
       "      <td>0.531746</td>\n",
       "      <td>0.142857</td>\n",
       "      <td>1</td>\n",
       "      <td>3711</td>\n",
       "    </tr>\n",
       "    <tr>\n",
       "      <th>1</th>\n",
       "      <td>http://www.youtube.com/watch?v=ippMPPu6gh4</td>\n",
       "      <td>{\"body\":\"Speed Air Man--David Belle david bell...</td>\n",
       "      <td>?</td>\n",
       "      <td>?</td>\n",
       "      <td>1.257576</td>\n",
       "      <td>0.141026</td>\n",
       "      <td>0.000000</td>\n",
       "      <td>0.000000</td>\n",
       "      <td>0.000000</td>\n",
       "      <td>1.142857</td>\n",
       "      <td>...</td>\n",
       "      <td>0</td>\n",
       "      <td>12</td>\n",
       "      <td>0</td>\n",
       "      <td>3008</td>\n",
       "      <td>78</td>\n",
       "      <td>1</td>\n",
       "      <td>0.628205</td>\n",
       "      <td>0.000000</td>\n",
       "      <td>1</td>\n",
       "      <td>7222</td>\n",
       "    </tr>\n",
       "    <tr>\n",
       "      <th>2</th>\n",
       "      <td>http://www.musingsofahousewife.com/2011/03/tri...</td>\n",
       "      <td>{\"title\":\"Chicken Gruyere Recipe \",\"body\":\"Chi...</td>\n",
       "      <td>science_technology</td>\n",
       "      <td>0.386685</td>\n",
       "      <td>2.024000</td>\n",
       "      <td>0.630350</td>\n",
       "      <td>0.284047</td>\n",
       "      <td>0.233463</td>\n",
       "      <td>0.202335</td>\n",
       "      <td>0.443409</td>\n",
       "      <td>...</td>\n",
       "      <td>1</td>\n",
       "      <td>17</td>\n",
       "      <td>0</td>\n",
       "      <td>11008</td>\n",
       "      <td>257</td>\n",
       "      <td>5</td>\n",
       "      <td>0.466926</td>\n",
       "      <td>0.062500</td>\n",
       "      <td>1</td>\n",
       "      <td>3964</td>\n",
       "    </tr>\n",
       "    <tr>\n",
       "      <th>3</th>\n",
       "      <td>http://www.thelittleteochew.com/2011/07/ikan-b...</td>\n",
       "      <td>{\"title\":\"Ikan Bilis With Tempeh Groundnuts \",...</td>\n",
       "      <td>recreation</td>\n",
       "      <td>0.475039</td>\n",
       "      <td>1.665254</td>\n",
       "      <td>0.419580</td>\n",
       "      <td>0.199301</td>\n",
       "      <td>0.097902</td>\n",
       "      <td>0.066434</td>\n",
       "      <td>0.472649</td>\n",
       "      <td>...</td>\n",
       "      <td>1</td>\n",
       "      <td>28</td>\n",
       "      <td>0</td>\n",
       "      <td>4585</td>\n",
       "      <td>286</td>\n",
       "      <td>5</td>\n",
       "      <td>0.244755</td>\n",
       "      <td>0.085868</td>\n",
       "      <td>1</td>\n",
       "      <td>3697</td>\n",
       "    </tr>\n",
       "    <tr>\n",
       "      <th>4</th>\n",
       "      <td>http://recipes.wuzzle.org/index.php/72</td>\n",
       "      <td>{\"url\":\"recipes wuzzle org index php 72\",\"titl...</td>\n",
       "      <td>computer_internet</td>\n",
       "      <td>0.535009</td>\n",
       "      <td>0.181818</td>\n",
       "      <td>0.036364</td>\n",
       "      <td>0.000000</td>\n",
       "      <td>0.000000</td>\n",
       "      <td>0.000000</td>\n",
       "      <td>0.292614</td>\n",
       "      <td>...</td>\n",
       "      <td>0</td>\n",
       "      <td>3</td>\n",
       "      <td>0</td>\n",
       "      <td>1745</td>\n",
       "      <td>55</td>\n",
       "      <td>1</td>\n",
       "      <td>0.072727</td>\n",
       "      <td>0.115044</td>\n",
       "      <td>1</td>\n",
       "      <td>4321</td>\n",
       "    </tr>\n",
       "  </tbody>\n",
       "</table>\n",
       "<p>5 rows × 27 columns</p>\n",
       "</div>"
      ],
      "text/plain": [
       "                                                 url  \\\n",
       "0        http://www.polyvore.com/cgi/home?id=1389651   \n",
       "1         http://www.youtube.com/watch?v=ippMPPu6gh4   \n",
       "2  http://www.musingsofahousewife.com/2011/03/tri...   \n",
       "3  http://www.thelittleteochew.com/2011/07/ikan-b...   \n",
       "4             http://recipes.wuzzle.org/index.php/72   \n",
       "\n",
       "                                  webpageDescription    alchemy_category  \\\n",
       "0  {\"title\":\"Join Polyvore and follow the latest ...                   ?   \n",
       "1  {\"body\":\"Speed Air Man--David Belle david bell...                   ?   \n",
       "2  {\"title\":\"Chicken Gruyere Recipe \",\"body\":\"Chi...  science_technology   \n",
       "3  {\"title\":\"Ikan Bilis With Tempeh Groundnuts \",...          recreation   \n",
       "4  {\"url\":\"recipes wuzzle org index php 72\",\"titl...   computer_internet   \n",
       "\n",
       "  alchemy_category_score  avgLinkWordLength  AvglinkWithOneCommonWord  \\\n",
       "0                      ?           1.916667                  0.047619   \n",
       "1                      ?           1.257576                  0.141026   \n",
       "2               0.386685           2.024000                  0.630350   \n",
       "3               0.475039           1.665254                  0.419580   \n",
       "4               0.535009           0.181818                  0.036364   \n",
       "\n",
       "   AvglinkWithTwoCommonWord  AvglinkWithThreeCommonWord  \\\n",
       "0                  0.007937                    0.000000   \n",
       "1                  0.000000                    0.000000   \n",
       "2                  0.284047                    0.233463   \n",
       "3                  0.199301                    0.097902   \n",
       "4                  0.000000                    0.000000   \n",
       "\n",
       "   AvglinkWithFourCommonWord  redundancyMeasure  ...  lengthyDomain  \\\n",
       "0                   0.000000           0.803797  ...              0   \n",
       "1                   0.000000           1.142857  ...              0   \n",
       "2                   0.202335           0.443409  ...              1   \n",
       "3                   0.066434           0.472649  ...              1   \n",
       "4                   0.000000           0.292614  ...              0   \n",
       "\n",
       "   hyperlinkToAllWordsRatio  isFrontPageNews  alphanumCharCount  linksCount  \\\n",
       "0                        34                0                682         126   \n",
       "1                        12                0               3008          78   \n",
       "2                        17                0              11008         257   \n",
       "3                        28                0               4585         286   \n",
       "4                         3                0               1745          55   \n",
       "\n",
       "   wordCount parametrizedLinkRatio  spellingErrorsRatio  label    id  \n",
       "0          1              0.531746             0.142857      1  3711  \n",
       "1          1              0.628205             0.000000      1  7222  \n",
       "2          5              0.466926             0.062500      1  3964  \n",
       "3          5              0.244755             0.085868      1  3697  \n",
       "4          1              0.072727             0.115044      1  4321  \n",
       "\n",
       "[5 rows x 27 columns]"
      ]
     },
     "execution_count": 2,
     "metadata": {},
     "output_type": "execute_result"
    }
   ],
   "source": [
    "df = pd.read_csv(\"train_data.csv\")\n",
    "print(df.shape)\n",
    "df.head(5)\n"
   ]
  },
  {
   "cell_type": "markdown",
   "id": "abc9611c",
   "metadata": {
    "ExecuteTime": {
     "end_time": "2021-11-05T10:51:14.074380Z",
     "start_time": "2021-11-05T10:51:14.058541Z"
    }
   },
   "source": [
    "#        EDA                "
   ]
  },
  {
   "cell_type": "code",
   "execution_count": 3,
   "id": "cd456599",
   "metadata": {
    "ExecuteTime": {
     "end_time": "2021-11-07T15:09:35.240702Z",
     "start_time": "2021-11-07T15:09:35.106010Z"
    }
   },
   "outputs": [
    {
     "data": {
      "text/plain": [
       "<AxesSubplot:>"
      ]
     },
     "execution_count": 3,
     "metadata": {},
     "output_type": "execute_result"
    },
    {
     "data": {
      "image/png": "[encoded data removed]",
      "text/plain": [
       "<Figure size 432x288 with 1 Axes>"
      ]
     },
     "metadata": {
      "needs_background": "light"
     },
     "output_type": "display_data"
    }
   ],
   "source": [
    "#distribution of output class\n",
    "df[\"label\"].hist()"
   ]
  },
  {
   "cell_type": "code",
   "execution_count": 4,
   "id": "f1dc52b6",
   "metadata": {
    "ExecuteTime": {
     "end_time": "2021-11-07T15:09:35.248660Z",
     "start_time": "2021-11-07T15:09:35.241845Z"
    }
   },
   "outputs": [
    {
     "name": "stdout",
     "output_type": "stream",
     "text": [
      "url                           0\n",
      "webpageDescription            0\n",
      "alchemy_category              0\n",
      "alchemy_category_score        0\n",
      "avgLinkWordLength             0\n",
      "AvglinkWithOneCommonWord      0\n",
      "AvglinkWithTwoCommonWord      0\n",
      "AvglinkWithThreeCommonWord    0\n",
      "AvglinkWithFourCommonWord     0\n",
      "redundancyMeasure             0\n",
      "embedRatio                    0\n",
      "framebased                    0\n",
      "frameTagRatio                 0\n",
      "domainLink                    0\n",
      "tagRatio                      0\n",
      "imageTagRatio                 0\n",
      "isNews                        0\n",
      "lengthyDomain                 0\n",
      "hyperlinkToAllWordsRatio      0\n",
      "isFrontPageNews               0\n",
      "alphanumCharCount             0\n",
      "linksCount                    0\n",
      "wordCount                     0\n",
      "parametrizedLinkRatio         0\n",
      "spellingErrorsRatio           0\n",
      "label                         0\n",
      "id                            0\n",
      "dtype: int64\n",
      "DataFrame shape :  (5916, 27)\n"
     ]
    }
   ],
   "source": [
    "#no nan values\n",
    "print(df.isna().sum())\n",
    "print(\"DataFrame shape : \", df.shape)"
   ]
  },
  {
   "cell_type": "code",
   "execution_count": 5,
   "id": "eb97771b",
   "metadata": {
    "ExecuteTime": {
     "end_time": "2021-11-07T15:09:35.253924Z",
     "start_time": "2021-11-07T15:09:35.249680Z"
    },
    "scrolled": true
   },
   "outputs": [
    {
     "data": {
      "text/plain": [
       "?                     1883\n",
       "recreation            1014\n",
       "arts_entertainment     726\n",
       "business               712\n",
       "health                 392\n",
       "sports                 302\n",
       "culture_politics       268\n",
       "computer_internet      241\n",
       "science_technology     230\n",
       "gaming                  60\n",
       "religion                56\n",
       "law_crime               24\n",
       "unknown                  5\n",
       "weather                  3\n",
       "Name: alchemy_category, dtype: int64"
      ]
     },
     "execution_count": 5,
     "metadata": {},
     "output_type": "execute_result"
    }
   ],
   "source": [
    "df['alchemy_category'].value_counts()"
   ]
  },
  {
   "cell_type": "code",
   "execution_count": 6,
   "id": "d53a2454",
   "metadata": {
    "ExecuteTime": {
     "end_time": "2021-11-07T15:09:35.280328Z",
     "start_time": "2021-11-07T15:09:35.274674Z"
    }
   },
   "outputs": [
    {
     "data": {
      "text/plain": [
       "1883"
      ]
     },
     "execution_count": 6,
     "metadata": {},
     "output_type": "execute_result"
    }
   ],
   "source": [
    "len(df[df['alchemy_category'] == '?'])"
   ]
  },
  {
   "cell_type": "code",
   "execution_count": 7,
   "id": "a2d9755c",
   "metadata": {
    "ExecuteTime": {
     "end_time": "2021-11-07T15:09:35.449203Z",
     "start_time": "2021-11-07T15:09:35.442071Z"
    }
   },
   "outputs": [
    {
     "data": {
      "text/plain": [
       "1883"
      ]
     },
     "execution_count": 7,
     "metadata": {},
     "output_type": "execute_result"
    }
   ],
   "source": [
    "len(df[df['alchemy_category_score'] == '?'])"
   ]
  },
  {
   "cell_type": "code",
   "execution_count": 8,
   "id": "124de6e1",
   "metadata": {
    "ExecuteTime": {
     "end_time": "2021-11-07T15:09:35.605327Z",
     "start_time": "2021-11-07T15:09:35.603061Z"
    }
   },
   "outputs": [],
   "source": [
    "#df['webpageDescription'].value_counts()"
   ]
  },
  {
   "cell_type": "code",
   "execution_count": 9,
   "id": "f1e9b310",
   "metadata": {
    "ExecuteTime": {
     "end_time": "2021-11-07T15:09:35.746765Z",
     "start_time": "2021-11-07T15:09:35.743346Z"
    }
   },
   "outputs": [
    {
     "data": {
      "text/plain": [
       "Index(['url', 'webpageDescription', 'alchemy_category',\n",
       "       'alchemy_category_score', 'avgLinkWordLength',\n",
       "       'AvglinkWithOneCommonWord', 'AvglinkWithTwoCommonWord',\n",
       "       'AvglinkWithThreeCommonWord', 'AvglinkWithFourCommonWord',\n",
       "       'redundancyMeasure', 'embedRatio', 'framebased', 'frameTagRatio',\n",
       "       'domainLink', 'tagRatio', 'imageTagRatio', 'isNews', 'lengthyDomain',\n",
       "       'hyperlinkToAllWordsRatio', 'isFrontPageNews', 'alphanumCharCount',\n",
       "       'linksCount', 'wordCount', 'parametrizedLinkRatio',\n",
       "       'spellingErrorsRatio', 'label', 'id'],\n",
       "      dtype='object')"
      ]
     },
     "execution_count": 9,
     "metadata": {},
     "output_type": "execute_result"
    }
   ],
   "source": [
    "df.columns"
   ]
  },
  {
   "cell_type": "code",
   "execution_count": 10,
   "id": "8e3da878",
   "metadata": {
    "ExecuteTime": {
     "end_time": "2021-11-07T15:09:35.942382Z",
     "start_time": "2021-11-07T15:09:35.931054Z"
    }
   },
   "outputs": [
    {
     "name": "stdout",
     "output_type": "stream",
     "text": [
      "0\n",
      "0\n",
      "0\n",
      "0\n",
      "0\n",
      "0\n",
      "0\n",
      "0\n",
      "0\n",
      "0\n"
     ]
    }
   ],
   "source": [
    "print(len(df[df['avgLinkWordLength'] == '?']))\n",
    "print(len(df[df['AvglinkWithOneCommonWord'] == '?']))\n",
    "print(len(df[df['AvglinkWithTwoCommonWord'] == '?']))\n",
    "print(len(df[df['AvglinkWithThreeCommonWord'] == '?']))\n",
    "print(len(df[df['AvglinkWithFourCommonWord'] == '?']))\n",
    "print(len(df[df['redundancyMeasure'] == '?']))\n",
    "print(len(df[df['embedRatio'] == '?'])) #contains -1\n",
    "print(len(df[df['framebased'] == '?'])) #only 0s\n",
    "print(len(df[df['frameTagRatio'] == '?'])) \n",
    "print(len(df[df['domainLink'] == '?'])) \n",
    "\n",
    "\n"
   ]
  },
  {
   "cell_type": "code",
   "execution_count": 11,
   "id": "af4d5a09",
   "metadata": {
    "ExecuteTime": {
     "end_time": "2021-11-07T15:09:36.135746Z",
     "start_time": "2021-11-07T15:09:36.117515Z"
    }
   },
   "outputs": [
    {
     "data": {
      "text/plain": [
       "638"
      ]
     },
     "execution_count": 11,
     "metadata": {},
     "output_type": "execute_result"
    }
   ],
   "source": [
    "len(df[df['embedRatio'] == -1]) ##contains -1 in ratio"
   ]
  },
  {
   "cell_type": "code",
   "execution_count": 12,
   "id": "b883ed0c",
   "metadata": {
    "ExecuteTime": {
     "end_time": "2021-11-07T15:09:36.360367Z",
     "start_time": "2021-11-07T15:09:36.277877Z"
    }
   },
   "outputs": [
    {
     "data": {
      "text/plain": [
       "<AxesSubplot:>"
      ]
     },
     "execution_count": 12,
     "metadata": {},
     "output_type": "execute_result"
    },
    {
     "data": {
      "image/png": "[encoded data removed]",
      "text/plain": [
       "<Figure size 432x288 with 1 Axes>"
      ]
     },
     "metadata": {
      "needs_background": "light"
     },
     "output_type": "display_data"
    }
   ],
   "source": [
    "df['framebased'].hist()"
   ]
  },
  {
   "cell_type": "code",
   "execution_count": 13,
   "id": "54e711d6",
   "metadata": {
    "ExecuteTime": {
     "end_time": "2021-11-07T15:09:36.522730Z",
     "start_time": "2021-11-07T15:09:36.435524Z"
    },
    "scrolled": true
   },
   "outputs": [
    {
     "data": {
      "text/plain": [
       "<AxesSubplot:>"
      ]
     },
     "execution_count": 13,
     "metadata": {},
     "output_type": "execute_result"
    },
    {
     "data": {
      "image/png": "[encoded data removed]",
      "text/plain": [
       "<Figure size 432x288 with 1 Axes>"
      ]
     },
     "metadata": {
      "needs_background": "light"
     },
     "output_type": "display_data"
    }
   ],
   "source": [
    "df['domainLink'].hist()"
   ]
  },
  {
   "cell_type": "code",
   "execution_count": 14,
   "id": "fd325ee7",
   "metadata": {
    "ExecuteTime": {
     "end_time": "2021-11-07T15:09:36.746902Z",
     "start_time": "2021-11-07T15:09:36.646292Z"
    }
   },
   "outputs": [
    {
     "data": {
      "text/plain": [
       "<AxesSubplot:>"
      ]
     },
     "execution_count": 14,
     "metadata": {},
     "output_type": "execute_result"
    },
    {
     "data": {
      "image/png": "[encoded data removed]",
      "text/plain": [
       "<Figure size 432x288 with 1 Axes>"
      ]
     },
     "metadata": {
      "needs_background": "light"
     },
     "output_type": "display_data"
    }
   ],
   "source": [
    "df['isNews'].hist()"
   ]
  },
  {
   "cell_type": "code",
   "execution_count": 15,
   "id": "5aa53af0",
   "metadata": {
    "ExecuteTime": {
     "end_time": "2021-11-07T15:09:36.917218Z",
     "start_time": "2021-11-07T15:09:36.827343Z"
    }
   },
   "outputs": [
    {
     "data": {
      "text/plain": [
       "<AxesSubplot:>"
      ]
     },
     "execution_count": 15,
     "metadata": {},
     "output_type": "execute_result"
    },
    {
     "data": {
      "image/png": "[encoded data removed]",
      "text/plain": [
       "<Figure size 432x288 with 1 Axes>"
      ]
     },
     "metadata": {
      "needs_background": "light"
     },
     "output_type": "display_data"
    }
   ],
   "source": [
    "df['lengthyDomain'].hist()"
   ]
  },
  {
   "cell_type": "code",
   "execution_count": 16,
   "id": "d85a7b68",
   "metadata": {
    "ExecuteTime": {
     "end_time": "2021-11-07T15:09:37.065018Z",
     "start_time": "2021-11-07T15:09:36.977334Z"
    }
   },
   "outputs": [
    {
     "data": {
      "text/plain": [
       "<AxesSubplot:>"
      ]
     },
     "execution_count": 16,
     "metadata": {},
     "output_type": "execute_result"
    },
    {
     "data": {
      "image/png": "[encoded data removed]",
      "text/plain": [
       "<Figure size 432x288 with 1 Axes>"
      ]
     },
     "metadata": {
      "needs_background": "light"
     },
     "output_type": "display_data"
    }
   ],
   "source": [
    "df['isFrontPageNews'].hist()"
   ]
  },
  {
   "cell_type": "code",
   "execution_count": 17,
   "id": "f50ac25b",
   "metadata": {
    "ExecuteTime": {
     "end_time": "2021-11-07T15:09:37.151318Z",
     "start_time": "2021-11-07T15:09:37.145588Z"
    }
   },
   "outputs": [
    {
     "name": "stdout",
     "output_type": "stream",
     "text": [
      "0    126\n",
      "1    107\n",
      "Name: label, dtype: int64\n"
     ]
    }
   ],
   "source": [
    "#front page news doesn't imply label is 1\n",
    "df_x = df[df['isFrontPageNews'] == '1']\n",
    "df_x['isFrontPageNews'].value_counts()\n",
    "print(df_x['label'].value_counts())"
   ]
  },
  {
   "cell_type": "code",
   "execution_count": 18,
   "id": "5918600e",
   "metadata": {
    "ExecuteTime": {
     "end_time": "2021-11-07T15:09:37.312606Z",
     "start_time": "2021-11-07T15:09:37.305685Z"
    }
   },
   "outputs": [
    {
     "data": {
      "text/plain": [
       "423     21\n",
       "0       13\n",
       "101      7\n",
       "780      7\n",
       "1595     6\n",
       "        ..\n",
       "5355     1\n",
       "9453     1\n",
       "5359     1\n",
       "621      1\n",
       "2079     1\n",
       "Name: alphanumCharCount, Length: 4484, dtype: int64"
      ]
     },
     "execution_count": 18,
     "metadata": {},
     "output_type": "execute_result"
    }
   ],
   "source": [
    "df['alphanumCharCount'].value_counts()"
   ]
  },
  {
   "cell_type": "code",
   "execution_count": 19,
   "id": "9797dde8",
   "metadata": {
    "ExecuteTime": {
     "end_time": "2021-11-07T15:09:37.495590Z",
     "start_time": "2021-11-07T15:09:37.490029Z"
    }
   },
   "outputs": [
    {
     "data": {
      "text/plain": [
       "423     21\n",
       "0       13\n",
       "101      7\n",
       "780      7\n",
       "1595     6\n",
       "        ..\n",
       "5355     1\n",
       "9453     1\n",
       "5359     1\n",
       "621      1\n",
       "2079     1\n",
       "Name: alphanumCharCount, Length: 4484, dtype: int64"
      ]
     },
     "execution_count": 19,
     "metadata": {},
     "output_type": "execute_result"
    }
   ],
   "source": [
    "df['alphanumCharCount'].value_counts()"
   ]
  },
  {
   "cell_type": "code",
   "execution_count": 20,
   "id": "ecbd97ce",
   "metadata": {
    "ExecuteTime": {
     "end_time": "2021-11-07T15:09:37.659092Z",
     "start_time": "2021-11-07T15:09:37.652933Z"
    }
   },
   "outputs": [
    {
     "data": {
      "text/plain": [
       "14"
      ]
     },
     "execution_count": 20,
     "metadata": {},
     "output_type": "execute_result"
    }
   ],
   "source": [
    "len(df[df['spellingErrorsRatio'] > 0.9]) \n",
    "#more error rate"
   ]
  },
  {
   "cell_type": "code",
   "execution_count": 21,
   "id": "00af46c6",
   "metadata": {
    "ExecuteTime": {
     "end_time": "2021-11-07T15:09:37.857830Z",
     "start_time": "2021-11-07T15:09:37.850747Z"
    }
   },
   "outputs": [
    {
     "data": {
      "text/plain": [
       "-1.000000    571\n",
       " 0.724138     30\n",
       " 0.000000     29\n",
       " 0.333333     18\n",
       " 1.000000     15\n",
       "            ... \n",
       " 0.086538      1\n",
       " 0.167089      1\n",
       " 0.062670      1\n",
       " 0.046041      1\n",
       " 0.014493      1\n",
       "Name: imageTagRatio, Length: 4449, dtype: int64"
      ]
     },
     "execution_count": 21,
     "metadata": {},
     "output_type": "execute_result"
    }
   ],
   "source": [
    "df['imageTagRatio'].value_counts() #contains -1"
   ]
  },
  {
   "cell_type": "code",
   "execution_count": 22,
   "id": "070f060a",
   "metadata": {
    "ExecuteTime": {
     "end_time": "2021-11-07T15:09:38.211831Z",
     "start_time": "2021-11-07T15:09:38.207487Z"
    },
    "scrolled": true
   },
   "outputs": [
    {
     "data": {
      "text/plain": [
       "13    166\n",
       "19    165\n",
       "16    163\n",
       "18    152\n",
       "20    146\n",
       "     ... \n",
       "88      3\n",
       "98      2\n",
       "94      2\n",
       "97      2\n",
       "96      1\n",
       "Name: hyperlinkToAllWordsRatio, Length: 101, dtype: int64"
      ]
     },
     "execution_count": 22,
     "metadata": {},
     "output_type": "execute_result"
    }
   ],
   "source": [
    "df['hyperlinkToAllWordsRatio'].value_counts() #no negtaives"
   ]
  },
  {
   "cell_type": "code",
   "execution_count": 23,
   "id": "671ac2ca",
   "metadata": {
    "ExecuteTime": {
     "end_time": "2021-11-07T15:09:38.416358Z",
     "start_time": "2021-11-07T15:09:38.411215Z"
    }
   },
   "outputs": [
    {
     "data": {
      "text/plain": [
       "0"
      ]
     },
     "execution_count": 23,
     "metadata": {},
     "output_type": "execute_result"
    }
   ],
   "source": [
    "len(df[df['parametrizedLinkRatio'] < 0])  #no negatives"
   ]
  },
  {
   "cell_type": "code",
   "execution_count": 24,
   "id": "d5bbd7ea",
   "metadata": {
    "ExecuteTime": {
     "end_time": "2021-11-07T15:09:38.580267Z",
     "start_time": "2021-11-07T15:09:38.574536Z"
    }
   },
   "outputs": [
    {
     "data": {
      "text/plain": [
       "26"
      ]
     },
     "execution_count": 24,
     "metadata": {},
     "output_type": "execute_result"
    }
   ],
   "source": [
    "len(df[df['spellingErrorsRatio'] > 0.5]) #spellings with high error rate"
   ]
  },
  {
   "cell_type": "code",
   "execution_count": null,
   "id": "9b83797a",
   "metadata": {},
   "outputs": [],
   "source": []
  },
  {
   "cell_type": "code",
   "execution_count": null,
   "id": "1ae4a244",
   "metadata": {},
   "outputs": [],
   "source": []
  },
  {
   "cell_type": "markdown",
   "id": "bdcb3767",
   "metadata": {},
   "source": [
    "# Preprocessing"
   ]
  },
  {
   "cell_type": "code",
   "execution_count": 25,
   "id": "a13c4a1c",
   "metadata": {
    "ExecuteTime": {
     "end_time": "2021-11-07T15:09:39.364092Z",
     "start_time": "2021-11-07T15:09:39.345571Z"
    }
   },
   "outputs": [
    {
     "data": {
      "text/html": [
       "<div>\n",
       "<style scoped>\n",
       "    .dataframe tbody tr th:only-of-type {\n",
       "        vertical-align: middle;\n",
       "    }\n",
       "\n",
       "    .dataframe tbody tr th {\n",
       "        vertical-align: top;\n",
       "    }\n",
       "\n",
       "    .dataframe thead th {\n",
       "        text-align: right;\n",
       "    }\n",
       "</style>\n",
       "<table border=\"1\" class=\"dataframe\">\n",
       "  <thead>\n",
       "    <tr style=\"text-align: right;\">\n",
       "      <th></th>\n",
       "      <th>url</th>\n",
       "      <th>webpageDescription</th>\n",
       "      <th>alchemy_category</th>\n",
       "      <th>alchemy_category_score</th>\n",
       "      <th>avgLinkWordLength</th>\n",
       "      <th>AvglinkWithOneCommonWord</th>\n",
       "      <th>AvglinkWithTwoCommonWord</th>\n",
       "      <th>AvglinkWithThreeCommonWord</th>\n",
       "      <th>AvglinkWithFourCommonWord</th>\n",
       "      <th>redundancyMeasure</th>\n",
       "      <th>...</th>\n",
       "      <th>lengthyDomain</th>\n",
       "      <th>hyperlinkToAllWordsRatio</th>\n",
       "      <th>isFrontPageNews</th>\n",
       "      <th>alphanumCharCount</th>\n",
       "      <th>linksCount</th>\n",
       "      <th>wordCount</th>\n",
       "      <th>parametrizedLinkRatio</th>\n",
       "      <th>spellingErrorsRatio</th>\n",
       "      <th>label</th>\n",
       "      <th>id</th>\n",
       "    </tr>\n",
       "  </thead>\n",
       "  <tbody>\n",
       "    <tr>\n",
       "      <th>0</th>\n",
       "      <td>http://www.polyvore.com/cgi/home?id=1389651</td>\n",
       "      <td>{\"title\":\"Join Polyvore and follow the latest ...</td>\n",
       "      <td>?</td>\n",
       "      <td>?</td>\n",
       "      <td>1.916667</td>\n",
       "      <td>0.047619</td>\n",
       "      <td>0.007937</td>\n",
       "      <td>0.000000</td>\n",
       "      <td>0.000000</td>\n",
       "      <td>0.803797</td>\n",
       "      <td>...</td>\n",
       "      <td>0</td>\n",
       "      <td>34</td>\n",
       "      <td>0</td>\n",
       "      <td>682</td>\n",
       "      <td>126</td>\n",
       "      <td>1</td>\n",
       "      <td>0.531746</td>\n",
       "      <td>0.142857</td>\n",
       "      <td>1</td>\n",
       "      <td>3711</td>\n",
       "    </tr>\n",
       "    <tr>\n",
       "      <th>1</th>\n",
       "      <td>http://www.youtube.com/watch?v=ippMPPu6gh4</td>\n",
       "      <td>{\"body\":\"Speed Air Man--David Belle david bell...</td>\n",
       "      <td>?</td>\n",
       "      <td>?</td>\n",
       "      <td>1.257576</td>\n",
       "      <td>0.141026</td>\n",
       "      <td>0.000000</td>\n",
       "      <td>0.000000</td>\n",
       "      <td>0.000000</td>\n",
       "      <td>1.142857</td>\n",
       "      <td>...</td>\n",
       "      <td>0</td>\n",
       "      <td>12</td>\n",
       "      <td>0</td>\n",
       "      <td>3008</td>\n",
       "      <td>78</td>\n",
       "      <td>1</td>\n",
       "      <td>0.628205</td>\n",
       "      <td>0.000000</td>\n",
       "      <td>1</td>\n",
       "      <td>7222</td>\n",
       "    </tr>\n",
       "    <tr>\n",
       "      <th>2</th>\n",
       "      <td>http://www.musingsofahousewife.com/2011/03/tri...</td>\n",
       "      <td>{\"title\":\"Chicken Gruyere Recipe \",\"body\":\"Chi...</td>\n",
       "      <td>science_technology</td>\n",
       "      <td>0.386685</td>\n",
       "      <td>2.024000</td>\n",
       "      <td>0.630350</td>\n",
       "      <td>0.284047</td>\n",
       "      <td>0.233463</td>\n",
       "      <td>0.202335</td>\n",
       "      <td>0.443409</td>\n",
       "      <td>...</td>\n",
       "      <td>1</td>\n",
       "      <td>17</td>\n",
       "      <td>0</td>\n",
       "      <td>11008</td>\n",
       "      <td>257</td>\n",
       "      <td>5</td>\n",
       "      <td>0.466926</td>\n",
       "      <td>0.062500</td>\n",
       "      <td>1</td>\n",
       "      <td>3964</td>\n",
       "    </tr>\n",
       "    <tr>\n",
       "      <th>3</th>\n",
       "      <td>http://www.thelittleteochew.com/2011/07/ikan-b...</td>\n",
       "      <td>{\"title\":\"Ikan Bilis With Tempeh Groundnuts \",...</td>\n",
       "      <td>recreation</td>\n",
       "      <td>0.475039</td>\n",
       "      <td>1.665254</td>\n",
       "      <td>0.419580</td>\n",
       "      <td>0.199301</td>\n",
       "      <td>0.097902</td>\n",
       "      <td>0.066434</td>\n",
       "      <td>0.472649</td>\n",
       "      <td>...</td>\n",
       "      <td>1</td>\n",
       "      <td>28</td>\n",
       "      <td>0</td>\n",
       "      <td>4585</td>\n",
       "      <td>286</td>\n",
       "      <td>5</td>\n",
       "      <td>0.244755</td>\n",
       "      <td>0.085868</td>\n",
       "      <td>1</td>\n",
       "      <td>3697</td>\n",
       "    </tr>\n",
       "    <tr>\n",
       "      <th>4</th>\n",
       "      <td>http://recipes.wuzzle.org/index.php/72</td>\n",
       "      <td>{\"url\":\"recipes wuzzle org index php 72\",\"titl...</td>\n",
       "      <td>computer_internet</td>\n",
       "      <td>0.535009</td>\n",
       "      <td>0.181818</td>\n",
       "      <td>0.036364</td>\n",
       "      <td>0.000000</td>\n",
       "      <td>0.000000</td>\n",
       "      <td>0.000000</td>\n",
       "      <td>0.292614</td>\n",
       "      <td>...</td>\n",
       "      <td>0</td>\n",
       "      <td>3</td>\n",
       "      <td>0</td>\n",
       "      <td>1745</td>\n",
       "      <td>55</td>\n",
       "      <td>1</td>\n",
       "      <td>0.072727</td>\n",
       "      <td>0.115044</td>\n",
       "      <td>1</td>\n",
       "      <td>4321</td>\n",
       "    </tr>\n",
       "  </tbody>\n",
       "</table>\n",
       "<p>5 rows × 27 columns</p>\n",
       "</div>"
      ],
      "text/plain": [
       "                                                 url  \\\n",
       "0        http://www.polyvore.com/cgi/home?id=1389651   \n",
       "1         http://www.youtube.com/watch?v=ippMPPu6gh4   \n",
       "2  http://www.musingsofahousewife.com/2011/03/tri...   \n",
       "3  http://www.thelittleteochew.com/2011/07/ikan-b...   \n",
       "4             http://recipes.wuzzle.org/index.php/72   \n",
       "\n",
       "                                  webpageDescription    alchemy_category  \\\n",
       "0  {\"title\":\"Join Polyvore and follow the latest ...                   ?   \n",
       "1  {\"body\":\"Speed Air Man--David Belle david bell...                   ?   \n",
       "2  {\"title\":\"Chicken Gruyere Recipe \",\"body\":\"Chi...  science_technology   \n",
       "3  {\"title\":\"Ikan Bilis With Tempeh Groundnuts \",...          recreation   \n",
       "4  {\"url\":\"recipes wuzzle org index php 72\",\"titl...   computer_internet   \n",
       "\n",
       "  alchemy_category_score  avgLinkWordLength  AvglinkWithOneCommonWord  \\\n",
       "0                      ?           1.916667                  0.047619   \n",
       "1                      ?           1.257576                  0.141026   \n",
       "2               0.386685           2.024000                  0.630350   \n",
       "3               0.475039           1.665254                  0.419580   \n",
       "4               0.535009           0.181818                  0.036364   \n",
       "\n",
       "   AvglinkWithTwoCommonWord  AvglinkWithThreeCommonWord  \\\n",
       "0                  0.007937                    0.000000   \n",
       "1                  0.000000                    0.000000   \n",
       "2                  0.284047                    0.233463   \n",
       "3                  0.199301                    0.097902   \n",
       "4                  0.000000                    0.000000   \n",
       "\n",
       "   AvglinkWithFourCommonWord  redundancyMeasure  ...  lengthyDomain  \\\n",
       "0                   0.000000           0.803797  ...              0   \n",
       "1                   0.000000           1.142857  ...              0   \n",
       "2                   0.202335           0.443409  ...              1   \n",
       "3                   0.066434           0.472649  ...              1   \n",
       "4                   0.000000           0.292614  ...              0   \n",
       "\n",
       "   hyperlinkToAllWordsRatio  isFrontPageNews  alphanumCharCount  linksCount  \\\n",
       "0                        34                0                682         126   \n",
       "1                        12                0               3008          78   \n",
       "2                        17                0              11008         257   \n",
       "3                        28                0               4585         286   \n",
       "4                         3                0               1745          55   \n",
       "\n",
       "   wordCount parametrizedLinkRatio  spellingErrorsRatio  label    id  \n",
       "0          1              0.531746             0.142857      1  3711  \n",
       "1          1              0.628205             0.000000      1  7222  \n",
       "2          5              0.466926             0.062500      1  3964  \n",
       "3          5              0.244755             0.085868      1  3697  \n",
       "4          1              0.072727             0.115044      1  4321  \n",
       "\n",
       "[5 rows x 27 columns]"
      ]
     },
     "execution_count": 25,
     "metadata": {},
     "output_type": "execute_result"
    }
   ],
   "source": [
    "df.head()"
   ]
  },
  {
   "cell_type": "code",
   "execution_count": 26,
   "id": "931a5b70",
   "metadata": {
    "ExecuteTime": {
     "end_time": "2021-11-07T15:09:39.815996Z",
     "start_time": "2021-11-07T15:09:39.773764Z"
    }
   },
   "outputs": [
    {
     "data": {
      "text/plain": [
       "(1479, 26)"
      ]
     },
     "execution_count": 26,
     "metadata": {},
     "output_type": "execute_result"
    }
   ],
   "source": [
    "train_df = df\n",
    "test_df = pd.read_csv(\"test_data.csv\")\n",
    "test_df.shape"
   ]
  },
  {
   "cell_type": "code",
   "execution_count": 27,
   "id": "f8747ab4",
   "metadata": {
    "ExecuteTime": {
     "end_time": "2021-11-07T15:09:40.052258Z",
     "start_time": "2021-11-07T15:09:40.048448Z"
    }
   },
   "outputs": [
    {
     "name": "stdout",
     "output_type": "stream",
     "text": [
      "Train :  (5916, 27)\n",
      "Test :  (1479, 26)\n"
     ]
    }
   ],
   "source": [
    "print(\"Train : \", train_df.shape)\n",
    "print(\"Test : \", test_df.shape)"
   ]
  },
  {
   "cell_type": "code",
   "execution_count": 28,
   "id": "8cc8ed57",
   "metadata": {
    "ExecuteTime": {
     "end_time": "2021-11-07T15:09:40.373263Z",
     "start_time": "2021-11-07T15:09:40.367699Z"
    }
   },
   "outputs": [
    {
     "data": {
      "text/plain": [
       "(1479, 27)"
      ]
     },
     "execution_count": 28,
     "metadata": {},
     "output_type": "execute_result"
    }
   ],
   "source": [
    "test_df['label'] = \"test\"\n",
    "test_df.shape"
   ]
  },
  {
   "cell_type": "code",
   "execution_count": 29,
   "id": "d0c4ed9b",
   "metadata": {
    "ExecuteTime": {
     "end_time": "2021-11-07T15:09:40.691346Z",
     "start_time": "2021-11-07T15:09:40.665627Z"
    }
   },
   "outputs": [
    {
     "name": "stdout",
     "output_type": "stream",
     "text": [
      "shape :  (7395, 27)\n"
     ]
    },
    {
     "data": {
      "text/html": [
       "<div>\n",
       "<style scoped>\n",
       "    .dataframe tbody tr th:only-of-type {\n",
       "        vertical-align: middle;\n",
       "    }\n",
       "\n",
       "    .dataframe tbody tr th {\n",
       "        vertical-align: top;\n",
       "    }\n",
       "\n",
       "    .dataframe thead th {\n",
       "        text-align: right;\n",
       "    }\n",
       "</style>\n",
       "<table border=\"1\" class=\"dataframe\">\n",
       "  <thead>\n",
       "    <tr style=\"text-align: right;\">\n",
       "      <th></th>\n",
       "      <th>url</th>\n",
       "      <th>webpageDescription</th>\n",
       "      <th>alchemy_category</th>\n",
       "      <th>alchemy_category_score</th>\n",
       "      <th>avgLinkWordLength</th>\n",
       "      <th>AvglinkWithOneCommonWord</th>\n",
       "      <th>AvglinkWithTwoCommonWord</th>\n",
       "      <th>AvglinkWithThreeCommonWord</th>\n",
       "      <th>AvglinkWithFourCommonWord</th>\n",
       "      <th>redundancyMeasure</th>\n",
       "      <th>...</th>\n",
       "      <th>lengthyDomain</th>\n",
       "      <th>hyperlinkToAllWordsRatio</th>\n",
       "      <th>isFrontPageNews</th>\n",
       "      <th>alphanumCharCount</th>\n",
       "      <th>linksCount</th>\n",
       "      <th>wordCount</th>\n",
       "      <th>parametrizedLinkRatio</th>\n",
       "      <th>spellingErrorsRatio</th>\n",
       "      <th>label</th>\n",
       "      <th>id</th>\n",
       "    </tr>\n",
       "  </thead>\n",
       "  <tbody>\n",
       "    <tr>\n",
       "      <th>0</th>\n",
       "      <td>http://www.polyvore.com/cgi/home?id=1389651</td>\n",
       "      <td>{\"title\":\"Join Polyvore and follow the latest ...</td>\n",
       "      <td>?</td>\n",
       "      <td>?</td>\n",
       "      <td>1.916667</td>\n",
       "      <td>0.047619</td>\n",
       "      <td>0.007937</td>\n",
       "      <td>0.000000</td>\n",
       "      <td>0.000000</td>\n",
       "      <td>0.803797</td>\n",
       "      <td>...</td>\n",
       "      <td>0</td>\n",
       "      <td>34</td>\n",
       "      <td>0</td>\n",
       "      <td>682</td>\n",
       "      <td>126</td>\n",
       "      <td>1</td>\n",
       "      <td>0.531746</td>\n",
       "      <td>0.142857</td>\n",
       "      <td>1</td>\n",
       "      <td>3711</td>\n",
       "    </tr>\n",
       "    <tr>\n",
       "      <th>1</th>\n",
       "      <td>http://www.youtube.com/watch?v=ippMPPu6gh4</td>\n",
       "      <td>{\"body\":\"Speed Air Man--David Belle david bell...</td>\n",
       "      <td>?</td>\n",
       "      <td>?</td>\n",
       "      <td>1.257576</td>\n",
       "      <td>0.141026</td>\n",
       "      <td>0.000000</td>\n",
       "      <td>0.000000</td>\n",
       "      <td>0.000000</td>\n",
       "      <td>1.142857</td>\n",
       "      <td>...</td>\n",
       "      <td>0</td>\n",
       "      <td>12</td>\n",
       "      <td>0</td>\n",
       "      <td>3008</td>\n",
       "      <td>78</td>\n",
       "      <td>1</td>\n",
       "      <td>0.628205</td>\n",
       "      <td>0.000000</td>\n",
       "      <td>1</td>\n",
       "      <td>7222</td>\n",
       "    </tr>\n",
       "    <tr>\n",
       "      <th>2</th>\n",
       "      <td>http://www.musingsofahousewife.com/2011/03/tri...</td>\n",
       "      <td>{\"title\":\"Chicken Gruyere Recipe \",\"body\":\"Chi...</td>\n",
       "      <td>science_technology</td>\n",
       "      <td>0.386685</td>\n",
       "      <td>2.024000</td>\n",
       "      <td>0.630350</td>\n",
       "      <td>0.284047</td>\n",
       "      <td>0.233463</td>\n",
       "      <td>0.202335</td>\n",
       "      <td>0.443409</td>\n",
       "      <td>...</td>\n",
       "      <td>1</td>\n",
       "      <td>17</td>\n",
       "      <td>0</td>\n",
       "      <td>11008</td>\n",
       "      <td>257</td>\n",
       "      <td>5</td>\n",
       "      <td>0.466926</td>\n",
       "      <td>0.062500</td>\n",
       "      <td>1</td>\n",
       "      <td>3964</td>\n",
       "    </tr>\n",
       "    <tr>\n",
       "      <th>3</th>\n",
       "      <td>http://www.thelittleteochew.com/2011/07/ikan-b...</td>\n",
       "      <td>{\"title\":\"Ikan Bilis With Tempeh Groundnuts \",...</td>\n",
       "      <td>recreation</td>\n",
       "      <td>0.475039</td>\n",
       "      <td>1.665254</td>\n",
       "      <td>0.419580</td>\n",
       "      <td>0.199301</td>\n",
       "      <td>0.097902</td>\n",
       "      <td>0.066434</td>\n",
       "      <td>0.472649</td>\n",
       "      <td>...</td>\n",
       "      <td>1</td>\n",
       "      <td>28</td>\n",
       "      <td>0</td>\n",
       "      <td>4585</td>\n",
       "      <td>286</td>\n",
       "      <td>5</td>\n",
       "      <td>0.244755</td>\n",
       "      <td>0.085868</td>\n",
       "      <td>1</td>\n",
       "      <td>3697</td>\n",
       "    </tr>\n",
       "    <tr>\n",
       "      <th>4</th>\n",
       "      <td>http://recipes.wuzzle.org/index.php/72</td>\n",
       "      <td>{\"url\":\"recipes wuzzle org index php 72\",\"titl...</td>\n",
       "      <td>computer_internet</td>\n",
       "      <td>0.535009</td>\n",
       "      <td>0.181818</td>\n",
       "      <td>0.036364</td>\n",
       "      <td>0.000000</td>\n",
       "      <td>0.000000</td>\n",
       "      <td>0.000000</td>\n",
       "      <td>0.292614</td>\n",
       "      <td>...</td>\n",
       "      <td>0</td>\n",
       "      <td>3</td>\n",
       "      <td>0</td>\n",
       "      <td>1745</td>\n",
       "      <td>55</td>\n",
       "      <td>1</td>\n",
       "      <td>0.072727</td>\n",
       "      <td>0.115044</td>\n",
       "      <td>1</td>\n",
       "      <td>4321</td>\n",
       "    </tr>\n",
       "  </tbody>\n",
       "</table>\n",
       "<p>5 rows × 27 columns</p>\n",
       "</div>"
      ],
      "text/plain": [
       "                                                 url  \\\n",
       "0        http://www.polyvore.com/cgi/home?id=1389651   \n",
       "1         http://www.youtube.com/watch?v=ippMPPu6gh4   \n",
       "2  http://www.musingsofahousewife.com/2011/03/tri...   \n",
       "3  http://www.thelittleteochew.com/2011/07/ikan-b...   \n",
       "4             http://recipes.wuzzle.org/index.php/72   \n",
       "\n",
       "                                  webpageDescription    alchemy_category  \\\n",
       "0  {\"title\":\"Join Polyvore and follow the latest ...                   ?   \n",
       "1  {\"body\":\"Speed Air Man--David Belle david bell...                   ?   \n",
       "2  {\"title\":\"Chicken Gruyere Recipe \",\"body\":\"Chi...  science_technology   \n",
       "3  {\"title\":\"Ikan Bilis With Tempeh Groundnuts \",...          recreation   \n",
       "4  {\"url\":\"recipes wuzzle org index php 72\",\"titl...   computer_internet   \n",
       "\n",
       "  alchemy_category_score  avgLinkWordLength  AvglinkWithOneCommonWord  \\\n",
       "0                      ?           1.916667                  0.047619   \n",
       "1                      ?           1.257576                  0.141026   \n",
       "2               0.386685           2.024000                  0.630350   \n",
       "3               0.475039           1.665254                  0.419580   \n",
       "4               0.535009           0.181818                  0.036364   \n",
       "\n",
       "   AvglinkWithTwoCommonWord  AvglinkWithThreeCommonWord  \\\n",
       "0                  0.007937                    0.000000   \n",
       "1                  0.000000                    0.000000   \n",
       "2                  0.284047                    0.233463   \n",
       "3                  0.199301                    0.097902   \n",
       "4                  0.000000                    0.000000   \n",
       "\n",
       "   AvglinkWithFourCommonWord  redundancyMeasure  ...  lengthyDomain  \\\n",
       "0                   0.000000           0.803797  ...              0   \n",
       "1                   0.000000           1.142857  ...              0   \n",
       "2                   0.202335           0.443409  ...              1   \n",
       "3                   0.066434           0.472649  ...              1   \n",
       "4                   0.000000           0.292614  ...              0   \n",
       "\n",
       "   hyperlinkToAllWordsRatio  isFrontPageNews  alphanumCharCount  linksCount  \\\n",
       "0                        34                0                682         126   \n",
       "1                        12                0               3008          78   \n",
       "2                        17                0              11008         257   \n",
       "3                        28                0               4585         286   \n",
       "4                         3                0               1745          55   \n",
       "\n",
       "   wordCount parametrizedLinkRatio  spellingErrorsRatio  label    id  \n",
       "0          1              0.531746             0.142857      1  3711  \n",
       "1          1              0.628205             0.000000      1  7222  \n",
       "2          5              0.466926             0.062500      1  3964  \n",
       "3          5              0.244755             0.085868      1  3697  \n",
       "4          1              0.072727             0.115044      1  4321  \n",
       "\n",
       "[5 rows x 27 columns]"
      ]
     },
     "execution_count": 29,
     "metadata": {},
     "output_type": "execute_result"
    }
   ],
   "source": [
    "data = pd.concat([train_df,test_df], ignore_index=True)\n",
    "print(\"shape : \", data.shape)\n",
    "data.head()"
   ]
  },
  {
   "cell_type": "markdown",
   "id": "bc007f3f",
   "metadata": {},
   "source": [
    "# Work on numerical/categorical data"
   ]
  },
  {
   "cell_type": "code",
   "execution_count": 30,
   "id": "1cd5066f",
   "metadata": {
    "ExecuteTime": {
     "end_time": "2021-11-07T15:09:41.253833Z",
     "start_time": "2021-11-07T15:09:41.248475Z"
    }
   },
   "outputs": [
    {
     "data": {
      "text/plain": [
       "Index(['url', 'webpageDescription', 'alchemy_category',\n",
       "       'alchemy_category_score', 'avgLinkWordLength',\n",
       "       'AvglinkWithOneCommonWord', 'AvglinkWithTwoCommonWord',\n",
       "       'AvglinkWithThreeCommonWord', 'AvglinkWithFourCommonWord',\n",
       "       'redundancyMeasure', 'embedRatio', 'framebased', 'frameTagRatio',\n",
       "       'domainLink', 'tagRatio', 'imageTagRatio', 'isNews', 'lengthyDomain',\n",
       "       'hyperlinkToAllWordsRatio', 'isFrontPageNews', 'alphanumCharCount',\n",
       "       'linksCount', 'wordCount', 'parametrizedLinkRatio',\n",
       "       'spellingErrorsRatio', 'label', 'id'],\n",
       "      dtype='object')"
      ]
     },
     "execution_count": 30,
     "metadata": {},
     "output_type": "execute_result"
    }
   ],
   "source": [
    "data.columns"
   ]
  },
  {
   "cell_type": "code",
   "execution_count": 31,
   "id": "3dffe8ee",
   "metadata": {
    "ExecuteTime": {
     "end_time": "2021-11-07T15:09:42.107991Z",
     "start_time": "2021-11-07T15:09:42.097842Z"
    }
   },
   "outputs": [
    {
     "data": {
      "text/plain": [
       "?                     2342\n",
       "recreation            1229\n",
       "arts_entertainment     941\n",
       "business               880\n",
       "health                 506\n",
       "sports                 380\n",
       "culture_politics       343\n",
       "computer_internet      296\n",
       "science_technology     289\n",
       "gaming                  76\n",
       "religion                72\n",
       "law_crime               31\n",
       "unknown                  6\n",
       "weather                  4\n",
       "Name: alchemy_category, dtype: int64"
      ]
     },
     "execution_count": 31,
     "metadata": {},
     "output_type": "execute_result"
    }
   ],
   "source": [
    "data['alchemy_category'].value_counts()"
   ]
  },
  {
   "cell_type": "code",
   "execution_count": 32,
   "id": "a3c262ef",
   "metadata": {
    "ExecuteTime": {
     "end_time": "2021-11-07T15:09:42.602206Z",
     "start_time": "2021-11-07T15:09:42.598328Z"
    }
   },
   "outputs": [],
   "source": [
    "data['alchemy_category'].replace(to_replace='?', value = 'other', inplace = True)"
   ]
  },
  {
   "cell_type": "code",
   "execution_count": 33,
   "id": "653a2ea2",
   "metadata": {
    "ExecuteTime": {
     "end_time": "2021-11-07T15:09:42.869112Z",
     "start_time": "2021-11-07T15:09:42.862960Z"
    }
   },
   "outputs": [
    {
     "data": {
      "text/plain": [
       "other                 2342\n",
       "recreation            1229\n",
       "arts_entertainment     941\n",
       "business               880\n",
       "health                 506\n",
       "sports                 380\n",
       "culture_politics       343\n",
       "computer_internet      296\n",
       "science_technology     289\n",
       "gaming                  76\n",
       "religion                72\n",
       "law_crime               31\n",
       "unknown                  6\n",
       "weather                  4\n",
       "Name: alchemy_category, dtype: int64"
      ]
     },
     "execution_count": 33,
     "metadata": {},
     "output_type": "execute_result"
    }
   ],
   "source": [
    "data['alchemy_category'].value_counts()"
   ]
  },
  {
   "cell_type": "code",
   "execution_count": 34,
   "id": "561058b5",
   "metadata": {
    "ExecuteTime": {
     "end_time": "2021-11-07T15:09:43.093556Z",
     "start_time": "2021-11-07T15:09:43.085858Z"
    }
   },
   "outputs": [
    {
     "data": {
      "text/plain": [
       "?            2342\n",
       "0.85           82\n",
       "0.0784091      40\n",
       "0.849999       12\n",
       "0.535009       10\n",
       "             ... \n",
       "0.499763        1\n",
       "0.362798        1\n",
       "0.655718        1\n",
       "0.591099        1\n",
       "0.764237        1\n",
       "Name: alchemy_category_score, Length: 4806, dtype: int64"
      ]
     },
     "execution_count": 34,
     "metadata": {},
     "output_type": "execute_result"
    }
   ],
   "source": [
    "data['alchemy_category_score'].value_counts()"
   ]
  },
  {
   "cell_type": "code",
   "execution_count": 35,
   "id": "859f82ca",
   "metadata": {
    "ExecuteTime": {
     "end_time": "2021-11-07T15:09:43.579223Z",
     "start_time": "2021-11-07T15:09:43.574886Z"
    }
   },
   "outputs": [
    {
     "data": {
      "text/plain": [
       "0              ?\n",
       "1              ?\n",
       "2       0.386685\n",
       "3       0.475039\n",
       "4       0.535009\n",
       "          ...   \n",
       "7390    0.681418\n",
       "7391    0.681418\n",
       "7392    0.943693\n",
       "7393    0.943693\n",
       "7394    0.715035\n",
       "Name: alchemy_category_score, Length: 7395, dtype: object"
      ]
     },
     "execution_count": 35,
     "metadata": {},
     "output_type": "execute_result"
    }
   ],
   "source": [
    "data['alchemy_category_score'].replace('?', None)"
   ]
  },
  {
   "cell_type": "code",
   "execution_count": 36,
   "id": "f83b2ab0",
   "metadata": {
    "ExecuteTime": {
     "end_time": "2021-11-07T15:09:44.438115Z",
     "start_time": "2021-11-07T15:09:44.401743Z"
    }
   },
   "outputs": [
    {
     "data": {
      "text/html": [
       "<div>\n",
       "<style scoped>\n",
       "    .dataframe tbody tr th:only-of-type {\n",
       "        vertical-align: middle;\n",
       "    }\n",
       "\n",
       "    .dataframe tbody tr th {\n",
       "        vertical-align: top;\n",
       "    }\n",
       "\n",
       "    .dataframe thead th {\n",
       "        text-align: right;\n",
       "    }\n",
       "</style>\n",
       "<table border=\"1\" class=\"dataframe\">\n",
       "  <thead>\n",
       "    <tr style=\"text-align: right;\">\n",
       "      <th></th>\n",
       "      <th>avgLinkWordLength</th>\n",
       "      <th>AvglinkWithOneCommonWord</th>\n",
       "      <th>AvglinkWithTwoCommonWord</th>\n",
       "      <th>AvglinkWithThreeCommonWord</th>\n",
       "      <th>AvglinkWithFourCommonWord</th>\n",
       "      <th>redundancyMeasure</th>\n",
       "      <th>embedRatio</th>\n",
       "      <th>framebased</th>\n",
       "      <th>frameTagRatio</th>\n",
       "      <th>domainLink</th>\n",
       "      <th>tagRatio</th>\n",
       "      <th>imageTagRatio</th>\n",
       "      <th>lengthyDomain</th>\n",
       "      <th>hyperlinkToAllWordsRatio</th>\n",
       "      <th>alphanumCharCount</th>\n",
       "      <th>linksCount</th>\n",
       "      <th>wordCount</th>\n",
       "      <th>parametrizedLinkRatio</th>\n",
       "      <th>spellingErrorsRatio</th>\n",
       "      <th>id</th>\n",
       "    </tr>\n",
       "  </thead>\n",
       "  <tbody>\n",
       "    <tr>\n",
       "      <th>count</th>\n",
       "      <td>7395.000000</td>\n",
       "      <td>7395.000000</td>\n",
       "      <td>7395.000000</td>\n",
       "      <td>7395.000000</td>\n",
       "      <td>7395.000000</td>\n",
       "      <td>7395.000000</td>\n",
       "      <td>7395.000000</td>\n",
       "      <td>7395.0</td>\n",
       "      <td>7395.000000</td>\n",
       "      <td>7395.000000</td>\n",
       "      <td>7395.000000</td>\n",
       "      <td>7395.000000</td>\n",
       "      <td>7395.000000</td>\n",
       "      <td>7395.000000</td>\n",
       "      <td>7395.000000</td>\n",
       "      <td>7395.000000</td>\n",
       "      <td>7395.000000</td>\n",
       "      <td>7395.000000</td>\n",
       "      <td>7395.000000</td>\n",
       "      <td>7395.000000</td>\n",
       "    </tr>\n",
       "    <tr>\n",
       "      <th>mean</th>\n",
       "      <td>2.761823</td>\n",
       "      <td>0.468230</td>\n",
       "      <td>0.214080</td>\n",
       "      <td>0.092062</td>\n",
       "      <td>0.049262</td>\n",
       "      <td>2.255103</td>\n",
       "      <td>-0.103750</td>\n",
       "      <td>0.0</td>\n",
       "      <td>0.056423</td>\n",
       "      <td>0.021231</td>\n",
       "      <td>0.233778</td>\n",
       "      <td>0.275709</td>\n",
       "      <td>0.660311</td>\n",
       "      <td>30.077079</td>\n",
       "      <td>5716.598242</td>\n",
       "      <td>178.754564</td>\n",
       "      <td>4.960649</td>\n",
       "      <td>0.172864</td>\n",
       "      <td>0.101221</td>\n",
       "      <td>3697.000000</td>\n",
       "    </tr>\n",
       "    <tr>\n",
       "      <th>std</th>\n",
       "      <td>8.619793</td>\n",
       "      <td>0.203133</td>\n",
       "      <td>0.146743</td>\n",
       "      <td>0.095978</td>\n",
       "      <td>0.072629</td>\n",
       "      <td>5.704313</td>\n",
       "      <td>0.306545</td>\n",
       "      <td>0.0</td>\n",
       "      <td>0.041446</td>\n",
       "      <td>0.144162</td>\n",
       "      <td>0.052487</td>\n",
       "      <td>1.919320</td>\n",
       "      <td>0.473636</td>\n",
       "      <td>20.393101</td>\n",
       "      <td>8875.432430</td>\n",
       "      <td>179.466198</td>\n",
       "      <td>3.233111</td>\n",
       "      <td>0.183286</td>\n",
       "      <td>0.079231</td>\n",
       "      <td>2134.896953</td>\n",
       "    </tr>\n",
       "    <tr>\n",
       "      <th>min</th>\n",
       "      <td>0.000000</td>\n",
       "      <td>0.000000</td>\n",
       "      <td>0.000000</td>\n",
       "      <td>0.000000</td>\n",
       "      <td>0.000000</td>\n",
       "      <td>0.000000</td>\n",
       "      <td>-1.000000</td>\n",
       "      <td>0.0</td>\n",
       "      <td>0.000000</td>\n",
       "      <td>0.000000</td>\n",
       "      <td>0.045564</td>\n",
       "      <td>-1.000000</td>\n",
       "      <td>0.000000</td>\n",
       "      <td>0.000000</td>\n",
       "      <td>0.000000</td>\n",
       "      <td>1.000000</td>\n",
       "      <td>0.000000</td>\n",
       "      <td>0.000000</td>\n",
       "      <td>0.000000</td>\n",
       "      <td>0.000000</td>\n",
       "    </tr>\n",
       "    <tr>\n",
       "      <th>25%</th>\n",
       "      <td>1.602062</td>\n",
       "      <td>0.340370</td>\n",
       "      <td>0.105263</td>\n",
       "      <td>0.022222</td>\n",
       "      <td>0.000000</td>\n",
       "      <td>0.442616</td>\n",
       "      <td>0.000000</td>\n",
       "      <td>0.0</td>\n",
       "      <td>0.028502</td>\n",
       "      <td>0.000000</td>\n",
       "      <td>0.201061</td>\n",
       "      <td>0.025900</td>\n",
       "      <td>0.000000</td>\n",
       "      <td>14.000000</td>\n",
       "      <td>1579.000000</td>\n",
       "      <td>82.000000</td>\n",
       "      <td>3.000000</td>\n",
       "      <td>0.040984</td>\n",
       "      <td>0.068739</td>\n",
       "      <td>1848.500000</td>\n",
       "    </tr>\n",
       "    <tr>\n",
       "      <th>50%</th>\n",
       "      <td>2.088235</td>\n",
       "      <td>0.481481</td>\n",
       "      <td>0.202454</td>\n",
       "      <td>0.068627</td>\n",
       "      <td>0.022222</td>\n",
       "      <td>0.483680</td>\n",
       "      <td>0.000000</td>\n",
       "      <td>0.0</td>\n",
       "      <td>0.045775</td>\n",
       "      <td>0.000000</td>\n",
       "      <td>0.230564</td>\n",
       "      <td>0.083051</td>\n",
       "      <td>1.000000</td>\n",
       "      <td>25.000000</td>\n",
       "      <td>3500.000000</td>\n",
       "      <td>139.000000</td>\n",
       "      <td>5.000000</td>\n",
       "      <td>0.113402</td>\n",
       "      <td>0.089312</td>\n",
       "      <td>3697.000000</td>\n",
       "    </tr>\n",
       "    <tr>\n",
       "      <th>75%</th>\n",
       "      <td>2.627451</td>\n",
       "      <td>0.616604</td>\n",
       "      <td>0.300000</td>\n",
       "      <td>0.133333</td>\n",
       "      <td>0.065065</td>\n",
       "      <td>0.578227</td>\n",
       "      <td>0.000000</td>\n",
       "      <td>0.0</td>\n",
       "      <td>0.073459</td>\n",
       "      <td>0.000000</td>\n",
       "      <td>0.260770</td>\n",
       "      <td>0.236700</td>\n",
       "      <td>1.000000</td>\n",
       "      <td>43.000000</td>\n",
       "      <td>6377.000000</td>\n",
       "      <td>222.000000</td>\n",
       "      <td>7.000000</td>\n",
       "      <td>0.241299</td>\n",
       "      <td>0.112376</td>\n",
       "      <td>5545.500000</td>\n",
       "    </tr>\n",
       "    <tr>\n",
       "      <th>max</th>\n",
       "      <td>363.000000</td>\n",
       "      <td>1.000000</td>\n",
       "      <td>1.000000</td>\n",
       "      <td>0.980392</td>\n",
       "      <td>0.980392</td>\n",
       "      <td>21.000000</td>\n",
       "      <td>0.250000</td>\n",
       "      <td>0.0</td>\n",
       "      <td>0.444444</td>\n",
       "      <td>1.000000</td>\n",
       "      <td>0.716883</td>\n",
       "      <td>113.333333</td>\n",
       "      <td>1.000000</td>\n",
       "      <td>100.000000</td>\n",
       "      <td>207952.000000</td>\n",
       "      <td>4997.000000</td>\n",
       "      <td>22.000000</td>\n",
       "      <td>1.000000</td>\n",
       "      <td>1.000000</td>\n",
       "      <td>7394.000000</td>\n",
       "    </tr>\n",
       "  </tbody>\n",
       "</table>\n",
       "</div>"
      ],
      "text/plain": [
       "       avgLinkWordLength  AvglinkWithOneCommonWord  AvglinkWithTwoCommonWord  \\\n",
       "count        7395.000000               7395.000000               7395.000000   \n",
       "mean            2.761823                  0.468230                  0.214080   \n",
       "std             8.619793                  0.203133                  0.146743   \n",
       "min             0.000000                  0.000000                  0.000000   \n",
       "25%             1.602062                  0.340370                  0.105263   \n",
       "50%             2.088235                  0.481481                  0.202454   \n",
       "75%             2.627451                  0.616604                  0.300000   \n",
       "max           363.000000                  1.000000                  1.000000   \n",
       "\n",
       "       AvglinkWithThreeCommonWord  AvglinkWithFourCommonWord  \\\n",
       "count                 7395.000000                7395.000000   \n",
       "mean                     0.092062                   0.049262   \n",
       "std                      0.095978                   0.072629   \n",
       "min                      0.000000                   0.000000   \n",
       "25%                      0.022222                   0.000000   \n",
       "50%                      0.068627                   0.022222   \n",
       "75%                      0.133333                   0.065065   \n",
       "max                      0.980392                   0.980392   \n",
       "\n",
       "       redundancyMeasure   embedRatio  framebased  frameTagRatio   domainLink  \\\n",
       "count        7395.000000  7395.000000      7395.0    7395.000000  7395.000000   \n",
       "mean            2.255103    -0.103750         0.0       0.056423     0.021231   \n",
       "std             5.704313     0.306545         0.0       0.041446     0.144162   \n",
       "min             0.000000    -1.000000         0.0       0.000000     0.000000   \n",
       "25%             0.442616     0.000000         0.0       0.028502     0.000000   \n",
       "50%             0.483680     0.000000         0.0       0.045775     0.000000   \n",
       "75%             0.578227     0.000000         0.0       0.073459     0.000000   \n",
       "max            21.000000     0.250000         0.0       0.444444     1.000000   \n",
       "\n",
       "          tagRatio  imageTagRatio  lengthyDomain  hyperlinkToAllWordsRatio  \\\n",
       "count  7395.000000    7395.000000    7395.000000               7395.000000   \n",
       "mean      0.233778       0.275709       0.660311                 30.077079   \n",
       "std       0.052487       1.919320       0.473636                 20.393101   \n",
       "min       0.045564      -1.000000       0.000000                  0.000000   \n",
       "25%       0.201061       0.025900       0.000000                 14.000000   \n",
       "50%       0.230564       0.083051       1.000000                 25.000000   \n",
       "75%       0.260770       0.236700       1.000000                 43.000000   \n",
       "max       0.716883     113.333333       1.000000                100.000000   \n",
       "\n",
       "       alphanumCharCount   linksCount    wordCount  parametrizedLinkRatio  \\\n",
       "count        7395.000000  7395.000000  7395.000000            7395.000000   \n",
       "mean         5716.598242   178.754564     4.960649               0.172864   \n",
       "std          8875.432430   179.466198     3.233111               0.183286   \n",
       "min             0.000000     1.000000     0.000000               0.000000   \n",
       "25%          1579.000000    82.000000     3.000000               0.040984   \n",
       "50%          3500.000000   139.000000     5.000000               0.113402   \n",
       "75%          6377.000000   222.000000     7.000000               0.241299   \n",
       "max        207952.000000  4997.000000    22.000000               1.000000   \n",
       "\n",
       "       spellingErrorsRatio           id  \n",
       "count          7395.000000  7395.000000  \n",
       "mean              0.101221  3697.000000  \n",
       "std               0.079231  2134.896953  \n",
       "min               0.000000     0.000000  \n",
       "25%               0.068739  1848.500000  \n",
       "50%               0.089312  3697.000000  \n",
       "75%               0.112376  5545.500000  \n",
       "max               1.000000  7394.000000  "
      ]
     },
     "execution_count": 36,
     "metadata": {},
     "output_type": "execute_result"
    }
   ],
   "source": [
    "data.describe()"
   ]
  },
  {
   "cell_type": "code",
   "execution_count": 37,
   "id": "0dab44b4",
   "metadata": {
    "ExecuteTime": {
     "end_time": "2021-11-07T15:09:45.094718Z",
     "start_time": "2021-11-07T15:09:45.075641Z"
    }
   },
   "outputs": [
    {
     "name": "stdout",
     "output_type": "stream",
     "text": [
      "Mean :  0.6033343166237881\n"
     ]
    },
    {
     "data": {
      "text/plain": [
       "0.6033343166237881    2342\n",
       "0.85                    82\n",
       "0.0784091               40\n",
       "0.849999                12\n",
       "0.535009                10\n",
       "                      ... \n",
       "0.362798                 1\n",
       "0.655718                 1\n",
       "0.591099                 1\n",
       "0.638071                 1\n",
       "0.764237                 1\n",
       "Name: alchemy_category_score, Length: 4806, dtype: int64"
      ]
     },
     "execution_count": 37,
     "metadata": {},
     "output_type": "execute_result"
    }
   ],
   "source": [
    "mean_list = []\n",
    "for val in data['alchemy_category_score']:\n",
    "    if(val != '?'):\n",
    "        val_float = float(val)\n",
    "        mean_list.append(val_float)\n",
    "    \n",
    "mean = sum(mean_list) / len(mean_list)      \n",
    "print(\"Mean : \", mean)\n",
    "data['alchemy_category_score'].replace('?', mean, inplace = True)\n",
    "data['alchemy_category_score'].value_counts() ##replaced '?' with mean"
   ]
  },
  {
   "cell_type": "code",
   "execution_count": 38,
   "id": "b763a5f8",
   "metadata": {
    "ExecuteTime": {
     "end_time": "2021-11-07T15:09:45.530341Z",
     "start_time": "2021-11-07T15:09:45.513364Z"
    }
   },
   "outputs": [
    {
     "data": {
      "text/html": [
       "<div>\n",
       "<style scoped>\n",
       "    .dataframe tbody tr th:only-of-type {\n",
       "        vertical-align: middle;\n",
       "    }\n",
       "\n",
       "    .dataframe tbody tr th {\n",
       "        vertical-align: top;\n",
       "    }\n",
       "\n",
       "    .dataframe thead th {\n",
       "        text-align: right;\n",
       "    }\n",
       "</style>\n",
       "<table border=\"1\" class=\"dataframe\">\n",
       "  <thead>\n",
       "    <tr style=\"text-align: right;\">\n",
       "      <th></th>\n",
       "      <th>url</th>\n",
       "      <th>webpageDescription</th>\n",
       "      <th>alchemy_category</th>\n",
       "      <th>alchemy_category_score</th>\n",
       "      <th>avgLinkWordLength</th>\n",
       "      <th>AvglinkWithOneCommonWord</th>\n",
       "      <th>AvglinkWithTwoCommonWord</th>\n",
       "      <th>AvglinkWithThreeCommonWord</th>\n",
       "      <th>AvglinkWithFourCommonWord</th>\n",
       "      <th>redundancyMeasure</th>\n",
       "      <th>...</th>\n",
       "      <th>lengthyDomain</th>\n",
       "      <th>hyperlinkToAllWordsRatio</th>\n",
       "      <th>isFrontPageNews</th>\n",
       "      <th>alphanumCharCount</th>\n",
       "      <th>linksCount</th>\n",
       "      <th>wordCount</th>\n",
       "      <th>parametrizedLinkRatio</th>\n",
       "      <th>spellingErrorsRatio</th>\n",
       "      <th>label</th>\n",
       "      <th>id</th>\n",
       "    </tr>\n",
       "  </thead>\n",
       "  <tbody>\n",
       "    <tr>\n",
       "      <th>0</th>\n",
       "      <td>http://www.polyvore.com/cgi/home?id=1389651</td>\n",
       "      <td>{\"title\":\"Join Polyvore and follow the latest ...</td>\n",
       "      <td>other</td>\n",
       "      <td>0.603334</td>\n",
       "      <td>1.916667</td>\n",
       "      <td>0.047619</td>\n",
       "      <td>0.007937</td>\n",
       "      <td>0.0</td>\n",
       "      <td>0.0</td>\n",
       "      <td>0.803797</td>\n",
       "      <td>...</td>\n",
       "      <td>0</td>\n",
       "      <td>34</td>\n",
       "      <td>0</td>\n",
       "      <td>682</td>\n",
       "      <td>126</td>\n",
       "      <td>1</td>\n",
       "      <td>0.531746</td>\n",
       "      <td>0.142857</td>\n",
       "      <td>1</td>\n",
       "      <td>3711</td>\n",
       "    </tr>\n",
       "    <tr>\n",
       "      <th>1</th>\n",
       "      <td>http://www.youtube.com/watch?v=ippMPPu6gh4</td>\n",
       "      <td>{\"body\":\"Speed Air Man--David Belle david bell...</td>\n",
       "      <td>other</td>\n",
       "      <td>0.603334</td>\n",
       "      <td>1.257576</td>\n",
       "      <td>0.141026</td>\n",
       "      <td>0.000000</td>\n",
       "      <td>0.0</td>\n",
       "      <td>0.0</td>\n",
       "      <td>1.142857</td>\n",
       "      <td>...</td>\n",
       "      <td>0</td>\n",
       "      <td>12</td>\n",
       "      <td>0</td>\n",
       "      <td>3008</td>\n",
       "      <td>78</td>\n",
       "      <td>1</td>\n",
       "      <td>0.628205</td>\n",
       "      <td>0.000000</td>\n",
       "      <td>1</td>\n",
       "      <td>7222</td>\n",
       "    </tr>\n",
       "  </tbody>\n",
       "</table>\n",
       "<p>2 rows × 27 columns</p>\n",
       "</div>"
      ],
      "text/plain": [
       "                                           url  \\\n",
       "0  http://www.polyvore.com/cgi/home?id=1389651   \n",
       "1   http://www.youtube.com/watch?v=ippMPPu6gh4   \n",
       "\n",
       "                                  webpageDescription alchemy_category  \\\n",
       "0  {\"title\":\"Join Polyvore and follow the latest ...            other   \n",
       "1  {\"body\":\"Speed Air Man--David Belle david bell...            other   \n",
       "\n",
       "  alchemy_category_score  avgLinkWordLength  AvglinkWithOneCommonWord  \\\n",
       "0               0.603334           1.916667                  0.047619   \n",
       "1               0.603334           1.257576                  0.141026   \n",
       "\n",
       "   AvglinkWithTwoCommonWord  AvglinkWithThreeCommonWord  \\\n",
       "0                  0.007937                         0.0   \n",
       "1                  0.000000                         0.0   \n",
       "\n",
       "   AvglinkWithFourCommonWord  redundancyMeasure  ...  lengthyDomain  \\\n",
       "0                        0.0           0.803797  ...              0   \n",
       "1                        0.0           1.142857  ...              0   \n",
       "\n",
       "   hyperlinkToAllWordsRatio  isFrontPageNews  alphanumCharCount  linksCount  \\\n",
       "0                        34                0                682         126   \n",
       "1                        12                0               3008          78   \n",
       "\n",
       "   wordCount parametrizedLinkRatio  spellingErrorsRatio  label    id  \n",
       "0          1              0.531746             0.142857      1  3711  \n",
       "1          1              0.628205             0.000000      1  7222  \n",
       "\n",
       "[2 rows x 27 columns]"
      ]
     },
     "execution_count": 38,
     "metadata": {},
     "output_type": "execute_result"
    }
   ],
   "source": [
    "data.head(2)"
   ]
  },
  {
   "cell_type": "code",
   "execution_count": 39,
   "id": "4e2637c6",
   "metadata": {
    "ExecuteTime": {
     "end_time": "2021-11-07T15:09:45.937832Z",
     "start_time": "2021-11-07T15:09:45.930551Z"
    }
   },
   "outputs": [
    {
     "data": {
      "text/plain": [
       "1    4552\n",
       "0    2843\n",
       "Name: isNews, dtype: int64"
      ]
     },
     "execution_count": 39,
     "metadata": {},
     "output_type": "execute_result"
    }
   ],
   "source": [
    "#Added 0s in place of '?'\n",
    "data['isNews'].replace('?', 0, inplace = True)\n",
    "data['isNews'].value_counts()"
   ]
  },
  {
   "cell_type": "code",
   "execution_count": 40,
   "id": "2fbb3733",
   "metadata": {
    "ExecuteTime": {
     "end_time": "2021-11-07T15:09:46.304187Z",
     "start_time": "2021-11-07T15:09:46.297758Z"
    }
   },
   "outputs": [
    {
     "name": "stdout",
     "output_type": "stream",
     "text": [
      "Mean :  0.0010218378611992138\n"
     ]
    }
   ],
   "source": [
    "mean_list = []\n",
    "for val in data['embedRatio']:\n",
    "    if(val != -1):\n",
    "        val_float = float(val)\n",
    "        mean_list.append(val_float)\n",
    "    \n",
    "mean = sum(mean_list) / len(mean_list)      \n",
    "print(\"Mean : \", mean)\n",
    "# data['alchemy_category_score'].replace('?', mean, inplace = True)\n",
    "# data['alchemy_category_score'].value_counts() ##replaced '?' with mean"
   ]
  },
  {
   "cell_type": "code",
   "execution_count": 41,
   "id": "b9d95dd1",
   "metadata": {
    "ExecuteTime": {
     "end_time": "2021-11-07T15:09:46.711760Z",
     "start_time": "2021-11-07T15:09:46.705535Z"
    }
   },
   "outputs": [
    {
     "data": {
      "text/plain": [
       "0.000000    6138\n",
       "0.001022     774\n",
       "0.027778       6\n",
       "0.028571       6\n",
       "0.011364       5\n",
       "            ... \n",
       "0.012618       1\n",
       "0.001397       1\n",
       "0.010638       1\n",
       "0.001311       1\n",
       "0.005650       1\n",
       "Name: embedRatio, Length: 366, dtype: int64"
      ]
     },
     "execution_count": 41,
     "metadata": {},
     "output_type": "execute_result"
    }
   ],
   "source": [
    "#replaced -1 with mean\n",
    "data['embedRatio'].replace(-1, mean, inplace = True)\n",
    "data['embedRatio'].value_counts()"
   ]
  },
  {
   "cell_type": "code",
   "execution_count": 42,
   "id": "58ebafea",
   "metadata": {
    "ExecuteTime": {
     "end_time": "2021-11-07T15:09:47.077246Z",
     "start_time": "2021-11-07T15:09:47.070289Z"
    }
   },
   "outputs": [
    {
     "name": "stdout",
     "output_type": "stream",
     "text": [
      "Mean :  0.4069900568711415\n"
     ]
    }
   ],
   "source": [
    "mean_list = []\n",
    "for val in data['imageTagRatio']:\n",
    "    if(val != -1):\n",
    "        val_float = float(val)\n",
    "        mean_list.append(val_float)\n",
    "    \n",
    "mean = sum(mean_list) / len(mean_list)      \n",
    "print(\"Mean : \", mean)\n"
   ]
  },
  {
   "cell_type": "code",
   "execution_count": 43,
   "id": "1cce42fa",
   "metadata": {
    "ExecuteTime": {
     "end_time": "2021-11-07T15:09:47.443188Z",
     "start_time": "2021-11-07T15:09:47.432426Z"
    }
   },
   "outputs": [
    {
     "data": {
      "text/plain": [
       "0.406990    690\n",
       "0.000000     40\n",
       "0.724138     35\n",
       "0.333333     23\n",
       "0.250000     19\n",
       "           ... \n",
       "0.033573      1\n",
       "0.262295      1\n",
       "0.051213      1\n",
       "0.027972      1\n",
       "0.014493      1\n",
       "Name: imageTagRatio, Length: 5418, dtype: int64"
      ]
     },
     "execution_count": 43,
     "metadata": {},
     "output_type": "execute_result"
    }
   ],
   "source": [
    "#replaced -1 with mean\n",
    "data['imageTagRatio'].replace(-1, mean, inplace = True)\n",
    "data['imageTagRatio'].value_counts()"
   ]
  },
  {
   "cell_type": "markdown",
   "id": "7a86f4b3",
   "metadata": {
    "ExecuteTime": {
     "end_time": "2021-11-06T12:46:41.015027Z",
     "start_time": "2021-11-06T12:46:41.012549Z"
    }
   },
   "source": [
    "Pending Tasks:\n",
    "high spelling error ratios. \n",
    "convert alchemy_cat to encoding"
   ]
  },
  {
   "cell_type": "code",
   "execution_count": null,
   "id": "e3f6b5e0",
   "metadata": {},
   "outputs": [],
   "source": []
  },
  {
   "cell_type": "code",
   "execution_count": null,
   "id": "e29b8358",
   "metadata": {},
   "outputs": [],
   "source": []
  },
  {
   "cell_type": "code",
   "execution_count": null,
   "id": "e1a7a3d0",
   "metadata": {},
   "outputs": [],
   "source": []
  },
  {
   "cell_type": "code",
   "execution_count": null,
   "id": "b8741306",
   "metadata": {},
   "outputs": [],
   "source": []
  },
  {
   "cell_type": "markdown",
   "id": "e278f907",
   "metadata": {},
   "source": [
    "# Work on text data"
   ]
  },
  {
   "cell_type": "code",
   "execution_count": 44,
   "id": "e4fb9add",
   "metadata": {
    "ExecuteTime": {
     "end_time": "2021-11-07T15:09:49.590395Z",
     "start_time": "2021-11-07T15:09:49.570880Z"
    }
   },
   "outputs": [
    {
     "data": {
      "text/html": [
       "<div>\n",
       "<style scoped>\n",
       "    .dataframe tbody tr th:only-of-type {\n",
       "        vertical-align: middle;\n",
       "    }\n",
       "\n",
       "    .dataframe tbody tr th {\n",
       "        vertical-align: top;\n",
       "    }\n",
       "\n",
       "    .dataframe thead th {\n",
       "        text-align: right;\n",
       "    }\n",
       "</style>\n",
       "<table border=\"1\" class=\"dataframe\">\n",
       "  <thead>\n",
       "    <tr style=\"text-align: right;\">\n",
       "      <th></th>\n",
       "      <th>url</th>\n",
       "      <th>webpageDescription</th>\n",
       "      <th>alchemy_category</th>\n",
       "      <th>alchemy_category_score</th>\n",
       "      <th>avgLinkWordLength</th>\n",
       "      <th>AvglinkWithOneCommonWord</th>\n",
       "      <th>AvglinkWithTwoCommonWord</th>\n",
       "      <th>AvglinkWithThreeCommonWord</th>\n",
       "      <th>AvglinkWithFourCommonWord</th>\n",
       "      <th>redundancyMeasure</th>\n",
       "      <th>...</th>\n",
       "      <th>lengthyDomain</th>\n",
       "      <th>hyperlinkToAllWordsRatio</th>\n",
       "      <th>isFrontPageNews</th>\n",
       "      <th>alphanumCharCount</th>\n",
       "      <th>linksCount</th>\n",
       "      <th>wordCount</th>\n",
       "      <th>parametrizedLinkRatio</th>\n",
       "      <th>spellingErrorsRatio</th>\n",
       "      <th>label</th>\n",
       "      <th>id</th>\n",
       "    </tr>\n",
       "  </thead>\n",
       "  <tbody>\n",
       "    <tr>\n",
       "      <th>0</th>\n",
       "      <td>http://www.polyvore.com/cgi/home?id=1389651</td>\n",
       "      <td>{\"title\":\"Join Polyvore and follow the latest ...</td>\n",
       "      <td>other</td>\n",
       "      <td>0.603334</td>\n",
       "      <td>1.916667</td>\n",
       "      <td>0.047619</td>\n",
       "      <td>0.007937</td>\n",
       "      <td>0.000000</td>\n",
       "      <td>0.000000</td>\n",
       "      <td>0.803797</td>\n",
       "      <td>...</td>\n",
       "      <td>0</td>\n",
       "      <td>34</td>\n",
       "      <td>0</td>\n",
       "      <td>682</td>\n",
       "      <td>126</td>\n",
       "      <td>1</td>\n",
       "      <td>0.531746</td>\n",
       "      <td>0.142857</td>\n",
       "      <td>1</td>\n",
       "      <td>3711</td>\n",
       "    </tr>\n",
       "    <tr>\n",
       "      <th>1</th>\n",
       "      <td>http://www.youtube.com/watch?v=ippMPPu6gh4</td>\n",
       "      <td>{\"body\":\"Speed Air Man--David Belle david bell...</td>\n",
       "      <td>other</td>\n",
       "      <td>0.603334</td>\n",
       "      <td>1.257576</td>\n",
       "      <td>0.141026</td>\n",
       "      <td>0.000000</td>\n",
       "      <td>0.000000</td>\n",
       "      <td>0.000000</td>\n",
       "      <td>1.142857</td>\n",
       "      <td>...</td>\n",
       "      <td>0</td>\n",
       "      <td>12</td>\n",
       "      <td>0</td>\n",
       "      <td>3008</td>\n",
       "      <td>78</td>\n",
       "      <td>1</td>\n",
       "      <td>0.628205</td>\n",
       "      <td>0.000000</td>\n",
       "      <td>1</td>\n",
       "      <td>7222</td>\n",
       "    </tr>\n",
       "    <tr>\n",
       "      <th>2</th>\n",
       "      <td>http://www.musingsofahousewife.com/2011/03/tri...</td>\n",
       "      <td>{\"title\":\"Chicken Gruyere Recipe \",\"body\":\"Chi...</td>\n",
       "      <td>science_technology</td>\n",
       "      <td>0.386685</td>\n",
       "      <td>2.024000</td>\n",
       "      <td>0.630350</td>\n",
       "      <td>0.284047</td>\n",
       "      <td>0.233463</td>\n",
       "      <td>0.202335</td>\n",
       "      <td>0.443409</td>\n",
       "      <td>...</td>\n",
       "      <td>1</td>\n",
       "      <td>17</td>\n",
       "      <td>0</td>\n",
       "      <td>11008</td>\n",
       "      <td>257</td>\n",
       "      <td>5</td>\n",
       "      <td>0.466926</td>\n",
       "      <td>0.062500</td>\n",
       "      <td>1</td>\n",
       "      <td>3964</td>\n",
       "    </tr>\n",
       "    <tr>\n",
       "      <th>3</th>\n",
       "      <td>http://www.thelittleteochew.com/2011/07/ikan-b...</td>\n",
       "      <td>{\"title\":\"Ikan Bilis With Tempeh Groundnuts \",...</td>\n",
       "      <td>recreation</td>\n",
       "      <td>0.475039</td>\n",
       "      <td>1.665254</td>\n",
       "      <td>0.419580</td>\n",
       "      <td>0.199301</td>\n",
       "      <td>0.097902</td>\n",
       "      <td>0.066434</td>\n",
       "      <td>0.472649</td>\n",
       "      <td>...</td>\n",
       "      <td>1</td>\n",
       "      <td>28</td>\n",
       "      <td>0</td>\n",
       "      <td>4585</td>\n",
       "      <td>286</td>\n",
       "      <td>5</td>\n",
       "      <td>0.244755</td>\n",
       "      <td>0.085868</td>\n",
       "      <td>1</td>\n",
       "      <td>3697</td>\n",
       "    </tr>\n",
       "    <tr>\n",
       "      <th>4</th>\n",
       "      <td>http://recipes.wuzzle.org/index.php/72</td>\n",
       "      <td>{\"url\":\"recipes wuzzle org index php 72\",\"titl...</td>\n",
       "      <td>computer_internet</td>\n",
       "      <td>0.535009</td>\n",
       "      <td>0.181818</td>\n",
       "      <td>0.036364</td>\n",
       "      <td>0.000000</td>\n",
       "      <td>0.000000</td>\n",
       "      <td>0.000000</td>\n",
       "      <td>0.292614</td>\n",
       "      <td>...</td>\n",
       "      <td>0</td>\n",
       "      <td>3</td>\n",
       "      <td>0</td>\n",
       "      <td>1745</td>\n",
       "      <td>55</td>\n",
       "      <td>1</td>\n",
       "      <td>0.072727</td>\n",
       "      <td>0.115044</td>\n",
       "      <td>1</td>\n",
       "      <td>4321</td>\n",
       "    </tr>\n",
       "  </tbody>\n",
       "</table>\n",
       "<p>5 rows × 27 columns</p>\n",
       "</div>"
      ],
      "text/plain": [
       "                                                 url  \\\n",
       "0        http://www.polyvore.com/cgi/home?id=1389651   \n",
       "1         http://www.youtube.com/watch?v=ippMPPu6gh4   \n",
       "2  http://www.musingsofahousewife.com/2011/03/tri...   \n",
       "3  http://www.thelittleteochew.com/2011/07/ikan-b...   \n",
       "4             http://recipes.wuzzle.org/index.php/72   \n",
       "\n",
       "                                  webpageDescription    alchemy_category  \\\n",
       "0  {\"title\":\"Join Polyvore and follow the latest ...               other   \n",
       "1  {\"body\":\"Speed Air Man--David Belle david bell...               other   \n",
       "2  {\"title\":\"Chicken Gruyere Recipe \",\"body\":\"Chi...  science_technology   \n",
       "3  {\"title\":\"Ikan Bilis With Tempeh Groundnuts \",...          recreation   \n",
       "4  {\"url\":\"recipes wuzzle org index php 72\",\"titl...   computer_internet   \n",
       "\n",
       "  alchemy_category_score  avgLinkWordLength  AvglinkWithOneCommonWord  \\\n",
       "0               0.603334           1.916667                  0.047619   \n",
       "1               0.603334           1.257576                  0.141026   \n",
       "2               0.386685           2.024000                  0.630350   \n",
       "3               0.475039           1.665254                  0.419580   \n",
       "4               0.535009           0.181818                  0.036364   \n",
       "\n",
       "   AvglinkWithTwoCommonWord  AvglinkWithThreeCommonWord  \\\n",
       "0                  0.007937                    0.000000   \n",
       "1                  0.000000                    0.000000   \n",
       "2                  0.284047                    0.233463   \n",
       "3                  0.199301                    0.097902   \n",
       "4                  0.000000                    0.000000   \n",
       "\n",
       "   AvglinkWithFourCommonWord  redundancyMeasure  ...  lengthyDomain  \\\n",
       "0                   0.000000           0.803797  ...              0   \n",
       "1                   0.000000           1.142857  ...              0   \n",
       "2                   0.202335           0.443409  ...              1   \n",
       "3                   0.066434           0.472649  ...              1   \n",
       "4                   0.000000           0.292614  ...              0   \n",
       "\n",
       "   hyperlinkToAllWordsRatio  isFrontPageNews  alphanumCharCount  linksCount  \\\n",
       "0                        34                0                682         126   \n",
       "1                        12                0               3008          78   \n",
       "2                        17                0              11008         257   \n",
       "3                        28                0               4585         286   \n",
       "4                         3                0               1745          55   \n",
       "\n",
       "   wordCount parametrizedLinkRatio  spellingErrorsRatio  label    id  \n",
       "0          1              0.531746             0.142857      1  3711  \n",
       "1          1              0.628205             0.000000      1  7222  \n",
       "2          5              0.466926             0.062500      1  3964  \n",
       "3          5              0.244755             0.085868      1  3697  \n",
       "4          1              0.072727             0.115044      1  4321  \n",
       "\n",
       "[5 rows x 27 columns]"
      ]
     },
     "execution_count": 44,
     "metadata": {},
     "output_type": "execute_result"
    }
   ],
   "source": [
    "data.head()"
   ]
  },
  {
   "cell_type": "code",
   "execution_count": 45,
   "id": "1b6bd1b9",
   "metadata": {
    "ExecuteTime": {
     "end_time": "2021-11-07T15:09:49.975806Z",
     "start_time": "2021-11-07T15:09:49.969961Z"
    },
    "scrolled": true
   },
   "outputs": [
    {
     "data": {
      "text/plain": [
       "0       {\"title\":\"Join Polyvore and follow the latest ...\n",
       "1       {\"body\":\"Speed Air Man--David Belle david bell...\n",
       "2       {\"title\":\"Chicken Gruyere Recipe \",\"body\":\"Chi...\n",
       "3       {\"title\":\"Ikan Bilis With Tempeh Groundnuts \",...\n",
       "4       {\"url\":\"recipes wuzzle org index php 72\",\"titl...\n",
       "                              ...                        \n",
       "7390    {\"title\":\" \",\"body\":\" \",\"url\":\"lanascooking 20...\n",
       "7391    {\"title\":\"Billy s Chocolate Buttercream Martha...\n",
       "7392    {\"url\":\"laweekly bestof 2011 award best belly ...\n",
       "7393    {\"title\":\"Buffalo Chicken Burgers recipe buffa...\n",
       "7394    {\"title\":\"canarygirl com Sirloin with Pepperco...\n",
       "Name: webpageDescription, Length: 7395, dtype: object"
      ]
     },
     "execution_count": 45,
     "metadata": {},
     "output_type": "execute_result"
    }
   ],
   "source": [
    "x = data['webpageDescription']\n",
    "x"
   ]
  },
  {
   "cell_type": "code",
   "execution_count": null,
   "id": "ca187f5c",
   "metadata": {
    "ExecuteTime": {
     "end_time": "2021-11-07T13:18:05.959528Z",
     "start_time": "2021-11-07T13:18:05.957675Z"
    }
   },
   "outputs": [],
   "source": []
  },
  {
   "cell_type": "code",
   "execution_count": 46,
   "id": "e71822ad",
   "metadata": {
    "ExecuteTime": {
     "end_time": "2021-11-07T15:09:51.816647Z",
     "start_time": "2021-11-07T15:09:51.769777Z"
    }
   },
   "outputs": [],
   "source": [
    "title=[]\n",
    "body=[]\n",
    "for i in x:\n",
    "    dict1 = json.loads(i)\n",
    "    if \"title\" not in dict1:\n",
    "        title.append(None)\n",
    "    else:\n",
    "        title.append(dict1[\"title\"])\n",
    "    body.append(dict1[\"body\"])"
   ]
  },
  {
   "cell_type": "code",
   "execution_count": 47,
   "id": "cfd3e3e0",
   "metadata": {
    "ExecuteTime": {
     "end_time": "2021-11-07T15:09:52.278925Z",
     "start_time": "2021-11-07T15:09:52.250108Z"
    }
   },
   "outputs": [
    {
     "data": {
      "text/html": [
       "<div>\n",
       "<style scoped>\n",
       "    .dataframe tbody tr th:only-of-type {\n",
       "        vertical-align: middle;\n",
       "    }\n",
       "\n",
       "    .dataframe tbody tr th {\n",
       "        vertical-align: top;\n",
       "    }\n",
       "\n",
       "    .dataframe thead th {\n",
       "        text-align: right;\n",
       "    }\n",
       "</style>\n",
       "<table border=\"1\" class=\"dataframe\">\n",
       "  <thead>\n",
       "    <tr style=\"text-align: right;\">\n",
       "      <th></th>\n",
       "      <th>url</th>\n",
       "      <th>webpageDescription</th>\n",
       "      <th>alchemy_category</th>\n",
       "      <th>alchemy_category_score</th>\n",
       "      <th>avgLinkWordLength</th>\n",
       "      <th>AvglinkWithOneCommonWord</th>\n",
       "      <th>AvglinkWithTwoCommonWord</th>\n",
       "      <th>AvglinkWithThreeCommonWord</th>\n",
       "      <th>AvglinkWithFourCommonWord</th>\n",
       "      <th>redundancyMeasure</th>\n",
       "      <th>...</th>\n",
       "      <th>hyperlinkToAllWordsRatio</th>\n",
       "      <th>isFrontPageNews</th>\n",
       "      <th>alphanumCharCount</th>\n",
       "      <th>linksCount</th>\n",
       "      <th>wordCount</th>\n",
       "      <th>parametrizedLinkRatio</th>\n",
       "      <th>spellingErrorsRatio</th>\n",
       "      <th>label</th>\n",
       "      <th>id</th>\n",
       "      <th>title</th>\n",
       "    </tr>\n",
       "  </thead>\n",
       "  <tbody>\n",
       "    <tr>\n",
       "      <th>0</th>\n",
       "      <td>http://www.polyvore.com/cgi/home?id=1389651</td>\n",
       "      <td>{\"title\":\"Join Polyvore and follow the latest ...</td>\n",
       "      <td>other</td>\n",
       "      <td>0.603334</td>\n",
       "      <td>1.916667</td>\n",
       "      <td>0.047619</td>\n",
       "      <td>0.007937</td>\n",
       "      <td>0.0</td>\n",
       "      <td>0.0</td>\n",
       "      <td>0.803797</td>\n",
       "      <td>...</td>\n",
       "      <td>34</td>\n",
       "      <td>0</td>\n",
       "      <td>682</td>\n",
       "      <td>126</td>\n",
       "      <td>1</td>\n",
       "      <td>0.531746</td>\n",
       "      <td>0.142857</td>\n",
       "      <td>1</td>\n",
       "      <td>3711</td>\n",
       "      <td>Join Polyvore and follow the latest styles</td>\n",
       "    </tr>\n",
       "    <tr>\n",
       "      <th>1</th>\n",
       "      <td>http://www.youtube.com/watch?v=ippMPPu6gh4</td>\n",
       "      <td>{\"body\":\"Speed Air Man--David Belle david bell...</td>\n",
       "      <td>other</td>\n",
       "      <td>0.603334</td>\n",
       "      <td>1.257576</td>\n",
       "      <td>0.141026</td>\n",
       "      <td>0.000000</td>\n",
       "      <td>0.0</td>\n",
       "      <td>0.0</td>\n",
       "      <td>1.142857</td>\n",
       "      <td>...</td>\n",
       "      <td>12</td>\n",
       "      <td>0</td>\n",
       "      <td>3008</td>\n",
       "      <td>78</td>\n",
       "      <td>1</td>\n",
       "      <td>0.628205</td>\n",
       "      <td>0.000000</td>\n",
       "      <td>1</td>\n",
       "      <td>7222</td>\n",
       "      <td>Speed Air Man--David Belle</td>\n",
       "    </tr>\n",
       "  </tbody>\n",
       "</table>\n",
       "<p>2 rows × 28 columns</p>\n",
       "</div>"
      ],
      "text/plain": [
       "                                           url  \\\n",
       "0  http://www.polyvore.com/cgi/home?id=1389651   \n",
       "1   http://www.youtube.com/watch?v=ippMPPu6gh4   \n",
       "\n",
       "                                  webpageDescription alchemy_category  \\\n",
       "0  {\"title\":\"Join Polyvore and follow the latest ...            other   \n",
       "1  {\"body\":\"Speed Air Man--David Belle david bell...            other   \n",
       "\n",
       "  alchemy_category_score  avgLinkWordLength  AvglinkWithOneCommonWord  \\\n",
       "0               0.603334           1.916667                  0.047619   \n",
       "1               0.603334           1.257576                  0.141026   \n",
       "\n",
       "   AvglinkWithTwoCommonWord  AvglinkWithThreeCommonWord  \\\n",
       "0                  0.007937                         0.0   \n",
       "1                  0.000000                         0.0   \n",
       "\n",
       "   AvglinkWithFourCommonWord  redundancyMeasure  ...  \\\n",
       "0                        0.0           0.803797  ...   \n",
       "1                        0.0           1.142857  ...   \n",
       "\n",
       "   hyperlinkToAllWordsRatio  isFrontPageNews  alphanumCharCount  linksCount  \\\n",
       "0                        34                0                682         126   \n",
       "1                        12                0               3008          78   \n",
       "\n",
       "   wordCount  parametrizedLinkRatio spellingErrorsRatio  label    id  \\\n",
       "0          1               0.531746            0.142857      1  3711   \n",
       "1          1               0.628205            0.000000      1  7222   \n",
       "\n",
       "                                         title  \n",
       "0  Join Polyvore and follow the latest styles   \n",
       "1                   Speed Air Man--David Belle  \n",
       "\n",
       "[2 rows x 28 columns]"
      ]
     },
     "execution_count": 47,
     "metadata": {},
     "output_type": "execute_result"
    }
   ],
   "source": [
    "data['title'] = pd.DataFrame({'title':title})\n",
    "(data.head(2))"
   ]
  },
  {
   "cell_type": "code",
   "execution_count": 48,
   "id": "5ce9ed70",
   "metadata": {
    "ExecuteTime": {
     "end_time": "2021-11-07T15:09:52.482381Z",
     "start_time": "2021-11-07T15:09:52.480503Z"
    }
   },
   "outputs": [],
   "source": [
    "# body = []\n",
    "# for val in x_list:\n",
    "#     x = json.loads(val)\n",
    "#     body.append(x['body'])"
   ]
  },
  {
   "cell_type": "code",
   "execution_count": 49,
   "id": "7c5b2d51",
   "metadata": {
    "ExecuteTime": {
     "end_time": "2021-11-07T15:09:52.702923Z",
     "start_time": "2021-11-07T15:09:52.686807Z"
    }
   },
   "outputs": [
    {
     "data": {
      "text/html": [
       "<div>\n",
       "<style scoped>\n",
       "    .dataframe tbody tr th:only-of-type {\n",
       "        vertical-align: middle;\n",
       "    }\n",
       "\n",
       "    .dataframe tbody tr th {\n",
       "        vertical-align: top;\n",
       "    }\n",
       "\n",
       "    .dataframe thead th {\n",
       "        text-align: right;\n",
       "    }\n",
       "</style>\n",
       "<table border=\"1\" class=\"dataframe\">\n",
       "  <thead>\n",
       "    <tr style=\"text-align: right;\">\n",
       "      <th></th>\n",
       "      <th>url</th>\n",
       "      <th>webpageDescription</th>\n",
       "      <th>alchemy_category</th>\n",
       "      <th>alchemy_category_score</th>\n",
       "      <th>avgLinkWordLength</th>\n",
       "      <th>AvglinkWithOneCommonWord</th>\n",
       "      <th>AvglinkWithTwoCommonWord</th>\n",
       "      <th>AvglinkWithThreeCommonWord</th>\n",
       "      <th>AvglinkWithFourCommonWord</th>\n",
       "      <th>redundancyMeasure</th>\n",
       "      <th>...</th>\n",
       "      <th>isFrontPageNews</th>\n",
       "      <th>alphanumCharCount</th>\n",
       "      <th>linksCount</th>\n",
       "      <th>wordCount</th>\n",
       "      <th>parametrizedLinkRatio</th>\n",
       "      <th>spellingErrorsRatio</th>\n",
       "      <th>label</th>\n",
       "      <th>id</th>\n",
       "      <th>title</th>\n",
       "      <th>body</th>\n",
       "    </tr>\n",
       "  </thead>\n",
       "  <tbody>\n",
       "    <tr>\n",
       "      <th>0</th>\n",
       "      <td>http://www.polyvore.com/cgi/home?id=1389651</td>\n",
       "      <td>{\"title\":\"Join Polyvore and follow the latest ...</td>\n",
       "      <td>other</td>\n",
       "      <td>0.603334</td>\n",
       "      <td>1.916667</td>\n",
       "      <td>0.047619</td>\n",
       "      <td>0.007937</td>\n",
       "      <td>0.000000</td>\n",
       "      <td>0.000000</td>\n",
       "      <td>0.803797</td>\n",
       "      <td>...</td>\n",
       "      <td>0</td>\n",
       "      <td>682</td>\n",
       "      <td>126</td>\n",
       "      <td>1</td>\n",
       "      <td>0.531746</td>\n",
       "      <td>0.142857</td>\n",
       "      <td>1</td>\n",
       "      <td>3711</td>\n",
       "      <td>Join Polyvore and follow the latest styles</td>\n",
       "      <td>polyvore is the best place to discover or sta...</td>\n",
       "    </tr>\n",
       "    <tr>\n",
       "      <th>1</th>\n",
       "      <td>http://www.youtube.com/watch?v=ippMPPu6gh4</td>\n",
       "      <td>{\"body\":\"Speed Air Man--David Belle david bell...</td>\n",
       "      <td>other</td>\n",
       "      <td>0.603334</td>\n",
       "      <td>1.257576</td>\n",
       "      <td>0.141026</td>\n",
       "      <td>0.000000</td>\n",
       "      <td>0.000000</td>\n",
       "      <td>0.000000</td>\n",
       "      <td>1.142857</td>\n",
       "      <td>...</td>\n",
       "      <td>0</td>\n",
       "      <td>3008</td>\n",
       "      <td>78</td>\n",
       "      <td>1</td>\n",
       "      <td>0.628205</td>\n",
       "      <td>0.000000</td>\n",
       "      <td>1</td>\n",
       "      <td>7222</td>\n",
       "      <td>Speed Air Man--David Belle</td>\n",
       "      <td>Speed Air Man--David Belle david belle speed a...</td>\n",
       "    </tr>\n",
       "    <tr>\n",
       "      <th>2</th>\n",
       "      <td>http://www.musingsofahousewife.com/2011/03/tri...</td>\n",
       "      <td>{\"title\":\"Chicken Gruyere Recipe \",\"body\":\"Chi...</td>\n",
       "      <td>science_technology</td>\n",
       "      <td>0.386685</td>\n",
       "      <td>2.024000</td>\n",
       "      <td>0.630350</td>\n",
       "      <td>0.284047</td>\n",
       "      <td>0.233463</td>\n",
       "      <td>0.202335</td>\n",
       "      <td>0.443409</td>\n",
       "      <td>...</td>\n",
       "      <td>0</td>\n",
       "      <td>11008</td>\n",
       "      <td>257</td>\n",
       "      <td>5</td>\n",
       "      <td>0.466926</td>\n",
       "      <td>0.062500</td>\n",
       "      <td>1</td>\n",
       "      <td>3964</td>\n",
       "      <td>Chicken Gruyere Recipe</td>\n",
       "      <td>Chicken Gruyere one of our favorite special di...</td>\n",
       "    </tr>\n",
       "    <tr>\n",
       "      <th>3</th>\n",
       "      <td>http://www.thelittleteochew.com/2011/07/ikan-b...</td>\n",
       "      <td>{\"title\":\"Ikan Bilis With Tempeh Groundnuts \",...</td>\n",
       "      <td>recreation</td>\n",
       "      <td>0.475039</td>\n",
       "      <td>1.665254</td>\n",
       "      <td>0.419580</td>\n",
       "      <td>0.199301</td>\n",
       "      <td>0.097902</td>\n",
       "      <td>0.066434</td>\n",
       "      <td>0.472649</td>\n",
       "      <td>...</td>\n",
       "      <td>0</td>\n",
       "      <td>4585</td>\n",
       "      <td>286</td>\n",
       "      <td>5</td>\n",
       "      <td>0.244755</td>\n",
       "      <td>0.085868</td>\n",
       "      <td>1</td>\n",
       "      <td>3697</td>\n",
       "      <td>Ikan Bilis With Tempeh Groundnuts</td>\n",
       "      <td>Oh me oh my This was really snackalicious swee...</td>\n",
       "    </tr>\n",
       "    <tr>\n",
       "      <th>4</th>\n",
       "      <td>http://recipes.wuzzle.org/index.php/72</td>\n",
       "      <td>{\"url\":\"recipes wuzzle org index php 72\",\"titl...</td>\n",
       "      <td>computer_internet</td>\n",
       "      <td>0.535009</td>\n",
       "      <td>0.181818</td>\n",
       "      <td>0.036364</td>\n",
       "      <td>0.000000</td>\n",
       "      <td>0.000000</td>\n",
       "      <td>0.000000</td>\n",
       "      <td>0.292614</td>\n",
       "      <td>...</td>\n",
       "      <td>0</td>\n",
       "      <td>1745</td>\n",
       "      <td>55</td>\n",
       "      <td>1</td>\n",
       "      <td>0.072727</td>\n",
       "      <td>0.115044</td>\n",
       "      <td>1</td>\n",
       "      <td>4321</td>\n",
       "      <td>Malaysian recipes</td>\n",
       "      <td>Barbecued Chicken Chow Siew from The Exotic Ki...</td>\n",
       "    </tr>\n",
       "  </tbody>\n",
       "</table>\n",
       "<p>5 rows × 29 columns</p>\n",
       "</div>"
      ],
      "text/plain": [
       "                                                 url  \\\n",
       "0        http://www.polyvore.com/cgi/home?id=1389651   \n",
       "1         http://www.youtube.com/watch?v=ippMPPu6gh4   \n",
       "2  http://www.musingsofahousewife.com/2011/03/tri...   \n",
       "3  http://www.thelittleteochew.com/2011/07/ikan-b...   \n",
       "4             http://recipes.wuzzle.org/index.php/72   \n",
       "\n",
       "                                  webpageDescription    alchemy_category  \\\n",
       "0  {\"title\":\"Join Polyvore and follow the latest ...               other   \n",
       "1  {\"body\":\"Speed Air Man--David Belle david bell...               other   \n",
       "2  {\"title\":\"Chicken Gruyere Recipe \",\"body\":\"Chi...  science_technology   \n",
       "3  {\"title\":\"Ikan Bilis With Tempeh Groundnuts \",...          recreation   \n",
       "4  {\"url\":\"recipes wuzzle org index php 72\",\"titl...   computer_internet   \n",
       "\n",
       "  alchemy_category_score  avgLinkWordLength  AvglinkWithOneCommonWord  \\\n",
       "0               0.603334           1.916667                  0.047619   \n",
       "1               0.603334           1.257576                  0.141026   \n",
       "2               0.386685           2.024000                  0.630350   \n",
       "3               0.475039           1.665254                  0.419580   \n",
       "4               0.535009           0.181818                  0.036364   \n",
       "\n",
       "   AvglinkWithTwoCommonWord  AvglinkWithThreeCommonWord  \\\n",
       "0                  0.007937                    0.000000   \n",
       "1                  0.000000                    0.000000   \n",
       "2                  0.284047                    0.233463   \n",
       "3                  0.199301                    0.097902   \n",
       "4                  0.000000                    0.000000   \n",
       "\n",
       "   AvglinkWithFourCommonWord  redundancyMeasure  ...  isFrontPageNews  \\\n",
       "0                   0.000000           0.803797  ...                0   \n",
       "1                   0.000000           1.142857  ...                0   \n",
       "2                   0.202335           0.443409  ...                0   \n",
       "3                   0.066434           0.472649  ...                0   \n",
       "4                   0.000000           0.292614  ...                0   \n",
       "\n",
       "   alphanumCharCount  linksCount  wordCount  parametrizedLinkRatio  \\\n",
       "0                682         126          1               0.531746   \n",
       "1               3008          78          1               0.628205   \n",
       "2              11008         257          5               0.466926   \n",
       "3               4585         286          5               0.244755   \n",
       "4               1745          55          1               0.072727   \n",
       "\n",
       "   spellingErrorsRatio label    id  \\\n",
       "0             0.142857     1  3711   \n",
       "1             0.000000     1  7222   \n",
       "2             0.062500     1  3964   \n",
       "3             0.085868     1  3697   \n",
       "4             0.115044     1  4321   \n",
       "\n",
       "                                         title  \\\n",
       "0  Join Polyvore and follow the latest styles    \n",
       "1                   Speed Air Man--David Belle   \n",
       "2                      Chicken Gruyere Recipe    \n",
       "3           Ikan Bilis With Tempeh Groundnuts    \n",
       "4                           Malaysian recipes    \n",
       "\n",
       "                                                body  \n",
       "0   polyvore is the best place to discover or sta...  \n",
       "1  Speed Air Man--David Belle david belle speed a...  \n",
       "2  Chicken Gruyere one of our favorite special di...  \n",
       "3  Oh me oh my This was really snackalicious swee...  \n",
       "4  Barbecued Chicken Chow Siew from The Exotic Ki...  \n",
       "\n",
       "[5 rows x 29 columns]"
      ]
     },
     "execution_count": 49,
     "metadata": {},
     "output_type": "execute_result"
    }
   ],
   "source": [
    "data['body'] = pd.DataFrame({'body':body})\n",
    "data.head()"
   ]
  },
  {
   "cell_type": "code",
   "execution_count": 50,
   "id": "c497929e",
   "metadata": {
    "ExecuteTime": {
     "end_time": "2021-11-07T15:09:52.888088Z",
     "start_time": "2021-11-07T15:09:52.885122Z"
    }
   },
   "outputs": [],
   "source": [
    "x_list_body = data['body'].to_list()\n",
    "x_list_title = data['title'].to_list()"
   ]
  },
  {
   "cell_type": "code",
   "execution_count": 51,
   "id": "8c518815",
   "metadata": {
    "ExecuteTime": {
     "end_time": "2021-11-07T15:09:53.088225Z",
     "start_time": "2021-11-07T15:09:53.080871Z"
    }
   },
   "outputs": [
    {
     "name": "stdout",
     "output_type": "stream",
     "text": [
      "Number of Rows with NAN in title  13\n",
      "Number of Rows with NAN in body  57\n"
     ]
    }
   ],
   "source": [
    "print(\"Number of Rows with NAN in title \", data['title'].isna().sum())\n",
    "print(\"Number of Rows with NAN in body \", data['body'].isna().sum())\n"
   ]
  },
  {
   "cell_type": "code",
   "execution_count": 52,
   "id": "828fbac1",
   "metadata": {
    "ExecuteTime": {
     "end_time": "2021-11-07T15:09:53.286788Z",
     "start_time": "2021-11-07T15:09:53.274912Z"
    }
   },
   "outputs": [],
   "source": [
    "#split train and test\n",
    "df_train = data[data['label'] != 'test']\n",
    "df_test = data[data['label'] == 'test']"
   ]
  },
  {
   "cell_type": "code",
   "execution_count": 53,
   "id": "b28525bf",
   "metadata": {
    "ExecuteTime": {
     "end_time": "2021-11-07T15:09:53.460205Z",
     "start_time": "2021-11-07T15:09:53.457325Z"
    },
    "scrolled": true
   },
   "outputs": [
    {
     "name": "stdout",
     "output_type": "stream",
     "text": [
      "Train shape :  (5916, 29)\n",
      "Test shape :  (1479, 29)\n"
     ]
    }
   ],
   "source": [
    "print(\"Train shape : \", df_train.shape)\n",
    "print(\"Test shape : \", df_test.shape)"
   ]
  },
  {
   "cell_type": "code",
   "execution_count": 54,
   "id": "ff1d0ee8",
   "metadata": {
    "ExecuteTime": {
     "end_time": "2021-11-07T15:09:53.661235Z",
     "start_time": "2021-11-07T15:09:53.656697Z"
    }
   },
   "outputs": [
    {
     "data": {
      "text/plain": [
       "51"
      ]
     },
     "execution_count": 54,
     "metadata": {},
     "output_type": "execute_result"
    }
   ],
   "source": [
    "df_train['body'].isna().sum()"
   ]
  },
  {
   "cell_type": "code",
   "execution_count": 55,
   "id": "8f3c8884",
   "metadata": {
    "ExecuteTime": {
     "end_time": "2021-11-07T15:09:53.863387Z",
     "start_time": "2021-11-07T15:09:53.859827Z"
    }
   },
   "outputs": [
    {
     "data": {
      "text/plain": [
       "2"
      ]
     },
     "execution_count": 55,
     "metadata": {},
     "output_type": "execute_result"
    }
   ],
   "source": [
    "df_test['title'].isna().sum()"
   ]
  },
  {
   "cell_type": "code",
   "execution_count": 56,
   "id": "a9705245",
   "metadata": {
    "ExecuteTime": {
     "end_time": "2021-11-07T15:09:54.060369Z",
     "start_time": "2021-11-07T15:09:54.054038Z"
    },
    "scrolled": true
   },
   "outputs": [
    {
     "data": {
      "text/plain": [
       "6713    Today I have a recipe that I m pretty pumped t...\n",
       "6932    http://www.betterlifechiropractic.com FREE Con...\n",
       "Name: body, dtype: object"
      ]
     },
     "execution_count": 56,
     "metadata": {},
     "output_type": "execute_result"
    }
   ],
   "source": [
    "df_test[df_test['title'].isna()]['body']"
   ]
  },
  {
   "cell_type": "code",
   "execution_count": 57,
   "id": "8ff7110d",
   "metadata": {
    "ExecuteTime": {
     "end_time": "2021-11-07T15:09:54.268130Z",
     "start_time": "2021-11-07T15:09:54.262269Z"
    }
   },
   "outputs": [
    {
     "data": {
      "text/plain": [
       "6156    Peanut Butter Fudge Pennies on a Platter peanu...\n",
       "6321    New technology keeps everything it touches liq...\n",
       "6386        Pumpkin Contest Winner Fireside Pumpkin Soup \n",
       "6684                    Bacon Topped Macaroni and Cheese \n",
       "7051    Bank Bailout To Add up to 1 5 trillion to Publ...\n",
       "7221    Baba Ghanouj Baba Ghanoush Pennies on a Platte...\n",
       "Name: title, dtype: object"
      ]
     },
     "execution_count": 57,
     "metadata": {},
     "output_type": "execute_result"
    }
   ],
   "source": [
    "df_test[df_test['body'].isna()]['title']"
   ]
  },
  {
   "cell_type": "code",
   "execution_count": 58,
   "id": "d2d2ec3f",
   "metadata": {
    "ExecuteTime": {
     "end_time": "2021-11-07T15:09:54.456861Z",
     "start_time": "2021-11-07T15:09:54.449819Z"
    }
   },
   "outputs": [
    {
     "name": "stderr",
     "output_type": "stream",
     "text": [
      "/home/prudhvi/anaconda3/lib/python3.8/site-packages/pandas/core/series.py:4463: SettingWithCopyWarning: \n",
      "A value is trying to be set on a copy of a slice from a DataFrame\n",
      "\n",
      "See the caveats in the documentation: https://pandas.pydata.org/pandas-docs/stable/user_guide/indexing.html#returning-a-view-versus-a-copy\n",
      "  return super().fillna(\n"
     ]
    }
   ],
   "source": [
    "df_test[df_test['body'].isna() == True]\n",
    "df_test['body'].fillna(df_test['title'], inplace = True)\n",
    "\n"
   ]
  },
  {
   "cell_type": "code",
   "execution_count": 59,
   "id": "18c51e62",
   "metadata": {
    "ExecuteTime": {
     "end_time": "2021-11-07T15:09:54.647342Z",
     "start_time": "2021-11-07T15:09:54.644343Z"
    }
   },
   "outputs": [],
   "source": [
    "df_test['title'].fillna(df_test['body'], inplace = True)"
   ]
  },
  {
   "cell_type": "code",
   "execution_count": 60,
   "id": "aa360940",
   "metadata": {
    "ExecuteTime": {
     "end_time": "2021-11-07T15:09:54.861283Z",
     "start_time": "2021-11-07T15:09:54.847444Z"
    },
    "scrolled": true
   },
   "outputs": [
    {
     "data": {
      "text/html": [
       "<div>\n",
       "<style scoped>\n",
       "    .dataframe tbody tr th:only-of-type {\n",
       "        vertical-align: middle;\n",
       "    }\n",
       "\n",
       "    .dataframe tbody tr th {\n",
       "        vertical-align: top;\n",
       "    }\n",
       "\n",
       "    .dataframe thead th {\n",
       "        text-align: right;\n",
       "    }\n",
       "</style>\n",
       "<table border=\"1\" class=\"dataframe\">\n",
       "  <thead>\n",
       "    <tr style=\"text-align: right;\">\n",
       "      <th></th>\n",
       "      <th>url</th>\n",
       "      <th>webpageDescription</th>\n",
       "      <th>alchemy_category</th>\n",
       "      <th>alchemy_category_score</th>\n",
       "      <th>avgLinkWordLength</th>\n",
       "      <th>AvglinkWithOneCommonWord</th>\n",
       "      <th>AvglinkWithTwoCommonWord</th>\n",
       "      <th>AvglinkWithThreeCommonWord</th>\n",
       "      <th>AvglinkWithFourCommonWord</th>\n",
       "      <th>redundancyMeasure</th>\n",
       "      <th>...</th>\n",
       "      <th>isFrontPageNews</th>\n",
       "      <th>alphanumCharCount</th>\n",
       "      <th>linksCount</th>\n",
       "      <th>wordCount</th>\n",
       "      <th>parametrizedLinkRatio</th>\n",
       "      <th>spellingErrorsRatio</th>\n",
       "      <th>label</th>\n",
       "      <th>id</th>\n",
       "      <th>title</th>\n",
       "      <th>body</th>\n",
       "    </tr>\n",
       "  </thead>\n",
       "  <tbody>\n",
       "  </tbody>\n",
       "</table>\n",
       "<p>0 rows × 29 columns</p>\n",
       "</div>"
      ],
      "text/plain": [
       "Empty DataFrame\n",
       "Columns: [url, webpageDescription, alchemy_category, alchemy_category_score, avgLinkWordLength, AvglinkWithOneCommonWord, AvglinkWithTwoCommonWord, AvglinkWithThreeCommonWord, AvglinkWithFourCommonWord, redundancyMeasure, embedRatio, framebased, frameTagRatio, domainLink, tagRatio, imageTagRatio, isNews, lengthyDomain, hyperlinkToAllWordsRatio, isFrontPageNews, alphanumCharCount, linksCount, wordCount, parametrizedLinkRatio, spellingErrorsRatio, label, id, title, body]\n",
       "Index: []\n",
       "\n",
       "[0 rows x 29 columns]"
      ]
     },
     "execution_count": 60,
     "metadata": {},
     "output_type": "execute_result"
    }
   ],
   "source": [
    "df_test[df_test['title'].isna() == True]"
   ]
  },
  {
   "cell_type": "code",
   "execution_count": 61,
   "id": "9fc35161",
   "metadata": {
    "ExecuteTime": {
     "end_time": "2021-11-07T15:09:55.053896Z",
     "start_time": "2021-11-07T15:09:55.043563Z"
    }
   },
   "outputs": [
    {
     "data": {
      "text/plain": [
       "url                            0\n",
       "webpageDescription             0\n",
       "alchemy_category               0\n",
       "alchemy_category_score         0\n",
       "avgLinkWordLength              0\n",
       "AvglinkWithOneCommonWord       0\n",
       "AvglinkWithTwoCommonWord       0\n",
       "AvglinkWithThreeCommonWord     0\n",
       "AvglinkWithFourCommonWord      0\n",
       "redundancyMeasure              0\n",
       "embedRatio                     0\n",
       "framebased                     0\n",
       "frameTagRatio                  0\n",
       "domainLink                     0\n",
       "tagRatio                       0\n",
       "imageTagRatio                  0\n",
       "isNews                         0\n",
       "lengthyDomain                  0\n",
       "hyperlinkToAllWordsRatio       0\n",
       "isFrontPageNews                0\n",
       "alphanumCharCount              0\n",
       "linksCount                     0\n",
       "wordCount                      0\n",
       "parametrizedLinkRatio          0\n",
       "spellingErrorsRatio            0\n",
       "label                          0\n",
       "id                             0\n",
       "title                         11\n",
       "body                          51\n",
       "dtype: int64"
      ]
     },
     "execution_count": 61,
     "metadata": {},
     "output_type": "execute_result"
    }
   ],
   "source": [
    "df_train.isna().sum()"
   ]
  },
  {
   "cell_type": "code",
   "execution_count": 62,
   "id": "e27b0e96",
   "metadata": {
    "ExecuteTime": {
     "end_time": "2021-11-07T15:09:55.545779Z",
     "start_time": "2021-11-07T15:09:55.530632Z"
    }
   },
   "outputs": [
    {
     "name": "stderr",
     "output_type": "stream",
     "text": [
      "<ipython-input-62-b39fba4fc78a>:1: SettingWithCopyWarning: \n",
      "A value is trying to be set on a copy of a slice from a DataFrame\n",
      "\n",
      "See the caveats in the documentation: https://pandas.pydata.org/pandas-docs/stable/user_guide/indexing.html#returning-a-view-versus-a-copy\n",
      "  df_train.dropna(axis=0, how='any', thresh=None, subset=None, inplace=True)\n"
     ]
    }
   ],
   "source": [
    "df_train.dropna(axis=0, how='any', thresh=None, subset=None, inplace=True)"
   ]
  },
  {
   "cell_type": "code",
   "execution_count": 63,
   "id": "76f31cf7",
   "metadata": {
    "ExecuteTime": {
     "end_time": "2021-11-07T15:09:55.762428Z",
     "start_time": "2021-11-07T15:09:55.747938Z"
    },
    "scrolled": true
   },
   "outputs": [
    {
     "data": {
      "text/plain": [
       "url                           0\n",
       "webpageDescription            0\n",
       "alchemy_category              0\n",
       "alchemy_category_score        0\n",
       "avgLinkWordLength             0\n",
       "AvglinkWithOneCommonWord      0\n",
       "AvglinkWithTwoCommonWord      0\n",
       "AvglinkWithThreeCommonWord    0\n",
       "AvglinkWithFourCommonWord     0\n",
       "redundancyMeasure             0\n",
       "embedRatio                    0\n",
       "framebased                    0\n",
       "frameTagRatio                 0\n",
       "domainLink                    0\n",
       "tagRatio                      0\n",
       "imageTagRatio                 0\n",
       "isNews                        0\n",
       "lengthyDomain                 0\n",
       "hyperlinkToAllWordsRatio      0\n",
       "isFrontPageNews               0\n",
       "alphanumCharCount             0\n",
       "linksCount                    0\n",
       "wordCount                     0\n",
       "parametrizedLinkRatio         0\n",
       "spellingErrorsRatio           0\n",
       "label                         0\n",
       "id                            0\n",
       "title                         0\n",
       "body                          0\n",
       "dtype: int64"
      ]
     },
     "execution_count": 63,
     "metadata": {},
     "output_type": "execute_result"
    }
   ],
   "source": [
    "df_train.isna().sum()"
   ]
  },
  {
   "cell_type": "code",
   "execution_count": 64,
   "id": "ab81b4be",
   "metadata": {
    "ExecuteTime": {
     "end_time": "2021-11-07T15:09:55.984348Z",
     "start_time": "2021-11-07T15:09:55.974966Z"
    }
   },
   "outputs": [
    {
     "data": {
      "text/plain": [
       "url                           0\n",
       "webpageDescription            0\n",
       "alchemy_category              0\n",
       "alchemy_category_score        0\n",
       "avgLinkWordLength             0\n",
       "AvglinkWithOneCommonWord      0\n",
       "AvglinkWithTwoCommonWord      0\n",
       "AvglinkWithThreeCommonWord    0\n",
       "AvglinkWithFourCommonWord     0\n",
       "redundancyMeasure             0\n",
       "embedRatio                    0\n",
       "framebased                    0\n",
       "frameTagRatio                 0\n",
       "domainLink                    0\n",
       "tagRatio                      0\n",
       "imageTagRatio                 0\n",
       "isNews                        0\n",
       "lengthyDomain                 0\n",
       "hyperlinkToAllWordsRatio      0\n",
       "isFrontPageNews               0\n",
       "alphanumCharCount             0\n",
       "linksCount                    0\n",
       "wordCount                     0\n",
       "parametrizedLinkRatio         0\n",
       "spellingErrorsRatio           0\n",
       "label                         0\n",
       "id                            0\n",
       "title                         0\n",
       "body                          0\n",
       "dtype: int64"
      ]
     },
     "execution_count": 64,
     "metadata": {},
     "output_type": "execute_result"
    }
   ],
   "source": [
    "df_test.isna().sum()"
   ]
  },
  {
   "cell_type": "code",
   "execution_count": 65,
   "id": "05635470",
   "metadata": {
    "ExecuteTime": {
     "end_time": "2021-11-07T15:09:56.161252Z",
     "start_time": "2021-11-07T15:09:56.158487Z"
    }
   },
   "outputs": [
    {
     "name": "stdout",
     "output_type": "stream",
     "text": [
      "Train data shape :  (5855, 29)\n",
      "Test data shape :  (1479, 29)\n"
     ]
    }
   ],
   "source": [
    "print(\"Train data shape : \", df_train.shape)\n",
    "print(\"Test data shape : \", df_test.shape)"
   ]
  },
  {
   "cell_type": "code",
   "execution_count": 66,
   "id": "90c361a4",
   "metadata": {
    "ExecuteTime": {
     "end_time": "2021-11-07T15:09:56.409303Z",
     "start_time": "2021-11-07T15:09:56.385981Z"
    }
   },
   "outputs": [
    {
     "name": "stdout",
     "output_type": "stream",
     "text": [
      "(7334, 29)\n"
     ]
    },
    {
     "data": {
      "text/html": [
       "<div>\n",
       "<style scoped>\n",
       "    .dataframe tbody tr th:only-of-type {\n",
       "        vertical-align: middle;\n",
       "    }\n",
       "\n",
       "    .dataframe tbody tr th {\n",
       "        vertical-align: top;\n",
       "    }\n",
       "\n",
       "    .dataframe thead th {\n",
       "        text-align: right;\n",
       "    }\n",
       "</style>\n",
       "<table border=\"1\" class=\"dataframe\">\n",
       "  <thead>\n",
       "    <tr style=\"text-align: right;\">\n",
       "      <th></th>\n",
       "      <th>url</th>\n",
       "      <th>webpageDescription</th>\n",
       "      <th>alchemy_category</th>\n",
       "      <th>alchemy_category_score</th>\n",
       "      <th>avgLinkWordLength</th>\n",
       "      <th>AvglinkWithOneCommonWord</th>\n",
       "      <th>AvglinkWithTwoCommonWord</th>\n",
       "      <th>AvglinkWithThreeCommonWord</th>\n",
       "      <th>AvglinkWithFourCommonWord</th>\n",
       "      <th>redundancyMeasure</th>\n",
       "      <th>...</th>\n",
       "      <th>isFrontPageNews</th>\n",
       "      <th>alphanumCharCount</th>\n",
       "      <th>linksCount</th>\n",
       "      <th>wordCount</th>\n",
       "      <th>parametrizedLinkRatio</th>\n",
       "      <th>spellingErrorsRatio</th>\n",
       "      <th>label</th>\n",
       "      <th>id</th>\n",
       "      <th>title</th>\n",
       "      <th>body</th>\n",
       "    </tr>\n",
       "  </thead>\n",
       "  <tbody>\n",
       "    <tr>\n",
       "      <th>0</th>\n",
       "      <td>http://www.polyvore.com/cgi/home?id=1389651</td>\n",
       "      <td>{\"title\":\"Join Polyvore and follow the latest ...</td>\n",
       "      <td>other</td>\n",
       "      <td>0.603334</td>\n",
       "      <td>1.916667</td>\n",
       "      <td>0.047619</td>\n",
       "      <td>0.007937</td>\n",
       "      <td>0.000000</td>\n",
       "      <td>0.000000</td>\n",
       "      <td>0.803797</td>\n",
       "      <td>...</td>\n",
       "      <td>0</td>\n",
       "      <td>682</td>\n",
       "      <td>126</td>\n",
       "      <td>1</td>\n",
       "      <td>0.531746</td>\n",
       "      <td>0.142857</td>\n",
       "      <td>1</td>\n",
       "      <td>3711</td>\n",
       "      <td>Join Polyvore and follow the latest styles</td>\n",
       "      <td>polyvore is the best place to discover or sta...</td>\n",
       "    </tr>\n",
       "    <tr>\n",
       "      <th>1</th>\n",
       "      <td>http://www.youtube.com/watch?v=ippMPPu6gh4</td>\n",
       "      <td>{\"body\":\"Speed Air Man--David Belle david bell...</td>\n",
       "      <td>other</td>\n",
       "      <td>0.603334</td>\n",
       "      <td>1.257576</td>\n",
       "      <td>0.141026</td>\n",
       "      <td>0.000000</td>\n",
       "      <td>0.000000</td>\n",
       "      <td>0.000000</td>\n",
       "      <td>1.142857</td>\n",
       "      <td>...</td>\n",
       "      <td>0</td>\n",
       "      <td>3008</td>\n",
       "      <td>78</td>\n",
       "      <td>1</td>\n",
       "      <td>0.628205</td>\n",
       "      <td>0.000000</td>\n",
       "      <td>1</td>\n",
       "      <td>7222</td>\n",
       "      <td>Speed Air Man--David Belle</td>\n",
       "      <td>Speed Air Man--David Belle david belle speed a...</td>\n",
       "    </tr>\n",
       "    <tr>\n",
       "      <th>2</th>\n",
       "      <td>http://www.musingsofahousewife.com/2011/03/tri...</td>\n",
       "      <td>{\"title\":\"Chicken Gruyere Recipe \",\"body\":\"Chi...</td>\n",
       "      <td>science_technology</td>\n",
       "      <td>0.386685</td>\n",
       "      <td>2.024000</td>\n",
       "      <td>0.630350</td>\n",
       "      <td>0.284047</td>\n",
       "      <td>0.233463</td>\n",
       "      <td>0.202335</td>\n",
       "      <td>0.443409</td>\n",
       "      <td>...</td>\n",
       "      <td>0</td>\n",
       "      <td>11008</td>\n",
       "      <td>257</td>\n",
       "      <td>5</td>\n",
       "      <td>0.466926</td>\n",
       "      <td>0.062500</td>\n",
       "      <td>1</td>\n",
       "      <td>3964</td>\n",
       "      <td>Chicken Gruyere Recipe</td>\n",
       "      <td>Chicken Gruyere one of our favorite special di...</td>\n",
       "    </tr>\n",
       "    <tr>\n",
       "      <th>3</th>\n",
       "      <td>http://www.thelittleteochew.com/2011/07/ikan-b...</td>\n",
       "      <td>{\"title\":\"Ikan Bilis With Tempeh Groundnuts \",...</td>\n",
       "      <td>recreation</td>\n",
       "      <td>0.475039</td>\n",
       "      <td>1.665254</td>\n",
       "      <td>0.419580</td>\n",
       "      <td>0.199301</td>\n",
       "      <td>0.097902</td>\n",
       "      <td>0.066434</td>\n",
       "      <td>0.472649</td>\n",
       "      <td>...</td>\n",
       "      <td>0</td>\n",
       "      <td>4585</td>\n",
       "      <td>286</td>\n",
       "      <td>5</td>\n",
       "      <td>0.244755</td>\n",
       "      <td>0.085868</td>\n",
       "      <td>1</td>\n",
       "      <td>3697</td>\n",
       "      <td>Ikan Bilis With Tempeh Groundnuts</td>\n",
       "      <td>Oh me oh my This was really snackalicious swee...</td>\n",
       "    </tr>\n",
       "    <tr>\n",
       "      <th>4</th>\n",
       "      <td>http://recipes.wuzzle.org/index.php/72</td>\n",
       "      <td>{\"url\":\"recipes wuzzle org index php 72\",\"titl...</td>\n",
       "      <td>computer_internet</td>\n",
       "      <td>0.535009</td>\n",
       "      <td>0.181818</td>\n",
       "      <td>0.036364</td>\n",
       "      <td>0.000000</td>\n",
       "      <td>0.000000</td>\n",
       "      <td>0.000000</td>\n",
       "      <td>0.292614</td>\n",
       "      <td>...</td>\n",
       "      <td>0</td>\n",
       "      <td>1745</td>\n",
       "      <td>55</td>\n",
       "      <td>1</td>\n",
       "      <td>0.072727</td>\n",
       "      <td>0.115044</td>\n",
       "      <td>1</td>\n",
       "      <td>4321</td>\n",
       "      <td>Malaysian recipes</td>\n",
       "      <td>Barbecued Chicken Chow Siew from The Exotic Ki...</td>\n",
       "    </tr>\n",
       "  </tbody>\n",
       "</table>\n",
       "<p>5 rows × 29 columns</p>\n",
       "</div>"
      ],
      "text/plain": [
       "                                                 url  \\\n",
       "0        http://www.polyvore.com/cgi/home?id=1389651   \n",
       "1         http://www.youtube.com/watch?v=ippMPPu6gh4   \n",
       "2  http://www.musingsofahousewife.com/2011/03/tri...   \n",
       "3  http://www.thelittleteochew.com/2011/07/ikan-b...   \n",
       "4             http://recipes.wuzzle.org/index.php/72   \n",
       "\n",
       "                                  webpageDescription    alchemy_category  \\\n",
       "0  {\"title\":\"Join Polyvore and follow the latest ...               other   \n",
       "1  {\"body\":\"Speed Air Man--David Belle david bell...               other   \n",
       "2  {\"title\":\"Chicken Gruyere Recipe \",\"body\":\"Chi...  science_technology   \n",
       "3  {\"title\":\"Ikan Bilis With Tempeh Groundnuts \",...          recreation   \n",
       "4  {\"url\":\"recipes wuzzle org index php 72\",\"titl...   computer_internet   \n",
       "\n",
       "  alchemy_category_score  avgLinkWordLength  AvglinkWithOneCommonWord  \\\n",
       "0               0.603334           1.916667                  0.047619   \n",
       "1               0.603334           1.257576                  0.141026   \n",
       "2               0.386685           2.024000                  0.630350   \n",
       "3               0.475039           1.665254                  0.419580   \n",
       "4               0.535009           0.181818                  0.036364   \n",
       "\n",
       "   AvglinkWithTwoCommonWord  AvglinkWithThreeCommonWord  \\\n",
       "0                  0.007937                    0.000000   \n",
       "1                  0.000000                    0.000000   \n",
       "2                  0.284047                    0.233463   \n",
       "3                  0.199301                    0.097902   \n",
       "4                  0.000000                    0.000000   \n",
       "\n",
       "   AvglinkWithFourCommonWord  redundancyMeasure  ...  isFrontPageNews  \\\n",
       "0                   0.000000           0.803797  ...                0   \n",
       "1                   0.000000           1.142857  ...                0   \n",
       "2                   0.202335           0.443409  ...                0   \n",
       "3                   0.066434           0.472649  ...                0   \n",
       "4                   0.000000           0.292614  ...                0   \n",
       "\n",
       "   alphanumCharCount  linksCount  wordCount  parametrizedLinkRatio  \\\n",
       "0                682         126          1               0.531746   \n",
       "1               3008          78          1               0.628205   \n",
       "2              11008         257          5               0.466926   \n",
       "3               4585         286          5               0.244755   \n",
       "4               1745          55          1               0.072727   \n",
       "\n",
       "   spellingErrorsRatio label    id  \\\n",
       "0             0.142857     1  3711   \n",
       "1             0.000000     1  7222   \n",
       "2             0.062500     1  3964   \n",
       "3             0.085868     1  3697   \n",
       "4             0.115044     1  4321   \n",
       "\n",
       "                                         title  \\\n",
       "0  Join Polyvore and follow the latest styles    \n",
       "1                   Speed Air Man--David Belle   \n",
       "2                      Chicken Gruyere Recipe    \n",
       "3           Ikan Bilis With Tempeh Groundnuts    \n",
       "4                           Malaysian recipes    \n",
       "\n",
       "                                                body  \n",
       "0   polyvore is the best place to discover or sta...  \n",
       "1  Speed Air Man--David Belle david belle speed a...  \n",
       "2  Chicken Gruyere one of our favorite special di...  \n",
       "3  Oh me oh my This was really snackalicious swee...  \n",
       "4  Barbecued Chicken Chow Siew from The Exotic Ki...  \n",
       "\n",
       "[5 rows x 29 columns]"
      ]
     },
     "execution_count": 66,
     "metadata": {},
     "output_type": "execute_result"
    }
   ],
   "source": [
    "data = pd.concat([df_train,df_test])\n",
    "print(data.shape)\n",
    "data.head()"
   ]
  },
  {
   "cell_type": "markdown",
   "id": "3d79b56b",
   "metadata": {},
   "source": [
    "CONVERTING TO LOWER CASE"
   ]
  },
  {
   "cell_type": "code",
   "execution_count": 67,
   "id": "718c723c",
   "metadata": {
    "ExecuteTime": {
     "end_time": "2021-11-07T15:09:56.901049Z",
     "start_time": "2021-11-07T15:09:56.898247Z"
    }
   },
   "outputs": [],
   "source": [
    "def convert_lower(x):\n",
    "    x = x.lower()\n",
    "    return x"
   ]
  },
  {
   "cell_type": "code",
   "execution_count": 68,
   "id": "5f0f5dd7",
   "metadata": {
    "ExecuteTime": {
     "end_time": "2021-11-07T15:09:57.210194Z",
     "start_time": "2021-11-07T15:09:57.176018Z"
    }
   },
   "outputs": [],
   "source": [
    "#converted to lower case\n",
    "data['body_lower'] = data['body'].apply(lambda x : convert_lower(x))\n",
    "data['title_lower'] = data['title'].apply(lambda x : convert_lower(x))"
   ]
  },
  {
   "cell_type": "code",
   "execution_count": 69,
   "id": "9c75b78e",
   "metadata": {
    "ExecuteTime": {
     "end_time": "2021-11-07T15:09:57.734817Z",
     "start_time": "2021-11-07T15:09:57.731565Z"
    }
   },
   "outputs": [],
   "source": [
    "#  data[data.isnull().any(axis=1)]"
   ]
  },
  {
   "cell_type": "code",
   "execution_count": 70,
   "id": "336c28da",
   "metadata": {
    "ExecuteTime": {
     "end_time": "2021-11-07T15:09:59.598845Z",
     "start_time": "2021-11-07T15:09:59.572743Z"
    },
    "scrolled": true
   },
   "outputs": [
    {
     "data": {
      "text/html": [
       "<div>\n",
       "<style scoped>\n",
       "    .dataframe tbody tr th:only-of-type {\n",
       "        vertical-align: middle;\n",
       "    }\n",
       "\n",
       "    .dataframe tbody tr th {\n",
       "        vertical-align: top;\n",
       "    }\n",
       "\n",
       "    .dataframe thead th {\n",
       "        text-align: right;\n",
       "    }\n",
       "</style>\n",
       "<table border=\"1\" class=\"dataframe\">\n",
       "  <thead>\n",
       "    <tr style=\"text-align: right;\">\n",
       "      <th></th>\n",
       "      <th>url</th>\n",
       "      <th>webpageDescription</th>\n",
       "      <th>alchemy_category</th>\n",
       "      <th>alchemy_category_score</th>\n",
       "      <th>avgLinkWordLength</th>\n",
       "      <th>AvglinkWithOneCommonWord</th>\n",
       "      <th>AvglinkWithTwoCommonWord</th>\n",
       "      <th>AvglinkWithThreeCommonWord</th>\n",
       "      <th>AvglinkWithFourCommonWord</th>\n",
       "      <th>redundancyMeasure</th>\n",
       "      <th>...</th>\n",
       "      <th>linksCount</th>\n",
       "      <th>wordCount</th>\n",
       "      <th>parametrizedLinkRatio</th>\n",
       "      <th>spellingErrorsRatio</th>\n",
       "      <th>label</th>\n",
       "      <th>id</th>\n",
       "      <th>title</th>\n",
       "      <th>body</th>\n",
       "      <th>body_lower</th>\n",
       "      <th>title_lower</th>\n",
       "    </tr>\n",
       "  </thead>\n",
       "  <tbody>\n",
       "    <tr>\n",
       "      <th>0</th>\n",
       "      <td>http://www.polyvore.com/cgi/home?id=1389651</td>\n",
       "      <td>{\"title\":\"Join Polyvore and follow the latest ...</td>\n",
       "      <td>other</td>\n",
       "      <td>0.603334</td>\n",
       "      <td>1.916667</td>\n",
       "      <td>0.047619</td>\n",
       "      <td>0.007937</td>\n",
       "      <td>0.000000</td>\n",
       "      <td>0.000000</td>\n",
       "      <td>0.803797</td>\n",
       "      <td>...</td>\n",
       "      <td>126</td>\n",
       "      <td>1</td>\n",
       "      <td>0.531746</td>\n",
       "      <td>0.142857</td>\n",
       "      <td>1</td>\n",
       "      <td>3711</td>\n",
       "      <td>Join Polyvore and follow the latest styles</td>\n",
       "      <td>polyvore is the best place to discover or sta...</td>\n",
       "      <td>polyvore is the best place to discover or sta...</td>\n",
       "      <td>join polyvore and follow the latest styles</td>\n",
       "    </tr>\n",
       "    <tr>\n",
       "      <th>1</th>\n",
       "      <td>http://www.youtube.com/watch?v=ippMPPu6gh4</td>\n",
       "      <td>{\"body\":\"Speed Air Man--David Belle david bell...</td>\n",
       "      <td>other</td>\n",
       "      <td>0.603334</td>\n",
       "      <td>1.257576</td>\n",
       "      <td>0.141026</td>\n",
       "      <td>0.000000</td>\n",
       "      <td>0.000000</td>\n",
       "      <td>0.000000</td>\n",
       "      <td>1.142857</td>\n",
       "      <td>...</td>\n",
       "      <td>78</td>\n",
       "      <td>1</td>\n",
       "      <td>0.628205</td>\n",
       "      <td>0.000000</td>\n",
       "      <td>1</td>\n",
       "      <td>7222</td>\n",
       "      <td>Speed Air Man--David Belle</td>\n",
       "      <td>Speed Air Man--David Belle david belle speed a...</td>\n",
       "      <td>speed air man--david belle david belle speed a...</td>\n",
       "      <td>speed air man--david belle</td>\n",
       "    </tr>\n",
       "    <tr>\n",
       "      <th>2</th>\n",
       "      <td>http://www.musingsofahousewife.com/2011/03/tri...</td>\n",
       "      <td>{\"title\":\"Chicken Gruyere Recipe \",\"body\":\"Chi...</td>\n",
       "      <td>science_technology</td>\n",
       "      <td>0.386685</td>\n",
       "      <td>2.024000</td>\n",
       "      <td>0.630350</td>\n",
       "      <td>0.284047</td>\n",
       "      <td>0.233463</td>\n",
       "      <td>0.202335</td>\n",
       "      <td>0.443409</td>\n",
       "      <td>...</td>\n",
       "      <td>257</td>\n",
       "      <td>5</td>\n",
       "      <td>0.466926</td>\n",
       "      <td>0.062500</td>\n",
       "      <td>1</td>\n",
       "      <td>3964</td>\n",
       "      <td>Chicken Gruyere Recipe</td>\n",
       "      <td>Chicken Gruyere one of our favorite special di...</td>\n",
       "      <td>chicken gruyere one of our favorite special di...</td>\n",
       "      <td>chicken gruyere recipe</td>\n",
       "    </tr>\n",
       "    <tr>\n",
       "      <th>3</th>\n",
       "      <td>http://www.thelittleteochew.com/2011/07/ikan-b...</td>\n",
       "      <td>{\"title\":\"Ikan Bilis With Tempeh Groundnuts \",...</td>\n",
       "      <td>recreation</td>\n",
       "      <td>0.475039</td>\n",
       "      <td>1.665254</td>\n",
       "      <td>0.419580</td>\n",
       "      <td>0.199301</td>\n",
       "      <td>0.097902</td>\n",
       "      <td>0.066434</td>\n",
       "      <td>0.472649</td>\n",
       "      <td>...</td>\n",
       "      <td>286</td>\n",
       "      <td>5</td>\n",
       "      <td>0.244755</td>\n",
       "      <td>0.085868</td>\n",
       "      <td>1</td>\n",
       "      <td>3697</td>\n",
       "      <td>Ikan Bilis With Tempeh Groundnuts</td>\n",
       "      <td>Oh me oh my This was really snackalicious swee...</td>\n",
       "      <td>oh me oh my this was really snackalicious swee...</td>\n",
       "      <td>ikan bilis with tempeh groundnuts</td>\n",
       "    </tr>\n",
       "    <tr>\n",
       "      <th>4</th>\n",
       "      <td>http://recipes.wuzzle.org/index.php/72</td>\n",
       "      <td>{\"url\":\"recipes wuzzle org index php 72\",\"titl...</td>\n",
       "      <td>computer_internet</td>\n",
       "      <td>0.535009</td>\n",
       "      <td>0.181818</td>\n",
       "      <td>0.036364</td>\n",
       "      <td>0.000000</td>\n",
       "      <td>0.000000</td>\n",
       "      <td>0.000000</td>\n",
       "      <td>0.292614</td>\n",
       "      <td>...</td>\n",
       "      <td>55</td>\n",
       "      <td>1</td>\n",
       "      <td>0.072727</td>\n",
       "      <td>0.115044</td>\n",
       "      <td>1</td>\n",
       "      <td>4321</td>\n",
       "      <td>Malaysian recipes</td>\n",
       "      <td>Barbecued Chicken Chow Siew from The Exotic Ki...</td>\n",
       "      <td>barbecued chicken chow siew from the exotic ki...</td>\n",
       "      <td>malaysian recipes</td>\n",
       "    </tr>\n",
       "  </tbody>\n",
       "</table>\n",
       "<p>5 rows × 31 columns</p>\n",
       "</div>"
      ],
      "text/plain": [
       "                                                 url  \\\n",
       "0        http://www.polyvore.com/cgi/home?id=1389651   \n",
       "1         http://www.youtube.com/watch?v=ippMPPu6gh4   \n",
       "2  http://www.musingsofahousewife.com/2011/03/tri...   \n",
       "3  http://www.thelittleteochew.com/2011/07/ikan-b...   \n",
       "4             http://recipes.wuzzle.org/index.php/72   \n",
       "\n",
       "                                  webpageDescription    alchemy_category  \\\n",
       "0  {\"title\":\"Join Polyvore and follow the latest ...               other   \n",
       "1  {\"body\":\"Speed Air Man--David Belle david bell...               other   \n",
       "2  {\"title\":\"Chicken Gruyere Recipe \",\"body\":\"Chi...  science_technology   \n",
       "3  {\"title\":\"Ikan Bilis With Tempeh Groundnuts \",...          recreation   \n",
       "4  {\"url\":\"recipes wuzzle org index php 72\",\"titl...   computer_internet   \n",
       "\n",
       "  alchemy_category_score  avgLinkWordLength  AvglinkWithOneCommonWord  \\\n",
       "0               0.603334           1.916667                  0.047619   \n",
       "1               0.603334           1.257576                  0.141026   \n",
       "2               0.386685           2.024000                  0.630350   \n",
       "3               0.475039           1.665254                  0.419580   \n",
       "4               0.535009           0.181818                  0.036364   \n",
       "\n",
       "   AvglinkWithTwoCommonWord  AvglinkWithThreeCommonWord  \\\n",
       "0                  0.007937                    0.000000   \n",
       "1                  0.000000                    0.000000   \n",
       "2                  0.284047                    0.233463   \n",
       "3                  0.199301                    0.097902   \n",
       "4                  0.000000                    0.000000   \n",
       "\n",
       "   AvglinkWithFourCommonWord  redundancyMeasure  ...  linksCount  wordCount  \\\n",
       "0                   0.000000           0.803797  ...         126          1   \n",
       "1                   0.000000           1.142857  ...          78          1   \n",
       "2                   0.202335           0.443409  ...         257          5   \n",
       "3                   0.066434           0.472649  ...         286          5   \n",
       "4                   0.000000           0.292614  ...          55          1   \n",
       "\n",
       "   parametrizedLinkRatio  spellingErrorsRatio  label    id  \\\n",
       "0               0.531746             0.142857      1  3711   \n",
       "1               0.628205             0.000000      1  7222   \n",
       "2               0.466926             0.062500      1  3964   \n",
       "3               0.244755             0.085868      1  3697   \n",
       "4               0.072727             0.115044      1  4321   \n",
       "\n",
       "                                         title  \\\n",
       "0  Join Polyvore and follow the latest styles    \n",
       "1                   Speed Air Man--David Belle   \n",
       "2                      Chicken Gruyere Recipe    \n",
       "3           Ikan Bilis With Tempeh Groundnuts    \n",
       "4                           Malaysian recipes    \n",
       "\n",
       "                                                body  \\\n",
       "0   polyvore is the best place to discover or sta...   \n",
       "1  Speed Air Man--David Belle david belle speed a...   \n",
       "2  Chicken Gruyere one of our favorite special di...   \n",
       "3  Oh me oh my This was really snackalicious swee...   \n",
       "4  Barbecued Chicken Chow Siew from The Exotic Ki...   \n",
       "\n",
       "                                          body_lower  \\\n",
       "0   polyvore is the best place to discover or sta...   \n",
       "1  speed air man--david belle david belle speed a...   \n",
       "2  chicken gruyere one of our favorite special di...   \n",
       "3  oh me oh my this was really snackalicious swee...   \n",
       "4  barbecued chicken chow siew from the exotic ki...   \n",
       "\n",
       "                                   title_lower  \n",
       "0  join polyvore and follow the latest styles   \n",
       "1                   speed air man--david belle  \n",
       "2                      chicken gruyere recipe   \n",
       "3           ikan bilis with tempeh groundnuts   \n",
       "4                           malaysian recipes   \n",
       "\n",
       "[5 rows x 31 columns]"
      ]
     },
     "execution_count": 70,
     "metadata": {},
     "output_type": "execute_result"
    }
   ],
   "source": [
    "data.head()"
   ]
  },
  {
   "cell_type": "code",
   "execution_count": 71,
   "id": "97d4bdf2",
   "metadata": {
    "ExecuteTime": {
     "end_time": "2021-11-07T15:10:01.733587Z",
     "start_time": "2021-11-07T15:10:01.729818Z"
    },
    "scrolled": true
   },
   "outputs": [
    {
     "data": {
      "text/plain": [
       "0    join polyvore and follow the latest styles \n",
       "1                     speed air man--david belle\n",
       "2                        chicken gruyere recipe \n",
       "3             ikan bilis with tempeh groundnuts \n",
       "4                             malaysian recipes \n",
       "Name: title_lower, dtype: object"
      ]
     },
     "execution_count": 71,
     "metadata": {},
     "output_type": "execute_result"
    }
   ],
   "source": [
    "data['title_lower'][0 : 5]"
   ]
  },
  {
   "cell_type": "code",
   "execution_count": 72,
   "id": "613973cc",
   "metadata": {
    "ExecuteTime": {
     "end_time": "2021-11-07T15:10:04.350700Z",
     "start_time": "2021-11-07T15:10:04.336699Z"
    }
   },
   "outputs": [
    {
     "data": {
      "text/html": [
       "<div>\n",
       "<style scoped>\n",
       "    .dataframe tbody tr th:only-of-type {\n",
       "        vertical-align: middle;\n",
       "    }\n",
       "\n",
       "    .dataframe tbody tr th {\n",
       "        vertical-align: top;\n",
       "    }\n",
       "\n",
       "    .dataframe thead th {\n",
       "        text-align: right;\n",
       "    }\n",
       "</style>\n",
       "<table border=\"1\" class=\"dataframe\">\n",
       "  <thead>\n",
       "    <tr style=\"text-align: right;\">\n",
       "      <th></th>\n",
       "      <th>url</th>\n",
       "      <th>webpageDescription</th>\n",
       "      <th>alchemy_category</th>\n",
       "      <th>alchemy_category_score</th>\n",
       "      <th>avgLinkWordLength</th>\n",
       "      <th>AvglinkWithOneCommonWord</th>\n",
       "      <th>AvglinkWithTwoCommonWord</th>\n",
       "      <th>AvglinkWithThreeCommonWord</th>\n",
       "      <th>AvglinkWithFourCommonWord</th>\n",
       "      <th>redundancyMeasure</th>\n",
       "      <th>...</th>\n",
       "      <th>linksCount</th>\n",
       "      <th>wordCount</th>\n",
       "      <th>parametrizedLinkRatio</th>\n",
       "      <th>spellingErrorsRatio</th>\n",
       "      <th>label</th>\n",
       "      <th>id</th>\n",
       "      <th>title</th>\n",
       "      <th>body</th>\n",
       "      <th>body_lower</th>\n",
       "      <th>title_lower</th>\n",
       "    </tr>\n",
       "  </thead>\n",
       "  <tbody>\n",
       "    <tr>\n",
       "      <th>0</th>\n",
       "      <td>http://www.polyvore.com/cgi/home?id=1389651</td>\n",
       "      <td>{\"title\":\"Join Polyvore and follow the latest ...</td>\n",
       "      <td>other</td>\n",
       "      <td>0.603334</td>\n",
       "      <td>1.916667</td>\n",
       "      <td>0.047619</td>\n",
       "      <td>0.007937</td>\n",
       "      <td>0.000000</td>\n",
       "      <td>0.000000</td>\n",
       "      <td>0.803797</td>\n",
       "      <td>...</td>\n",
       "      <td>126</td>\n",
       "      <td>1</td>\n",
       "      <td>0.531746</td>\n",
       "      <td>0.142857</td>\n",
       "      <td>1</td>\n",
       "      <td>3711</td>\n",
       "      <td>Join Polyvore and follow the latest styles</td>\n",
       "      <td>polyvore is the best place to discover or sta...</td>\n",
       "      <td>polyvore is the best place to discover or sta...</td>\n",
       "      <td>join polyvore and follow the latest styles</td>\n",
       "    </tr>\n",
       "    <tr>\n",
       "      <th>1</th>\n",
       "      <td>http://www.youtube.com/watch?v=ippMPPu6gh4</td>\n",
       "      <td>{\"body\":\"Speed Air Man--David Belle david bell...</td>\n",
       "      <td>other</td>\n",
       "      <td>0.603334</td>\n",
       "      <td>1.257576</td>\n",
       "      <td>0.141026</td>\n",
       "      <td>0.000000</td>\n",
       "      <td>0.000000</td>\n",
       "      <td>0.000000</td>\n",
       "      <td>1.142857</td>\n",
       "      <td>...</td>\n",
       "      <td>78</td>\n",
       "      <td>1</td>\n",
       "      <td>0.628205</td>\n",
       "      <td>0.000000</td>\n",
       "      <td>1</td>\n",
       "      <td>7222</td>\n",
       "      <td>Speed Air Man--David Belle</td>\n",
       "      <td>Speed Air Man--David Belle david belle speed a...</td>\n",
       "      <td>speed air man--david belle david belle speed a...</td>\n",
       "      <td>speed air man--david belle</td>\n",
       "    </tr>\n",
       "    <tr>\n",
       "      <th>2</th>\n",
       "      <td>http://www.musingsofahousewife.com/2011/03/tri...</td>\n",
       "      <td>{\"title\":\"Chicken Gruyere Recipe \",\"body\":\"Chi...</td>\n",
       "      <td>science_technology</td>\n",
       "      <td>0.386685</td>\n",
       "      <td>2.024000</td>\n",
       "      <td>0.630350</td>\n",
       "      <td>0.284047</td>\n",
       "      <td>0.233463</td>\n",
       "      <td>0.202335</td>\n",
       "      <td>0.443409</td>\n",
       "      <td>...</td>\n",
       "      <td>257</td>\n",
       "      <td>5</td>\n",
       "      <td>0.466926</td>\n",
       "      <td>0.062500</td>\n",
       "      <td>1</td>\n",
       "      <td>3964</td>\n",
       "      <td>Chicken Gruyere Recipe</td>\n",
       "      <td>Chicken Gruyere one of our favorite special di...</td>\n",
       "      <td>chicken gruyere one of our favorite special di...</td>\n",
       "      <td>chicken gruyere recipe</td>\n",
       "    </tr>\n",
       "  </tbody>\n",
       "</table>\n",
       "<p>3 rows × 31 columns</p>\n",
       "</div>"
      ],
      "text/plain": [
       "                                                 url  \\\n",
       "0        http://www.polyvore.com/cgi/home?id=1389651   \n",
       "1         http://www.youtube.com/watch?v=ippMPPu6gh4   \n",
       "2  http://www.musingsofahousewife.com/2011/03/tri...   \n",
       "\n",
       "                                  webpageDescription    alchemy_category  \\\n",
       "0  {\"title\":\"Join Polyvore and follow the latest ...               other   \n",
       "1  {\"body\":\"Speed Air Man--David Belle david bell...               other   \n",
       "2  {\"title\":\"Chicken Gruyere Recipe \",\"body\":\"Chi...  science_technology   \n",
       "\n",
       "  alchemy_category_score  avgLinkWordLength  AvglinkWithOneCommonWord  \\\n",
       "0               0.603334           1.916667                  0.047619   \n",
       "1               0.603334           1.257576                  0.141026   \n",
       "2               0.386685           2.024000                  0.630350   \n",
       "\n",
       "   AvglinkWithTwoCommonWord  AvglinkWithThreeCommonWord  \\\n",
       "0                  0.007937                    0.000000   \n",
       "1                  0.000000                    0.000000   \n",
       "2                  0.284047                    0.233463   \n",
       "\n",
       "   AvglinkWithFourCommonWord  redundancyMeasure  ...  linksCount  wordCount  \\\n",
       "0                   0.000000           0.803797  ...         126          1   \n",
       "1                   0.000000           1.142857  ...          78          1   \n",
       "2                   0.202335           0.443409  ...         257          5   \n",
       "\n",
       "   parametrizedLinkRatio  spellingErrorsRatio  label    id  \\\n",
       "0               0.531746             0.142857      1  3711   \n",
       "1               0.628205             0.000000      1  7222   \n",
       "2               0.466926             0.062500      1  3964   \n",
       "\n",
       "                                         title  \\\n",
       "0  Join Polyvore and follow the latest styles    \n",
       "1                   Speed Air Man--David Belle   \n",
       "2                      Chicken Gruyere Recipe    \n",
       "\n",
       "                                                body  \\\n",
       "0   polyvore is the best place to discover or sta...   \n",
       "1  Speed Air Man--David Belle david belle speed a...   \n",
       "2  Chicken Gruyere one of our favorite special di...   \n",
       "\n",
       "                                          body_lower  \\\n",
       "0   polyvore is the best place to discover or sta...   \n",
       "1  speed air man--david belle david belle speed a...   \n",
       "2  chicken gruyere one of our favorite special di...   \n",
       "\n",
       "                                   title_lower  \n",
       "0  join polyvore and follow the latest styles   \n",
       "1                   speed air man--david belle  \n",
       "2                      chicken gruyere recipe   \n",
       "\n",
       "[3 rows x 31 columns]"
      ]
     },
     "execution_count": 72,
     "metadata": {},
     "output_type": "execute_result"
    }
   ],
   "source": [
    "data.head(3)"
   ]
  },
  {
   "cell_type": "markdown",
   "id": "b13899ed",
   "metadata": {},
   "source": [
    "NUMERIC VALUES REMOVED"
   ]
  },
  {
   "cell_type": "code",
   "execution_count": 73,
   "id": "0af36998",
   "metadata": {
    "ExecuteTime": {
     "end_time": "2021-11-07T15:10:05.023474Z",
     "start_time": "2021-11-07T15:10:05.019537Z"
    }
   },
   "outputs": [],
   "source": [
    "import re\n",
    "def remove_nums(x):\n",
    "    result = re.sub(\" \\d+\", \" \", x)\n",
    "    return result"
   ]
  },
  {
   "cell_type": "code",
   "execution_count": 74,
   "id": "46a838c5",
   "metadata": {
    "ExecuteTime": {
     "end_time": "2021-11-07T15:10:06.378567Z",
     "start_time": "2021-11-07T15:10:06.252228Z"
    }
   },
   "outputs": [],
   "source": [
    "data['body_no_nums'] = data['body_lower'].apply(lambda x : remove_nums(x))\n",
    "data['title_no_nums'] = data['title_lower'].apply(lambda x : remove_nums(x))"
   ]
  },
  {
   "cell_type": "code",
   "execution_count": 75,
   "id": "c9f969db",
   "metadata": {
    "ExecuteTime": {
     "end_time": "2021-11-07T15:10:06.446119Z",
     "start_time": "2021-11-07T15:10:06.441859Z"
    }
   },
   "outputs": [
    {
     "data": {
      "text/plain": [
       "0        polyvore is the best place to discover or sta...\n",
       "1       speed air man--david belle david belle speed a...\n",
       "2       chicken gruyere one of our favorite special di...\n",
       "3       oh me oh my this was really snackalicious swee...\n",
       "4       barbecued chicken chow siew from the exotic ki...\n",
       "                              ...                        \n",
       "7390                                                     \n",
       "7391    save to your collections sorry for the inconve...\n",
       "7392    best belly dance workout  swerve studio s shim...\n",
       "7393    outerbanxchic posted    delicious and differen...\n",
       "7394    summer always signifies the beginning of steak...\n",
       "Name: body_no_nums, Length: 7334, dtype: object"
      ]
     },
     "execution_count": 75,
     "metadata": {},
     "output_type": "execute_result"
    }
   ],
   "source": [
    "data['body_no_nums']"
   ]
  },
  {
   "cell_type": "markdown",
   "id": "5b640415",
   "metadata": {},
   "source": [
    "REMOVE PUNCTUATION"
   ]
  },
  {
   "cell_type": "code",
   "execution_count": 76,
   "id": "b2f0bf47",
   "metadata": {
    "ExecuteTime": {
     "end_time": "2021-11-07T15:10:07.136962Z",
     "start_time": "2021-11-07T15:10:07.131532Z"
    }
   },
   "outputs": [],
   "source": [
    "import string\n",
    "def remove_punc(text):\n",
    "  text =\"\".join([char for char in text if char not in (string.punctuation)])\n",
    "  return text\n"
   ]
  },
  {
   "cell_type": "code",
   "execution_count": 77,
   "id": "9d3f79a8",
   "metadata": {
    "ExecuteTime": {
     "end_time": "2021-11-07T15:10:12.475388Z",
     "start_time": "2021-11-07T15:10:11.581342Z"
    }
   },
   "outputs": [],
   "source": [
    "data['body_no_punc'] = data['body_no_nums'].apply(lambda x : remove_punc(x))\n",
    "data['title_no_punc'] = data['title_no_nums'].apply(lambda x : remove_punc(x))"
   ]
  },
  {
   "cell_type": "code",
   "execution_count": 78,
   "id": "bd891b0a",
   "metadata": {
    "ExecuteTime": {
     "end_time": "2021-11-07T15:10:13.260661Z",
     "start_time": "2021-11-07T15:10:13.258618Z"
    }
   },
   "outputs": [],
   "source": [
    "def remove_spaces(x):\n",
    "    x = x.strip()\n",
    "    return x"
   ]
  },
  {
   "cell_type": "code",
   "execution_count": 79,
   "id": "b59d6d4f",
   "metadata": {
    "ExecuteTime": {
     "end_time": "2021-11-07T15:10:13.580580Z",
     "start_time": "2021-11-07T15:10:13.564720Z"
    }
   },
   "outputs": [],
   "source": [
    "data['body_no_spaces'] = data['body_no_punc'].apply(lambda x : remove_spaces(x))\n",
    "data['title_no_spaces'] = data['title_no_punc'].apply(lambda x : remove_spaces(x))"
   ]
  },
  {
   "cell_type": "code",
   "execution_count": 80,
   "id": "f4900a47",
   "metadata": {
    "ExecuteTime": {
     "end_time": "2021-11-07T15:10:13.869494Z",
     "start_time": "2021-11-07T15:10:13.848567Z"
    }
   },
   "outputs": [
    {
     "data": {
      "text/html": [
       "<div>\n",
       "<style scoped>\n",
       "    .dataframe tbody tr th:only-of-type {\n",
       "        vertical-align: middle;\n",
       "    }\n",
       "\n",
       "    .dataframe tbody tr th {\n",
       "        vertical-align: top;\n",
       "    }\n",
       "\n",
       "    .dataframe thead th {\n",
       "        text-align: right;\n",
       "    }\n",
       "</style>\n",
       "<table border=\"1\" class=\"dataframe\">\n",
       "  <thead>\n",
       "    <tr style=\"text-align: right;\">\n",
       "      <th></th>\n",
       "      <th>url</th>\n",
       "      <th>webpageDescription</th>\n",
       "      <th>alchemy_category</th>\n",
       "      <th>alchemy_category_score</th>\n",
       "      <th>avgLinkWordLength</th>\n",
       "      <th>AvglinkWithOneCommonWord</th>\n",
       "      <th>AvglinkWithTwoCommonWord</th>\n",
       "      <th>AvglinkWithThreeCommonWord</th>\n",
       "      <th>AvglinkWithFourCommonWord</th>\n",
       "      <th>redundancyMeasure</th>\n",
       "      <th>...</th>\n",
       "      <th>title</th>\n",
       "      <th>body</th>\n",
       "      <th>body_lower</th>\n",
       "      <th>title_lower</th>\n",
       "      <th>body_no_nums</th>\n",
       "      <th>title_no_nums</th>\n",
       "      <th>body_no_punc</th>\n",
       "      <th>title_no_punc</th>\n",
       "      <th>body_no_spaces</th>\n",
       "      <th>title_no_spaces</th>\n",
       "    </tr>\n",
       "  </thead>\n",
       "  <tbody>\n",
       "    <tr>\n",
       "      <th>0</th>\n",
       "      <td>http://www.polyvore.com/cgi/home?id=1389651</td>\n",
       "      <td>{\"title\":\"Join Polyvore and follow the latest ...</td>\n",
       "      <td>other</td>\n",
       "      <td>0.603334</td>\n",
       "      <td>1.916667</td>\n",
       "      <td>0.047619</td>\n",
       "      <td>0.007937</td>\n",
       "      <td>0.0</td>\n",
       "      <td>0.0</td>\n",
       "      <td>0.803797</td>\n",
       "      <td>...</td>\n",
       "      <td>Join Polyvore and follow the latest styles</td>\n",
       "      <td>polyvore is the best place to discover or sta...</td>\n",
       "      <td>polyvore is the best place to discover or sta...</td>\n",
       "      <td>join polyvore and follow the latest styles</td>\n",
       "      <td>polyvore is the best place to discover or sta...</td>\n",
       "      <td>join polyvore and follow the latest styles</td>\n",
       "      <td>polyvore is the best place to discover or sta...</td>\n",
       "      <td>join polyvore and follow the latest styles</td>\n",
       "      <td>polyvore is the best place to discover or star...</td>\n",
       "      <td>join polyvore and follow the latest styles</td>\n",
       "    </tr>\n",
       "    <tr>\n",
       "      <th>1</th>\n",
       "      <td>http://www.youtube.com/watch?v=ippMPPu6gh4</td>\n",
       "      <td>{\"body\":\"Speed Air Man--David Belle david bell...</td>\n",
       "      <td>other</td>\n",
       "      <td>0.603334</td>\n",
       "      <td>1.257576</td>\n",
       "      <td>0.141026</td>\n",
       "      <td>0.000000</td>\n",
       "      <td>0.0</td>\n",
       "      <td>0.0</td>\n",
       "      <td>1.142857</td>\n",
       "      <td>...</td>\n",
       "      <td>Speed Air Man--David Belle</td>\n",
       "      <td>Speed Air Man--David Belle david belle speed a...</td>\n",
       "      <td>speed air man--david belle david belle speed a...</td>\n",
       "      <td>speed air man--david belle</td>\n",
       "      <td>speed air man--david belle david belle speed a...</td>\n",
       "      <td>speed air man--david belle</td>\n",
       "      <td>speed air mandavid belle david belle speed air...</td>\n",
       "      <td>speed air mandavid belle</td>\n",
       "      <td>speed air mandavid belle david belle speed air...</td>\n",
       "      <td>speed air mandavid belle</td>\n",
       "    </tr>\n",
       "  </tbody>\n",
       "</table>\n",
       "<p>2 rows × 37 columns</p>\n",
       "</div>"
      ],
      "text/plain": [
       "                                           url  \\\n",
       "0  http://www.polyvore.com/cgi/home?id=1389651   \n",
       "1   http://www.youtube.com/watch?v=ippMPPu6gh4   \n",
       "\n",
       "                                  webpageDescription alchemy_category  \\\n",
       "0  {\"title\":\"Join Polyvore and follow the latest ...            other   \n",
       "1  {\"body\":\"Speed Air Man--David Belle david bell...            other   \n",
       "\n",
       "  alchemy_category_score  avgLinkWordLength  AvglinkWithOneCommonWord  \\\n",
       "0               0.603334           1.916667                  0.047619   \n",
       "1               0.603334           1.257576                  0.141026   \n",
       "\n",
       "   AvglinkWithTwoCommonWord  AvglinkWithThreeCommonWord  \\\n",
       "0                  0.007937                         0.0   \n",
       "1                  0.000000                         0.0   \n",
       "\n",
       "   AvglinkWithFourCommonWord  redundancyMeasure  ...  \\\n",
       "0                        0.0           0.803797  ...   \n",
       "1                        0.0           1.142857  ...   \n",
       "\n",
       "                                         title  \\\n",
       "0  Join Polyvore and follow the latest styles    \n",
       "1                   Speed Air Man--David Belle   \n",
       "\n",
       "                                                body  \\\n",
       "0   polyvore is the best place to discover or sta...   \n",
       "1  Speed Air Man--David Belle david belle speed a...   \n",
       "\n",
       "                                          body_lower  \\\n",
       "0   polyvore is the best place to discover or sta...   \n",
       "1  speed air man--david belle david belle speed a...   \n",
       "\n",
       "                                   title_lower  \\\n",
       "0  join polyvore and follow the latest styles    \n",
       "1                   speed air man--david belle   \n",
       "\n",
       "                                        body_no_nums  \\\n",
       "0   polyvore is the best place to discover or sta...   \n",
       "1  speed air man--david belle david belle speed a...   \n",
       "\n",
       "                                 title_no_nums  \\\n",
       "0  join polyvore and follow the latest styles    \n",
       "1                   speed air man--david belle   \n",
       "\n",
       "                                        body_no_punc  \\\n",
       "0   polyvore is the best place to discover or sta...   \n",
       "1  speed air mandavid belle david belle speed air...   \n",
       "\n",
       "                                 title_no_punc  \\\n",
       "0  join polyvore and follow the latest styles    \n",
       "1                     speed air mandavid belle   \n",
       "\n",
       "                                      body_no_spaces  \\\n",
       "0  polyvore is the best place to discover or star...   \n",
       "1  speed air mandavid belle david belle speed air...   \n",
       "\n",
       "                              title_no_spaces  \n",
       "0  join polyvore and follow the latest styles  \n",
       "1                    speed air mandavid belle  \n",
       "\n",
       "[2 rows x 37 columns]"
      ]
     },
     "execution_count": 80,
     "metadata": {},
     "output_type": "execute_result"
    }
   ],
   "source": [
    "data.head(2)"
   ]
  },
  {
   "cell_type": "markdown",
   "id": "3d47e8b5",
   "metadata": {
    "ExecuteTime": {
     "end_time": "2021-11-06T15:49:47.465847Z",
     "start_time": "2021-11-06T15:49:47.453188Z"
    }
   },
   "source": [
    "TOKENIZE(Try other methods later)"
   ]
  },
  {
   "cell_type": "code",
   "execution_count": 693,
   "id": "2e67575b",
   "metadata": {
    "ExecuteTime": {
     "end_time": "2021-11-07T13:41:32.830432Z",
     "start_time": "2021-11-07T13:41:32.826429Z"
    }
   },
   "outputs": [],
   "source": [
    "from nltk.tokenize import word_tokenize\n",
    "def tokenize(x):\n",
    "    return word_tokenize(x)"
   ]
  },
  {
   "cell_type": "code",
   "execution_count": 694,
   "id": "8668e6b5",
   "metadata": {
    "ExecuteTime": {
     "end_time": "2021-11-07T13:41:33.893550Z",
     "start_time": "2021-11-07T13:41:33.249072Z"
    }
   },
   "outputs": [
    {
     "name": "stderr",
     "output_type": "stream",
     "text": [
      "[nltk_data] Downloading package punkt to /home/prudhvi/nltk_data...\n",
      "[nltk_data]   Package punkt is already up-to-date!\n"
     ]
    },
    {
     "data": {
      "text/plain": [
       "True"
      ]
     },
     "execution_count": 694,
     "metadata": {},
     "output_type": "execute_result"
    }
   ],
   "source": [
    "import nltk\n",
    "nltk.download('punkt')"
   ]
  },
  {
   "cell_type": "code",
   "execution_count": 695,
   "id": "5ed4dd84",
   "metadata": {
    "ExecuteTime": {
     "end_time": "2021-11-07T13:41:43.243024Z",
     "start_time": "2021-11-07T13:41:36.102929Z"
    }
   },
   "outputs": [],
   "source": [
    "data['body_tokenize'] = data['body_no_spaces'].apply(lambda x : tokenize(x))\n",
    "data['title_tokenize'] = data['title_no_spaces'].apply(lambda x : tokenize(x))"
   ]
  },
  {
   "cell_type": "code",
   "execution_count": 880,
   "id": "96542b84",
   "metadata": {
    "ExecuteTime": {
     "end_time": "2021-11-07T14:46:43.092349Z",
     "start_time": "2021-11-07T14:46:43.077238Z"
    }
   },
   "outputs": [
    {
     "data": {
      "text/html": [
       "<div>\n",
       "<style scoped>\n",
       "    .dataframe tbody tr th:only-of-type {\n",
       "        vertical-align: middle;\n",
       "    }\n",
       "\n",
       "    .dataframe tbody tr th {\n",
       "        vertical-align: top;\n",
       "    }\n",
       "\n",
       "    .dataframe thead th {\n",
       "        text-align: right;\n",
       "    }\n",
       "</style>\n",
       "<table border=\"1\" class=\"dataframe\">\n",
       "  <thead>\n",
       "    <tr style=\"text-align: right;\">\n",
       "      <th></th>\n",
       "      <th>url</th>\n",
       "      <th>webpageDescription</th>\n",
       "      <th>alchemy_category</th>\n",
       "      <th>alchemy_category_score</th>\n",
       "      <th>avgLinkWordLength</th>\n",
       "      <th>AvglinkWithOneCommonWord</th>\n",
       "      <th>AvglinkWithTwoCommonWord</th>\n",
       "      <th>AvglinkWithThreeCommonWord</th>\n",
       "      <th>AvglinkWithFourCommonWord</th>\n",
       "      <th>redundancyMeasure</th>\n",
       "      <th>...</th>\n",
       "      <th>title</th>\n",
       "      <th>body</th>\n",
       "      <th>body_lower</th>\n",
       "      <th>title_lower</th>\n",
       "      <th>body_no_nums</th>\n",
       "      <th>title_no_nums</th>\n",
       "      <th>body_no_punc</th>\n",
       "      <th>title_no_punc</th>\n",
       "      <th>body_no_spaces</th>\n",
       "      <th>title_no_spaces</th>\n",
       "    </tr>\n",
       "  </thead>\n",
       "  <tbody>\n",
       "    <tr>\n",
       "      <th>0</th>\n",
       "      <td>http://www.polyvore.com/cgi/home?id=1389651</td>\n",
       "      <td>{\"title\":\"Join Polyvore and follow the latest ...</td>\n",
       "      <td>other</td>\n",
       "      <td>0.603334</td>\n",
       "      <td>1.916667</td>\n",
       "      <td>0.047619</td>\n",
       "      <td>0.007937</td>\n",
       "      <td>0.000000</td>\n",
       "      <td>0.000000</td>\n",
       "      <td>0.803797</td>\n",
       "      <td>...</td>\n",
       "      <td>Join Polyvore and follow the latest styles</td>\n",
       "      <td>polyvore is the best place to discover or sta...</td>\n",
       "      <td>polyvore is the best place to discover or sta...</td>\n",
       "      <td>join polyvore and follow the latest styles</td>\n",
       "      <td>polyvore is the best place to discover or sta...</td>\n",
       "      <td>join polyvore and follow the latest styles</td>\n",
       "      <td>polyvore is the best place to discover or sta...</td>\n",
       "      <td>join polyvore and follow the latest styles</td>\n",
       "      <td>polyvore is the best place to discover or star...</td>\n",
       "      <td>join polyvore and follow the latest styles</td>\n",
       "    </tr>\n",
       "    <tr>\n",
       "      <th>1</th>\n",
       "      <td>http://www.youtube.com/watch?v=ippMPPu6gh4</td>\n",
       "      <td>{\"body\":\"Speed Air Man--David Belle david bell...</td>\n",
       "      <td>other</td>\n",
       "      <td>0.603334</td>\n",
       "      <td>1.257576</td>\n",
       "      <td>0.141026</td>\n",
       "      <td>0.000000</td>\n",
       "      <td>0.000000</td>\n",
       "      <td>0.000000</td>\n",
       "      <td>1.142857</td>\n",
       "      <td>...</td>\n",
       "      <td>Speed Air Man--David Belle</td>\n",
       "      <td>Speed Air Man--David Belle david belle speed a...</td>\n",
       "      <td>speed air man--david belle david belle speed a...</td>\n",
       "      <td>speed air man--david belle</td>\n",
       "      <td>speed air man--david belle david belle speed a...</td>\n",
       "      <td>speed air man--david belle</td>\n",
       "      <td>speed air mandavid belle david belle speed air...</td>\n",
       "      <td>speed air mandavid belle</td>\n",
       "      <td>speed air mandavid belle david belle speed air...</td>\n",
       "      <td>speed air mandavid belle</td>\n",
       "    </tr>\n",
       "    <tr>\n",
       "      <th>2</th>\n",
       "      <td>http://www.musingsofahousewife.com/2011/03/tri...</td>\n",
       "      <td>{\"title\":\"Chicken Gruyere Recipe \",\"body\":\"Chi...</td>\n",
       "      <td>science_technology</td>\n",
       "      <td>0.386685</td>\n",
       "      <td>2.024000</td>\n",
       "      <td>0.630350</td>\n",
       "      <td>0.284047</td>\n",
       "      <td>0.233463</td>\n",
       "      <td>0.202335</td>\n",
       "      <td>0.443409</td>\n",
       "      <td>...</td>\n",
       "      <td>Chicken Gruyere Recipe</td>\n",
       "      <td>Chicken Gruyere one of our favorite special di...</td>\n",
       "      <td>chicken gruyere one of our favorite special di...</td>\n",
       "      <td>chicken gruyere recipe</td>\n",
       "      <td>chicken gruyere one of our favorite special di...</td>\n",
       "      <td>chicken gruyere recipe</td>\n",
       "      <td>chicken gruyere one of our favorite special di...</td>\n",
       "      <td>chicken gruyere recipe</td>\n",
       "      <td>chicken gruyere one of our favorite special di...</td>\n",
       "      <td>chicken gruyere recipe</td>\n",
       "    </tr>\n",
       "  </tbody>\n",
       "</table>\n",
       "<p>3 rows × 37 columns</p>\n",
       "</div>"
      ],
      "text/plain": [
       "                                                 url  \\\n",
       "0        http://www.polyvore.com/cgi/home?id=1389651   \n",
       "1         http://www.youtube.com/watch?v=ippMPPu6gh4   \n",
       "2  http://www.musingsofahousewife.com/2011/03/tri...   \n",
       "\n",
       "                                  webpageDescription    alchemy_category  \\\n",
       "0  {\"title\":\"Join Polyvore and follow the latest ...               other   \n",
       "1  {\"body\":\"Speed Air Man--David Belle david bell...               other   \n",
       "2  {\"title\":\"Chicken Gruyere Recipe \",\"body\":\"Chi...  science_technology   \n",
       "\n",
       "  alchemy_category_score  avgLinkWordLength  AvglinkWithOneCommonWord  \\\n",
       "0               0.603334           1.916667                  0.047619   \n",
       "1               0.603334           1.257576                  0.141026   \n",
       "2               0.386685           2.024000                  0.630350   \n",
       "\n",
       "   AvglinkWithTwoCommonWord  AvglinkWithThreeCommonWord  \\\n",
       "0                  0.007937                    0.000000   \n",
       "1                  0.000000                    0.000000   \n",
       "2                  0.284047                    0.233463   \n",
       "\n",
       "   AvglinkWithFourCommonWord  redundancyMeasure  ...  \\\n",
       "0                   0.000000           0.803797  ...   \n",
       "1                   0.000000           1.142857  ...   \n",
       "2                   0.202335           0.443409  ...   \n",
       "\n",
       "                                         title  \\\n",
       "0  Join Polyvore and follow the latest styles    \n",
       "1                   Speed Air Man--David Belle   \n",
       "2                      Chicken Gruyere Recipe    \n",
       "\n",
       "                                                body  \\\n",
       "0   polyvore is the best place to discover or sta...   \n",
       "1  Speed Air Man--David Belle david belle speed a...   \n",
       "2  Chicken Gruyere one of our favorite special di...   \n",
       "\n",
       "                                          body_lower  \\\n",
       "0   polyvore is the best place to discover or sta...   \n",
       "1  speed air man--david belle david belle speed a...   \n",
       "2  chicken gruyere one of our favorite special di...   \n",
       "\n",
       "                                   title_lower  \\\n",
       "0  join polyvore and follow the latest styles    \n",
       "1                   speed air man--david belle   \n",
       "2                      chicken gruyere recipe    \n",
       "\n",
       "                                        body_no_nums  \\\n",
       "0   polyvore is the best place to discover or sta...   \n",
       "1  speed air man--david belle david belle speed a...   \n",
       "2  chicken gruyere one of our favorite special di...   \n",
       "\n",
       "                                 title_no_nums  \\\n",
       "0  join polyvore and follow the latest styles    \n",
       "1                   speed air man--david belle   \n",
       "2                      chicken gruyere recipe    \n",
       "\n",
       "                                        body_no_punc  \\\n",
       "0   polyvore is the best place to discover or sta...   \n",
       "1  speed air mandavid belle david belle speed air...   \n",
       "2  chicken gruyere one of our favorite special di...   \n",
       "\n",
       "                                 title_no_punc  \\\n",
       "0  join polyvore and follow the latest styles    \n",
       "1                     speed air mandavid belle   \n",
       "2                      chicken gruyere recipe    \n",
       "\n",
       "                                      body_no_spaces  \\\n",
       "0  polyvore is the best place to discover or star...   \n",
       "1  speed air mandavid belle david belle speed air...   \n",
       "2  chicken gruyere one of our favorite special di...   \n",
       "\n",
       "                              title_no_spaces  \n",
       "0  join polyvore and follow the latest styles  \n",
       "1                    speed air mandavid belle  \n",
       "2                      chicken gruyere recipe  \n",
       "\n",
       "[3 rows x 37 columns]"
      ]
     },
     "execution_count": 880,
     "metadata": {},
     "output_type": "execute_result"
    }
   ],
   "source": [
    "data.head(3)"
   ]
  },
  {
   "cell_type": "markdown",
   "id": "33316787",
   "metadata": {},
   "source": [
    "REMOVE STOP WORDS"
   ]
  },
  {
   "cell_type": "code",
   "execution_count": 696,
   "id": "c1b7b241",
   "metadata": {
    "ExecuteTime": {
     "end_time": "2021-11-07T13:41:43.249860Z",
     "start_time": "2021-11-07T13:41:43.244019Z"
    }
   },
   "outputs": [
    {
     "name": "stderr",
     "output_type": "stream",
     "text": [
      "[nltk_data] Downloading package stopwords to\n",
      "[nltk_data]     /home/prudhvi/nltk_data...\n",
      "[nltk_data]   Package stopwords is already up-to-date!\n"
     ]
    },
    {
     "data": {
      "text/plain": [
       "True"
      ]
     },
     "execution_count": 696,
     "metadata": {},
     "output_type": "execute_result"
    }
   ],
   "source": [
    "nltk.download('stopwords')"
   ]
  },
  {
   "cell_type": "code",
   "execution_count": 697,
   "id": "af7070be",
   "metadata": {
    "ExecuteTime": {
     "end_time": "2021-11-07T13:42:11.104215Z",
     "start_time": "2021-11-07T13:42:11.095275Z"
    }
   },
   "outputs": [
    {
     "data": {
      "text/plain": [
       "['i', 'me', 'my', 'myself', 'we', 'our', 'ours', 'ourselves', 'you', \"you're\"]"
      ]
     },
     "execution_count": 697,
     "metadata": {},
     "output_type": "execute_result"
    }
   ],
   "source": [
    "from nltk.corpus import stopwords\n",
    "from nltk.tokenize import word_tokenize\n",
    "stopwords = nltk.corpus.stopwords.words('english')\n",
    "stopwords[0 : 10]"
   ]
  },
  {
   "cell_type": "code",
   "execution_count": 698,
   "id": "4f1e67d3",
   "metadata": {
    "ExecuteTime": {
     "end_time": "2021-11-07T13:42:13.216665Z",
     "start_time": "2021-11-07T13:42:13.214608Z"
    }
   },
   "outputs": [],
   "source": [
    "def remove_stopwords(x):\n",
    "    x_clean = [word for word in x if word not in stopwords]\n",
    "    return x_clean"
   ]
  },
  {
   "cell_type": "code",
   "execution_count": 699,
   "id": "cd151af5",
   "metadata": {
    "ExecuteTime": {
     "end_time": "2021-11-07T13:42:17.002744Z",
     "start_time": "2021-11-07T13:42:13.896263Z"
    }
   },
   "outputs": [],
   "source": [
    "data['body_stopwords'] = data['body_tokenize'].apply(lambda x : remove_stopwords(x))\n",
    "data['title_stopwords'] = data['title_tokenize'].apply(lambda x : remove_stopwords(x))"
   ]
  },
  {
   "cell_type": "code",
   "execution_count": 700,
   "id": "75949534",
   "metadata": {
    "ExecuteTime": {
     "end_time": "2021-11-07T13:42:17.010320Z",
     "start_time": "2021-11-07T13:42:17.003766Z"
    }
   },
   "outputs": [
    {
     "data": {
      "text/plain": [
       "0       [polyvore, best, place, discover, start, fashi...\n",
       "1       [speed, air, mandavid, belle, david, belle, sp...\n",
       "2       [chicken, gruyere, one, favorite, special, din...\n",
       "3       [oh, oh, really, snackalicious, sweet, salty, ...\n",
       "4       [barbecued, chicken, chow, siew, exotic, kitch...\n",
       "                              ...                        \n",
       "7390                                                   []\n",
       "7391    [save, collections, sorry, inconvenience, savi...\n",
       "7392    [best, belly, dance, workout, swerve, studio, ...\n",
       "7393    [outerbanxchic, posted, delicious, different, ...\n",
       "7394    [summer, always, signifies, beginning, steak, ...\n",
       "Name: body_stopwords, Length: 7334, dtype: object"
      ]
     },
     "execution_count": 700,
     "metadata": {},
     "output_type": "execute_result"
    }
   ],
   "source": [
    "data['body_stopwords']"
   ]
  },
  {
   "cell_type": "markdown",
   "id": "12363823",
   "metadata": {},
   "source": [
    "STEMMING"
   ]
  },
  {
   "cell_type": "code",
   "execution_count": 701,
   "id": "5c5fe20c",
   "metadata": {
    "ExecuteTime": {
     "end_time": "2021-11-07T13:42:19.455563Z",
     "start_time": "2021-11-07T13:42:19.453571Z"
    }
   },
   "outputs": [],
   "source": [
    "from nltk.stem import PorterStemmer\n",
    "from nltk.tokenize import word_tokenize"
   ]
  },
  {
   "cell_type": "code",
   "execution_count": 702,
   "id": "61e3a316",
   "metadata": {
    "ExecuteTime": {
     "end_time": "2021-11-07T13:42:19.816321Z",
     "start_time": "2021-11-07T13:42:19.812996Z"
    }
   },
   "outputs": [],
   "source": [
    "stemmer = PorterStemmer()\n",
    "def stemming(x):\n",
    "    words = [stemmer.stem(word) for word in x]\n",
    "    return words"
   ]
  },
  {
   "cell_type": "code",
   "execution_count": 703,
   "id": "3fbf2c24",
   "metadata": {
    "ExecuteTime": {
     "end_time": "2021-11-07T13:42:39.907061Z",
     "start_time": "2021-11-07T13:42:20.225487Z"
    }
   },
   "outputs": [],
   "source": [
    "data['body_potter_stem'] = data['body_stopwords'].apply(lambda x : stemming(x))\n",
    "data['title_potter_stem'] = data['title_stopwords'].apply(lambda x : stemming(x))"
   ]
  },
  {
   "cell_type": "code",
   "execution_count": 704,
   "id": "48ae3ff5",
   "metadata": {
    "ExecuteTime": {
     "end_time": "2021-11-07T13:43:34.558850Z",
     "start_time": "2021-11-07T13:43:34.550101Z"
    }
   },
   "outputs": [
    {
     "data": {
      "text/plain": [
       "0       [polyvor, best, place, discov, start, fashion,...\n",
       "1       [speed, air, mandavid, bell, david, bell, spee...\n",
       "2       [chicken, gruyer, one, favorit, special, dinne...\n",
       "3       [oh, oh, realli, snackalici, sweet, salti, spi...\n",
       "4       [barbecu, chicken, chow, siew, exot, kitchen, ...\n",
       "                              ...                        \n",
       "7390                                                   []\n",
       "7391    [save, collect, sorri, inconveni, save, tempor...\n",
       "7392    [best, belli, danc, workout, swerv, studio, sh...\n",
       "7393    [outerbanxch, post, delici, differ, almost, sp...\n",
       "7394    [summer, alway, signifi, begin, steak, salad, ...\n",
       "Name: body_potter_stem, Length: 7334, dtype: object"
      ]
     },
     "execution_count": 704,
     "metadata": {},
     "output_type": "execute_result"
    }
   ],
   "source": [
    "data['body_potter_stem']"
   ]
  },
  {
   "cell_type": "markdown",
   "id": "c8ab7c72",
   "metadata": {
    "ExecuteTime": {
     "end_time": "2021-11-06T16:18:37.161939Z",
     "start_time": "2021-11-06T16:18:37.154575Z"
    }
   },
   "source": [
    "LEMMATIZATION"
   ]
  },
  {
   "cell_type": "code",
   "execution_count": 705,
   "id": "d62a4e87",
   "metadata": {
    "ExecuteTime": {
     "end_time": "2021-11-07T13:43:38.428540Z",
     "start_time": "2021-11-07T13:43:38.399826Z"
    }
   },
   "outputs": [
    {
     "name": "stderr",
     "output_type": "stream",
     "text": [
      "[nltk_data] Downloading package wordnet to /home/prudhvi/nltk_data...\n",
      "[nltk_data]   Package wordnet is already up-to-date!\n"
     ]
    },
    {
     "data": {
      "text/plain": [
       "True"
      ]
     },
     "execution_count": 705,
     "metadata": {},
     "output_type": "execute_result"
    }
   ],
   "source": [
    "import nltk\n",
    "nltk.download('wordnet')"
   ]
  },
  {
   "cell_type": "code",
   "execution_count": 706,
   "id": "6ed43047",
   "metadata": {
    "ExecuteTime": {
     "end_time": "2021-11-07T13:43:38.977887Z",
     "start_time": "2021-11-07T13:43:38.971214Z"
    }
   },
   "outputs": [
    {
     "name": "stdout",
     "output_type": "stream",
     "text": [
      "There\n",
      "are\n",
      "several\n",
      "type\n",
      "of\n",
      "stemming\n",
      "algorithm\n"
     ]
    }
   ],
   "source": [
    "from nltk.stem import WordNetLemmatizer\n",
    "from nltk.tokenize import word_tokenize\n",
    "lemmatizer=WordNetLemmatizer()\n",
    "input_str=\"There are several types of stemming algorithms\"\n",
    "input_str=word_tokenize(input_str)\n",
    "for word in input_str:\n",
    "    print(lemmatizer.lemmatize(word))"
   ]
  },
  {
   "cell_type": "code",
   "execution_count": 707,
   "id": "e511562d",
   "metadata": {
    "ExecuteTime": {
     "end_time": "2021-11-07T13:43:39.430844Z",
     "start_time": "2021-11-07T13:43:39.427112Z"
    }
   },
   "outputs": [],
   "source": [
    "def lemmatization(x):\n",
    "    words = [lemmatizer.lemmatize(word) for word in x]\n",
    "    return words"
   ]
  },
  {
   "cell_type": "code",
   "execution_count": 708,
   "id": "ff83b9d4",
   "metadata": {
    "ExecuteTime": {
     "end_time": "2021-11-07T13:43:43.979808Z",
     "start_time": "2021-11-07T13:43:39.992287Z"
    }
   },
   "outputs": [],
   "source": [
    "data['body_lemma'] = data['body_stopwords'].apply(lambda x : lemmatization(x))\n",
    "data['title_lemma'] = data['title_stopwords'].apply(lambda x : lemmatization(x))"
   ]
  },
  {
   "cell_type": "code",
   "execution_count": 709,
   "id": "5630d404",
   "metadata": {
    "ExecuteTime": {
     "end_time": "2021-11-07T13:43:43.988470Z",
     "start_time": "2021-11-07T13:43:43.980904Z"
    }
   },
   "outputs": [
    {
     "data": {
      "text/plain": [
       "0       [polyvore, best, place, discover, start, fashi...\n",
       "1       [speed, air, mandavid, belle, david, belle, sp...\n",
       "2       [chicken, gruyere, one, favorite, special, din...\n",
       "3       [oh, oh, really, snackalicious, sweet, salty, ...\n",
       "4       [barbecued, chicken, chow, siew, exotic, kitch...\n",
       "                              ...                        \n",
       "7390                                                   []\n",
       "7391    [save, collection, sorry, inconvenience, savin...\n",
       "7392    [best, belly, dance, workout, swerve, studio, ...\n",
       "7393    [outerbanxchic, posted, delicious, different, ...\n",
       "7394    [summer, always, signifies, beginning, steak, ...\n",
       "Name: body_lemma, Length: 7334, dtype: object"
      ]
     },
     "execution_count": 709,
     "metadata": {},
     "output_type": "execute_result"
    }
   ],
   "source": [
    "data['body_lemma']"
   ]
  },
  {
   "cell_type": "code",
   "execution_count": 710,
   "id": "3009a6d5",
   "metadata": {
    "ExecuteTime": {
     "end_time": "2021-11-07T13:43:46.432245Z",
     "start_time": "2021-11-07T13:43:46.429807Z"
    }
   },
   "outputs": [
    {
     "data": {
      "text/plain": [
       "(7334, 45)"
      ]
     },
     "execution_count": 710,
     "metadata": {},
     "output_type": "execute_result"
    }
   ],
   "source": [
    "data.shape"
   ]
  },
  {
   "cell_type": "code",
   "execution_count": 881,
   "id": "597e1ee9",
   "metadata": {
    "ExecuteTime": {
     "end_time": "2021-11-07T14:47:24.135912Z",
     "start_time": "2021-11-07T14:47:24.125822Z"
    }
   },
   "outputs": [
    {
     "data": {
      "text/plain": [
       "1479"
      ]
     },
     "execution_count": 881,
     "metadata": {},
     "output_type": "execute_result"
    }
   ],
   "source": [
    "len(data[data['label'] == 'test'])"
   ]
  },
  {
   "cell_type": "code",
   "execution_count": 882,
   "id": "a0304197",
   "metadata": {
    "ExecuteTime": {
     "end_time": "2021-11-07T14:47:24.848537Z",
     "start_time": "2021-11-07T14:47:24.832043Z"
    }
   },
   "outputs": [
    {
     "data": {
      "text/html": [
       "<div>\n",
       "<style scoped>\n",
       "    .dataframe tbody tr th:only-of-type {\n",
       "        vertical-align: middle;\n",
       "    }\n",
       "\n",
       "    .dataframe tbody tr th {\n",
       "        vertical-align: top;\n",
       "    }\n",
       "\n",
       "    .dataframe thead th {\n",
       "        text-align: right;\n",
       "    }\n",
       "</style>\n",
       "<table border=\"1\" class=\"dataframe\">\n",
       "  <thead>\n",
       "    <tr style=\"text-align: right;\">\n",
       "      <th></th>\n",
       "      <th>url</th>\n",
       "      <th>webpageDescription</th>\n",
       "      <th>alchemy_category</th>\n",
       "      <th>alchemy_category_score</th>\n",
       "      <th>avgLinkWordLength</th>\n",
       "      <th>AvglinkWithOneCommonWord</th>\n",
       "      <th>AvglinkWithTwoCommonWord</th>\n",
       "      <th>AvglinkWithThreeCommonWord</th>\n",
       "      <th>AvglinkWithFourCommonWord</th>\n",
       "      <th>redundancyMeasure</th>\n",
       "      <th>...</th>\n",
       "      <th>title</th>\n",
       "      <th>body</th>\n",
       "      <th>body_lower</th>\n",
       "      <th>title_lower</th>\n",
       "      <th>body_no_nums</th>\n",
       "      <th>title_no_nums</th>\n",
       "      <th>body_no_punc</th>\n",
       "      <th>title_no_punc</th>\n",
       "      <th>body_no_spaces</th>\n",
       "      <th>title_no_spaces</th>\n",
       "    </tr>\n",
       "  </thead>\n",
       "  <tbody>\n",
       "    <tr>\n",
       "      <th>0</th>\n",
       "      <td>http://www.polyvore.com/cgi/home?id=1389651</td>\n",
       "      <td>{\"title\":\"Join Polyvore and follow the latest ...</td>\n",
       "      <td>other</td>\n",
       "      <td>0.603334</td>\n",
       "      <td>1.916667</td>\n",
       "      <td>0.047619</td>\n",
       "      <td>0.007937</td>\n",
       "      <td>0.000000</td>\n",
       "      <td>0.000000</td>\n",
       "      <td>0.803797</td>\n",
       "      <td>...</td>\n",
       "      <td>Join Polyvore and follow the latest styles</td>\n",
       "      <td>polyvore is the best place to discover or sta...</td>\n",
       "      <td>polyvore is the best place to discover or sta...</td>\n",
       "      <td>join polyvore and follow the latest styles</td>\n",
       "      <td>polyvore is the best place to discover or sta...</td>\n",
       "      <td>join polyvore and follow the latest styles</td>\n",
       "      <td>polyvore is the best place to discover or sta...</td>\n",
       "      <td>join polyvore and follow the latest styles</td>\n",
       "      <td>polyvore is the best place to discover or star...</td>\n",
       "      <td>join polyvore and follow the latest styles</td>\n",
       "    </tr>\n",
       "    <tr>\n",
       "      <th>1</th>\n",
       "      <td>http://www.youtube.com/watch?v=ippMPPu6gh4</td>\n",
       "      <td>{\"body\":\"Speed Air Man--David Belle david bell...</td>\n",
       "      <td>other</td>\n",
       "      <td>0.603334</td>\n",
       "      <td>1.257576</td>\n",
       "      <td>0.141026</td>\n",
       "      <td>0.000000</td>\n",
       "      <td>0.000000</td>\n",
       "      <td>0.000000</td>\n",
       "      <td>1.142857</td>\n",
       "      <td>...</td>\n",
       "      <td>Speed Air Man--David Belle</td>\n",
       "      <td>Speed Air Man--David Belle david belle speed a...</td>\n",
       "      <td>speed air man--david belle david belle speed a...</td>\n",
       "      <td>speed air man--david belle</td>\n",
       "      <td>speed air man--david belle david belle speed a...</td>\n",
       "      <td>speed air man--david belle</td>\n",
       "      <td>speed air mandavid belle david belle speed air...</td>\n",
       "      <td>speed air mandavid belle</td>\n",
       "      <td>speed air mandavid belle david belle speed air...</td>\n",
       "      <td>speed air mandavid belle</td>\n",
       "    </tr>\n",
       "    <tr>\n",
       "      <th>2</th>\n",
       "      <td>http://www.musingsofahousewife.com/2011/03/tri...</td>\n",
       "      <td>{\"title\":\"Chicken Gruyere Recipe \",\"body\":\"Chi...</td>\n",
       "      <td>science_technology</td>\n",
       "      <td>0.386685</td>\n",
       "      <td>2.024000</td>\n",
       "      <td>0.630350</td>\n",
       "      <td>0.284047</td>\n",
       "      <td>0.233463</td>\n",
       "      <td>0.202335</td>\n",
       "      <td>0.443409</td>\n",
       "      <td>...</td>\n",
       "      <td>Chicken Gruyere Recipe</td>\n",
       "      <td>Chicken Gruyere one of our favorite special di...</td>\n",
       "      <td>chicken gruyere one of our favorite special di...</td>\n",
       "      <td>chicken gruyere recipe</td>\n",
       "      <td>chicken gruyere one of our favorite special di...</td>\n",
       "      <td>chicken gruyere recipe</td>\n",
       "      <td>chicken gruyere one of our favorite special di...</td>\n",
       "      <td>chicken gruyere recipe</td>\n",
       "      <td>chicken gruyere one of our favorite special di...</td>\n",
       "      <td>chicken gruyere recipe</td>\n",
       "    </tr>\n",
       "    <tr>\n",
       "      <th>3</th>\n",
       "      <td>http://www.thelittleteochew.com/2011/07/ikan-b...</td>\n",
       "      <td>{\"title\":\"Ikan Bilis With Tempeh Groundnuts \",...</td>\n",
       "      <td>recreation</td>\n",
       "      <td>0.475039</td>\n",
       "      <td>1.665254</td>\n",
       "      <td>0.419580</td>\n",
       "      <td>0.199301</td>\n",
       "      <td>0.097902</td>\n",
       "      <td>0.066434</td>\n",
       "      <td>0.472649</td>\n",
       "      <td>...</td>\n",
       "      <td>Ikan Bilis With Tempeh Groundnuts</td>\n",
       "      <td>Oh me oh my This was really snackalicious swee...</td>\n",
       "      <td>oh me oh my this was really snackalicious swee...</td>\n",
       "      <td>ikan bilis with tempeh groundnuts</td>\n",
       "      <td>oh me oh my this was really snackalicious swee...</td>\n",
       "      <td>ikan bilis with tempeh groundnuts</td>\n",
       "      <td>oh me oh my this was really snackalicious swee...</td>\n",
       "      <td>ikan bilis with tempeh groundnuts</td>\n",
       "      <td>oh me oh my this was really snackalicious swee...</td>\n",
       "      <td>ikan bilis with tempeh groundnuts</td>\n",
       "    </tr>\n",
       "    <tr>\n",
       "      <th>4</th>\n",
       "      <td>http://recipes.wuzzle.org/index.php/72</td>\n",
       "      <td>{\"url\":\"recipes wuzzle org index php 72\",\"titl...</td>\n",
       "      <td>computer_internet</td>\n",
       "      <td>0.535009</td>\n",
       "      <td>0.181818</td>\n",
       "      <td>0.036364</td>\n",
       "      <td>0.000000</td>\n",
       "      <td>0.000000</td>\n",
       "      <td>0.000000</td>\n",
       "      <td>0.292614</td>\n",
       "      <td>...</td>\n",
       "      <td>Malaysian recipes</td>\n",
       "      <td>Barbecued Chicken Chow Siew from The Exotic Ki...</td>\n",
       "      <td>barbecued chicken chow siew from the exotic ki...</td>\n",
       "      <td>malaysian recipes</td>\n",
       "      <td>barbecued chicken chow siew from the exotic ki...</td>\n",
       "      <td>malaysian recipes</td>\n",
       "      <td>barbecued chicken chow siew from the exotic ki...</td>\n",
       "      <td>malaysian recipes</td>\n",
       "      <td>barbecued chicken chow siew from the exotic ki...</td>\n",
       "      <td>malaysian recipes</td>\n",
       "    </tr>\n",
       "  </tbody>\n",
       "</table>\n",
       "<p>5 rows × 37 columns</p>\n",
       "</div>"
      ],
      "text/plain": [
       "                                                 url  \\\n",
       "0        http://www.polyvore.com/cgi/home?id=1389651   \n",
       "1         http://www.youtube.com/watch?v=ippMPPu6gh4   \n",
       "2  http://www.musingsofahousewife.com/2011/03/tri...   \n",
       "3  http://www.thelittleteochew.com/2011/07/ikan-b...   \n",
       "4             http://recipes.wuzzle.org/index.php/72   \n",
       "\n",
       "                                  webpageDescription    alchemy_category  \\\n",
       "0  {\"title\":\"Join Polyvore and follow the latest ...               other   \n",
       "1  {\"body\":\"Speed Air Man--David Belle david bell...               other   \n",
       "2  {\"title\":\"Chicken Gruyere Recipe \",\"body\":\"Chi...  science_technology   \n",
       "3  {\"title\":\"Ikan Bilis With Tempeh Groundnuts \",...          recreation   \n",
       "4  {\"url\":\"recipes wuzzle org index php 72\",\"titl...   computer_internet   \n",
       "\n",
       "  alchemy_category_score  avgLinkWordLength  AvglinkWithOneCommonWord  \\\n",
       "0               0.603334           1.916667                  0.047619   \n",
       "1               0.603334           1.257576                  0.141026   \n",
       "2               0.386685           2.024000                  0.630350   \n",
       "3               0.475039           1.665254                  0.419580   \n",
       "4               0.535009           0.181818                  0.036364   \n",
       "\n",
       "   AvglinkWithTwoCommonWord  AvglinkWithThreeCommonWord  \\\n",
       "0                  0.007937                    0.000000   \n",
       "1                  0.000000                    0.000000   \n",
       "2                  0.284047                    0.233463   \n",
       "3                  0.199301                    0.097902   \n",
       "4                  0.000000                    0.000000   \n",
       "\n",
       "   AvglinkWithFourCommonWord  redundancyMeasure  ...  \\\n",
       "0                   0.000000           0.803797  ...   \n",
       "1                   0.000000           1.142857  ...   \n",
       "2                   0.202335           0.443409  ...   \n",
       "3                   0.066434           0.472649  ...   \n",
       "4                   0.000000           0.292614  ...   \n",
       "\n",
       "                                         title  \\\n",
       "0  Join Polyvore and follow the latest styles    \n",
       "1                   Speed Air Man--David Belle   \n",
       "2                      Chicken Gruyere Recipe    \n",
       "3           Ikan Bilis With Tempeh Groundnuts    \n",
       "4                           Malaysian recipes    \n",
       "\n",
       "                                                body  \\\n",
       "0   polyvore is the best place to discover or sta...   \n",
       "1  Speed Air Man--David Belle david belle speed a...   \n",
       "2  Chicken Gruyere one of our favorite special di...   \n",
       "3  Oh me oh my This was really snackalicious swee...   \n",
       "4  Barbecued Chicken Chow Siew from The Exotic Ki...   \n",
       "\n",
       "                                          body_lower  \\\n",
       "0   polyvore is the best place to discover or sta...   \n",
       "1  speed air man--david belle david belle speed a...   \n",
       "2  chicken gruyere one of our favorite special di...   \n",
       "3  oh me oh my this was really snackalicious swee...   \n",
       "4  barbecued chicken chow siew from the exotic ki...   \n",
       "\n",
       "                                   title_lower  \\\n",
       "0  join polyvore and follow the latest styles    \n",
       "1                   speed air man--david belle   \n",
       "2                      chicken gruyere recipe    \n",
       "3           ikan bilis with tempeh groundnuts    \n",
       "4                           malaysian recipes    \n",
       "\n",
       "                                        body_no_nums  \\\n",
       "0   polyvore is the best place to discover or sta...   \n",
       "1  speed air man--david belle david belle speed a...   \n",
       "2  chicken gruyere one of our favorite special di...   \n",
       "3  oh me oh my this was really snackalicious swee...   \n",
       "4  barbecued chicken chow siew from the exotic ki...   \n",
       "\n",
       "                                 title_no_nums  \\\n",
       "0  join polyvore and follow the latest styles    \n",
       "1                   speed air man--david belle   \n",
       "2                      chicken gruyere recipe    \n",
       "3           ikan bilis with tempeh groundnuts    \n",
       "4                           malaysian recipes    \n",
       "\n",
       "                                        body_no_punc  \\\n",
       "0   polyvore is the best place to discover or sta...   \n",
       "1  speed air mandavid belle david belle speed air...   \n",
       "2  chicken gruyere one of our favorite special di...   \n",
       "3  oh me oh my this was really snackalicious swee...   \n",
       "4  barbecued chicken chow siew from the exotic ki...   \n",
       "\n",
       "                                 title_no_punc  \\\n",
       "0  join polyvore and follow the latest styles    \n",
       "1                     speed air mandavid belle   \n",
       "2                      chicken gruyere recipe    \n",
       "3           ikan bilis with tempeh groundnuts    \n",
       "4                           malaysian recipes    \n",
       "\n",
       "                                      body_no_spaces  \\\n",
       "0  polyvore is the best place to discover or star...   \n",
       "1  speed air mandavid belle david belle speed air...   \n",
       "2  chicken gruyere one of our favorite special di...   \n",
       "3  oh me oh my this was really snackalicious swee...   \n",
       "4  barbecued chicken chow siew from the exotic ki...   \n",
       "\n",
       "                              title_no_spaces  \n",
       "0  join polyvore and follow the latest styles  \n",
       "1                    speed air mandavid belle  \n",
       "2                      chicken gruyere recipe  \n",
       "3           ikan bilis with tempeh groundnuts  \n",
       "4                           malaysian recipes  \n",
       "\n",
       "[5 rows x 37 columns]"
      ]
     },
     "execution_count": 882,
     "metadata": {},
     "output_type": "execute_result"
    }
   ],
   "source": [
    "data.head(5)"
   ]
  },
  {
   "cell_type": "markdown",
   "id": "b7a98463",
   "metadata": {},
   "source": [
    "# Encoding"
   ]
  },
  {
   "cell_type": "code",
   "execution_count": 81,
   "id": "2c85cd24",
   "metadata": {
    "ExecuteTime": {
     "end_time": "2021-11-07T15:10:29.113268Z",
     "start_time": "2021-11-07T15:10:28.922800Z"
    }
   },
   "outputs": [],
   "source": [
    "from sklearn.preprocessing import OneHotEncoder"
   ]
  },
  {
   "cell_type": "code",
   "execution_count": 82,
   "id": "2bd2adc6",
   "metadata": {
    "ExecuteTime": {
     "end_time": "2021-11-07T15:10:29.375649Z",
     "start_time": "2021-11-07T15:10:29.367930Z"
    }
   },
   "outputs": [
    {
     "data": {
      "text/plain": [
       "other                 2318\n",
       "recreation            1220\n",
       "arts_entertainment     934\n",
       "business               869\n",
       "health                 506\n",
       "sports                 379\n",
       "culture_politics       339\n",
       "computer_internet      295\n",
       "science_technology     285\n",
       "gaming                  76\n",
       "religion                72\n",
       "law_crime               31\n",
       "unknown                  6\n",
       "weather                  4\n",
       "Name: alchemy_category, dtype: int64"
      ]
     },
     "execution_count": 82,
     "metadata": {},
     "output_type": "execute_result"
    }
   ],
   "source": [
    "data['alchemy_category'].value_counts()"
   ]
  },
  {
   "cell_type": "code",
   "execution_count": 83,
   "id": "1d20044b",
   "metadata": {
    "ExecuteTime": {
     "end_time": "2021-11-07T15:10:29.817086Z",
     "start_time": "2021-11-07T15:10:29.782001Z"
    }
   },
   "outputs": [],
   "source": [
    "column_names_to_one_hot = [\"alchemy_category\"]\n",
    "data = pd.get_dummies(data, columns=column_names_to_one_hot)"
   ]
  },
  {
   "cell_type": "code",
   "execution_count": 84,
   "id": "1a8864cc",
   "metadata": {
    "ExecuteTime": {
     "end_time": "2021-11-07T15:10:30.210918Z",
     "start_time": "2021-11-07T15:10:30.204262Z"
    }
   },
   "outputs": [
    {
     "data": {
      "text/plain": [
       "Index(['url', 'webpageDescription', 'alchemy_category_score',\n",
       "       'avgLinkWordLength', 'AvglinkWithOneCommonWord',\n",
       "       'AvglinkWithTwoCommonWord', 'AvglinkWithThreeCommonWord',\n",
       "       'AvglinkWithFourCommonWord', 'redundancyMeasure', 'embedRatio',\n",
       "       'framebased', 'frameTagRatio', 'domainLink', 'tagRatio',\n",
       "       'imageTagRatio', 'isNews', 'lengthyDomain', 'hyperlinkToAllWordsRatio',\n",
       "       'isFrontPageNews', 'alphanumCharCount', 'linksCount', 'wordCount',\n",
       "       'parametrizedLinkRatio', 'spellingErrorsRatio', 'label', 'id', 'title',\n",
       "       'body', 'body_lower', 'title_lower', 'body_no_nums', 'title_no_nums',\n",
       "       'body_no_punc', 'title_no_punc', 'body_no_spaces', 'title_no_spaces',\n",
       "       'alchemy_category_arts_entertainment', 'alchemy_category_business',\n",
       "       'alchemy_category_computer_internet',\n",
       "       'alchemy_category_culture_politics', 'alchemy_category_gaming',\n",
       "       'alchemy_category_health', 'alchemy_category_law_crime',\n",
       "       'alchemy_category_other', 'alchemy_category_recreation',\n",
       "       'alchemy_category_religion', 'alchemy_category_science_technology',\n",
       "       'alchemy_category_sports', 'alchemy_category_unknown',\n",
       "       'alchemy_category_weather'],\n",
       "      dtype='object')"
      ]
     },
     "execution_count": 84,
     "metadata": {},
     "output_type": "execute_result"
    }
   ],
   "source": [
    "data.columns"
   ]
  },
  {
   "cell_type": "code",
   "execution_count": 85,
   "id": "63717f3c",
   "metadata": {
    "ExecuteTime": {
     "end_time": "2021-11-07T15:10:30.662811Z",
     "start_time": "2021-11-07T15:10:30.659568Z"
    }
   },
   "outputs": [
    {
     "data": {
      "text/plain": [
       "Index(['url', 'webpageDescription', 'alchemy_category_score',\n",
       "       'avgLinkWordLength', 'AvglinkWithOneCommonWord',\n",
       "       'AvglinkWithTwoCommonWord', 'AvglinkWithThreeCommonWord',\n",
       "       'AvglinkWithFourCommonWord', 'redundancyMeasure', 'embedRatio',\n",
       "       'framebased', 'frameTagRatio', 'domainLink', 'tagRatio',\n",
       "       'imageTagRatio', 'isNews', 'lengthyDomain', 'hyperlinkToAllWordsRatio',\n",
       "       'isFrontPageNews', 'alphanumCharCount', 'linksCount', 'wordCount',\n",
       "       'parametrizedLinkRatio', 'spellingErrorsRatio', 'label', 'id', 'title',\n",
       "       'body', 'body_lower', 'title_lower', 'body_no_nums', 'title_no_nums',\n",
       "       'body_no_punc', 'title_no_punc', 'body_no_spaces', 'title_no_spaces',\n",
       "       'alchemy_category_arts_entertainment', 'alchemy_category_business',\n",
       "       'alchemy_category_computer_internet',\n",
       "       'alchemy_category_culture_politics', 'alchemy_category_gaming',\n",
       "       'alchemy_category_health', 'alchemy_category_law_crime',\n",
       "       'alchemy_category_other', 'alchemy_category_recreation',\n",
       "       'alchemy_category_religion', 'alchemy_category_science_technology',\n",
       "       'alchemy_category_sports', 'alchemy_category_unknown',\n",
       "       'alchemy_category_weather'],\n",
       "      dtype='object')"
      ]
     },
     "execution_count": 85,
     "metadata": {},
     "output_type": "execute_result"
    }
   ],
   "source": [
    "data.columns"
   ]
  },
  {
   "cell_type": "code",
   "execution_count": 86,
   "id": "22d66d1d",
   "metadata": {
    "ExecuteTime": {
     "end_time": "2021-11-07T15:10:31.252899Z",
     "start_time": "2021-11-07T15:10:31.240098Z"
    }
   },
   "outputs": [],
   "source": [
    "data['body_title']=data['body_no_spaces']+data['title_no_spaces']"
   ]
  },
  {
   "cell_type": "code",
   "execution_count": 87,
   "id": "7dce071a",
   "metadata": {
    "ExecuteTime": {
     "end_time": "2021-11-07T15:10:31.843701Z",
     "start_time": "2021-11-07T15:10:31.821605Z"
    }
   },
   "outputs": [
    {
     "name": "stdout",
     "output_type": "stream",
     "text": [
      "<class 'pandas.core.frame.DataFrame'>\n",
      "Int64Index: 7334 entries, 0 to 7394\n",
      "Data columns (total 51 columns):\n",
      " #   Column                               Non-Null Count  Dtype  \n",
      "---  ------                               --------------  -----  \n",
      " 0   url                                  7334 non-null   object \n",
      " 1   webpageDescription                   7334 non-null   object \n",
      " 2   alchemy_category_score               7334 non-null   object \n",
      " 3   avgLinkWordLength                    7334 non-null   float64\n",
      " 4   AvglinkWithOneCommonWord             7334 non-null   float64\n",
      " 5   AvglinkWithTwoCommonWord             7334 non-null   float64\n",
      " 6   AvglinkWithThreeCommonWord           7334 non-null   float64\n",
      " 7   AvglinkWithFourCommonWord            7334 non-null   float64\n",
      " 8   redundancyMeasure                    7334 non-null   float64\n",
      " 9   embedRatio                           7334 non-null   float64\n",
      " 10  framebased                           7334 non-null   int64  \n",
      " 11  frameTagRatio                        7334 non-null   float64\n",
      " 12  domainLink                           7334 non-null   int64  \n",
      " 13  tagRatio                             7334 non-null   float64\n",
      " 14  imageTagRatio                        7334 non-null   float64\n",
      " 15  isNews                               7334 non-null   object \n",
      " 16  lengthyDomain                        7334 non-null   int64  \n",
      " 17  hyperlinkToAllWordsRatio             7334 non-null   int64  \n",
      " 18  isFrontPageNews                      7334 non-null   object \n",
      " 19  alphanumCharCount                    7334 non-null   int64  \n",
      " 20  linksCount                           7334 non-null   int64  \n",
      " 21  wordCount                            7334 non-null   int64  \n",
      " 22  parametrizedLinkRatio                7334 non-null   float64\n",
      " 23  spellingErrorsRatio                  7334 non-null   float64\n",
      " 24  label                                7334 non-null   object \n",
      " 25  id                                   7334 non-null   int64  \n",
      " 26  title                                7334 non-null   object \n",
      " 27  body                                 7334 non-null   object \n",
      " 28  body_lower                           7334 non-null   object \n",
      " 29  title_lower                          7334 non-null   object \n",
      " 30  body_no_nums                         7334 non-null   object \n",
      " 31  title_no_nums                        7334 non-null   object \n",
      " 32  body_no_punc                         7334 non-null   object \n",
      " 33  title_no_punc                        7334 non-null   object \n",
      " 34  body_no_spaces                       7334 non-null   object \n",
      " 35  title_no_spaces                      7334 non-null   object \n",
      " 36  alchemy_category_arts_entertainment  7334 non-null   uint8  \n",
      " 37  alchemy_category_business            7334 non-null   uint8  \n",
      " 38  alchemy_category_computer_internet   7334 non-null   uint8  \n",
      " 39  alchemy_category_culture_politics    7334 non-null   uint8  \n",
      " 40  alchemy_category_gaming              7334 non-null   uint8  \n",
      " 41  alchemy_category_health              7334 non-null   uint8  \n",
      " 42  alchemy_category_law_crime           7334 non-null   uint8  \n",
      " 43  alchemy_category_other               7334 non-null   uint8  \n",
      " 44  alchemy_category_recreation          7334 non-null   uint8  \n",
      " 45  alchemy_category_religion            7334 non-null   uint8  \n",
      " 46  alchemy_category_science_technology  7334 non-null   uint8  \n",
      " 47  alchemy_category_sports              7334 non-null   uint8  \n",
      " 48  alchemy_category_unknown             7334 non-null   uint8  \n",
      " 49  alchemy_category_weather             7334 non-null   uint8  \n",
      " 50  body_title                           7334 non-null   object \n",
      "dtypes: float64(12), int64(8), object(17), uint8(14)\n",
      "memory usage: 2.2+ MB\n"
     ]
    }
   ],
   "source": [
    "data.info()"
   ]
  },
  {
   "cell_type": "code",
   "execution_count": 157,
   "id": "2f2ab31d",
   "metadata": {
    "ExecuteTime": {
     "end_time": "2021-11-07T16:24:17.420485Z",
     "start_time": "2021-11-07T16:24:17.415778Z"
    }
   },
   "outputs": [],
   "source": [
    "import pandas as pd\n",
    "import re\n",
    "import string\n",
    "import nltk\n",
    "from sklearn.feature_extraction.text import TfidfVectorizer\n",
    "stopwords = nltk.corpus.stopwords.words('english')\n",
    "ps = nltk.PorterStemmer()"
   ]
  },
  {
   "cell_type": "code",
   "execution_count": 158,
   "id": "c1a7896c",
   "metadata": {
    "ExecuteTime": {
     "end_time": "2021-11-07T16:24:18.654330Z",
     "start_time": "2021-11-07T16:24:18.650014Z"
    }
   },
   "outputs": [],
   "source": [
    "def clean_text(text):\n",
    "    text = \"\".join([word.lower() for word in text if word not in string.punctuation])\n",
    "    tokens = re.split('\\W+', text)\n",
    "    text = [ps.stem(word) for word in tokens if word not in stopwords]\n",
    "    return text"
   ]
  },
  {
   "cell_type": "code",
   "execution_count": 159,
   "id": "a9cf4f63",
   "metadata": {
    "ExecuteTime": {
     "end_time": "2021-11-07T16:24:19.224822Z",
     "start_time": "2021-11-07T16:24:19.214297Z"
    }
   },
   "outputs": [],
   "source": [
    "train_df = data[data[\"label\"] != \"test\"]\n",
    "test_df = data[data[\"label\"] == \"test\"]\n"
   ]
  },
  {
   "cell_type": "code",
   "execution_count": null,
   "id": "2204bba3",
   "metadata": {
    "ExecuteTime": {
     "end_time": "2021-11-07T14:37:57.660190Z",
     "start_time": "2021-11-07T14:37:57.654892Z"
    }
   },
   "outputs": [],
   "source": []
  },
  {
   "cell_type": "code",
   "execution_count": 160,
   "id": "405ecb17",
   "metadata": {
    "ExecuteTime": {
     "end_time": "2021-11-07T16:24:23.145479Z",
     "start_time": "2021-11-07T16:24:23.139413Z"
    }
   },
   "outputs": [
    {
     "name": "stderr",
     "output_type": "stream",
     "text": [
      "/home/prudhvi/anaconda3/lib/python3.8/site-packages/pandas/core/frame.py:4308: SettingWithCopyWarning: \n",
      "A value is trying to be set on a copy of a slice from a DataFrame\n",
      "\n",
      "See the caveats in the documentation: https://pandas.pydata.org/pandas-docs/stable/user_guide/indexing.html#returning-a-view-versus-a-copy\n",
      "  return super().drop(\n"
     ]
    }
   ],
   "source": [
    "test_df.shape\n",
    "test_df.drop('label',\n",
    "  axis='columns', inplace=True)"
   ]
  },
  {
   "cell_type": "code",
   "execution_count": 161,
   "id": "d073a201",
   "metadata": {
    "ExecuteTime": {
     "end_time": "2021-11-07T16:24:25.451261Z",
     "start_time": "2021-11-07T16:24:25.446829Z"
    }
   },
   "outputs": [
    {
     "name": "stdout",
     "output_type": "stream",
     "text": [
      "(5855, 51)\n",
      "(1479, 50)\n"
     ]
    }
   ],
   "source": [
    "print(train_df.shape)\n",
    "print(test_df.shape)"
   ]
  },
  {
   "cell_type": "code",
   "execution_count": 162,
   "id": "b4e75266",
   "metadata": {
    "ExecuteTime": {
     "end_time": "2021-11-07T16:24:27.794951Z",
     "start_time": "2021-11-07T16:24:27.791112Z"
    }
   },
   "outputs": [],
   "source": [
    "features = [\"alchemy_category_score\", \"avgLinkWordLength\", \"body_title\", \"label\"]"
   ]
  },
  {
   "cell_type": "code",
   "execution_count": 163,
   "id": "49cd8e52",
   "metadata": {
    "ExecuteTime": {
     "end_time": "2021-11-07T16:24:29.594487Z",
     "start_time": "2021-11-07T16:24:29.589474Z"
    }
   },
   "outputs": [],
   "source": [
    "train_x = train_df[features]\n",
    "#test_x = test_df[features]"
   ]
  },
  {
   "cell_type": "code",
   "execution_count": 164,
   "id": "72eaea22",
   "metadata": {
    "ExecuteTime": {
     "end_time": "2021-11-07T16:24:31.137268Z",
     "start_time": "2021-11-07T16:24:31.131044Z"
    }
   },
   "outputs": [
    {
     "data": {
      "text/plain": [
       "0       polyvore is the best place to discover or star...\n",
       "1       speed air mandavid belle david belle speed air...\n",
       "2       chicken gruyere one of our favorite special di...\n",
       "3       oh me oh my this was really snackalicious swee...\n",
       "4       barbecued chicken chow siew from the exotic ki...\n",
       "                              ...                        \n",
       "5909    best hidden mini golf course  arroyo seco golf...\n",
       "5910    power bars make them at home with only three i...\n",
       "5912    the city belleville and a belleville police of...\n",
       "5913    do you remember when cold stone first came out...\n",
       "5914    every time you select california avocados you ...\n",
       "Name: body_title, Length: 5855, dtype: object"
      ]
     },
     "execution_count": 164,
     "metadata": {},
     "output_type": "execute_result"
    }
   ],
   "source": [
    "train_df['body_title']"
   ]
  },
  {
   "cell_type": "code",
   "execution_count": 165,
   "id": "9d6ea68d",
   "metadata": {
    "ExecuteTime": {
     "end_time": "2021-11-07T16:25:19.625627Z",
     "start_time": "2021-11-07T16:24:33.326302Z"
    }
   },
   "outputs": [],
   "source": [
    "tfidf_vectorizer=TfidfVectorizer(analyzer=clean_text)\n",
    "tfidf_vectorizer.fit_transform(train_df['body_title'])\n",
    "train_feature_set=tfidf_vectorizer.transform(train_df['body_title'].values)\n",
    "test_feature_set=tfidf_vectorizer.transform(test_df['body_title'].values)"
   ]
  },
  {
   "cell_type": "code",
   "execution_count": null,
   "id": "2904417f",
   "metadata": {
    "ExecuteTime": {
     "end_time": "2021-11-07T14:16:07.832888Z",
     "start_time": "2021-11-07T14:16:07.829954Z"
    }
   },
   "outputs": [],
   "source": []
  },
  {
   "cell_type": "code",
   "execution_count": 166,
   "id": "87638061",
   "metadata": {
    "ExecuteTime": {
     "end_time": "2021-11-07T16:25:19.629180Z",
     "start_time": "2021-11-07T16:25:19.626579Z"
    }
   },
   "outputs": [
    {
     "data": {
      "text/plain": [
       "scipy.sparse.csr.csr_matrix"
      ]
     },
     "execution_count": 166,
     "metadata": {},
     "output_type": "execute_result"
    }
   ],
   "source": [
    "type(train_feature_set)"
   ]
  },
  {
   "cell_type": "code",
   "execution_count": 167,
   "id": "781ec7a3",
   "metadata": {
    "ExecuteTime": {
     "end_time": "2021-11-07T16:25:19.634971Z",
     "start_time": "2021-11-07T16:25:19.630794Z"
    }
   },
   "outputs": [
    {
     "data": {
      "text/plain": [
       "(5855, 51)"
      ]
     },
     "execution_count": 167,
     "metadata": {},
     "output_type": "execute_result"
    }
   ],
   "source": [
    "train_df.shape"
   ]
  },
  {
   "cell_type": "code",
   "execution_count": 168,
   "id": "05fdc8e5",
   "metadata": {
    "ExecuteTime": {
     "end_time": "2021-11-07T16:25:19.638872Z",
     "start_time": "2021-11-07T16:25:19.636364Z"
    }
   },
   "outputs": [
    {
     "name": "stdout",
     "output_type": "stream",
     "text": [
      "<class 'scipy.sparse.csr.csr_matrix'>\n",
      "<class 'pandas.core.series.Series'>\n"
     ]
    }
   ],
   "source": [
    "print(type(train_feature_set))\n",
    "print(type(train_df['label']))"
   ]
  },
  {
   "cell_type": "code",
   "execution_count": 169,
   "id": "eea54387",
   "metadata": {
    "ExecuteTime": {
     "end_time": "2021-11-07T16:25:19.644923Z",
     "start_time": "2021-11-07T16:25:19.639861Z"
    }
   },
   "outputs": [
    {
     "data": {
      "text/plain": [
       "1    3033\n",
       "0    2822\n",
       "Name: label, dtype: int64"
      ]
     },
     "execution_count": 169,
     "metadata": {},
     "output_type": "execute_result"
    }
   ],
   "source": [
    "train_df[\"label\"].value_counts()"
   ]
  },
  {
   "cell_type": "code",
   "execution_count": 170,
   "id": "4702134c",
   "metadata": {
    "ExecuteTime": {
     "end_time": "2021-11-07T16:25:19.651703Z",
     "start_time": "2021-11-07T16:25:19.646679Z"
    }
   },
   "outputs": [
    {
     "name": "stderr",
     "output_type": "stream",
     "text": [
      "<>:3: SyntaxWarning: \"is\" with a literal. Did you mean \"==\"?\n",
      "<>:5: SyntaxWarning: \"is\" with a literal. Did you mean \"==\"?\n",
      "<>:3: SyntaxWarning: \"is\" with a literal. Did you mean \"==\"?\n",
      "<>:5: SyntaxWarning: \"is\" with a literal. Did you mean \"==\"?\n",
      "<ipython-input-170-4e576aa9a563>:3: SyntaxWarning: \"is\" with a literal. Did you mean \"==\"?\n",
      "  if val is 1:\n",
      "<ipython-input-170-4e576aa9a563>:5: SyntaxWarning: \"is\" with a literal. Did you mean \"==\"?\n",
      "  elif val is 0:\n"
     ]
    }
   ],
   "source": [
    "list1 = []\n",
    "for val in train_df[\"label\"]:\n",
    "    if val is 1:\n",
    "        list1.append(1)\n",
    "    elif val is 0:\n",
    "        list1.append(0)"
   ]
  },
  {
   "cell_type": "code",
   "execution_count": 171,
   "id": "49b9a3a4",
   "metadata": {
    "ExecuteTime": {
     "end_time": "2021-11-07T16:25:19.656997Z",
     "start_time": "2021-11-07T16:25:19.653275Z"
    }
   },
   "outputs": [],
   "source": [
    "list1\n",
    "train_df.insert(0,'label_num', list1)\n"
   ]
  },
  {
   "cell_type": "code",
   "execution_count": 172,
   "id": "5fa931fd",
   "metadata": {
    "ExecuteTime": {
     "end_time": "2021-11-07T16:25:19.662672Z",
     "start_time": "2021-11-07T16:25:19.658394Z"
    }
   },
   "outputs": [
    {
     "data": {
      "text/plain": [
       "1    3033\n",
       "0    2822\n",
       "Name: label_num, dtype: int64"
      ]
     },
     "execution_count": 172,
     "metadata": {},
     "output_type": "execute_result"
    }
   ],
   "source": [
    "train_df[\"label_num\"].value_counts()"
   ]
  },
  {
   "cell_type": "code",
   "execution_count": 173,
   "id": "ee5d5da5",
   "metadata": {
    "ExecuteTime": {
     "end_time": "2021-11-07T16:25:53.192607Z",
     "start_time": "2021-11-07T16:25:53.188802Z"
    }
   },
   "outputs": [],
   "source": [
    "from sklearn.linear_model import LogisticRegression\n",
    "logisticRegr = LogisticRegression()"
   ]
  },
  {
   "cell_type": "code",
   "execution_count": 175,
   "id": "02876f0f",
   "metadata": {
    "ExecuteTime": {
     "end_time": "2021-11-07T16:26:01.838554Z",
     "start_time": "2021-11-07T16:26:01.267364Z"
    }
   },
   "outputs": [
    {
     "data": {
      "text/plain": [
       "LogisticRegression()"
      ]
     },
     "execution_count": 175,
     "metadata": {},
     "output_type": "execute_result"
    }
   ],
   "source": [
    "logisticRegr.fit(train_feature_set, train_df['label_num'])"
   ]
  },
  {
   "cell_type": "code",
   "execution_count": null,
   "id": "a9cde73f",
   "metadata": {},
   "outputs": [],
   "source": []
  }
 ],
 "metadata": {
  "kernelspec": {
   "display_name": "Python 3",
   "language": "python",
   "name": "python3"
  },
  "language_info": {
   "codemirror_mode": {
    "name": "ipython",
    "version": 3
   },
   "file_extension": ".py",
   "mimetype": "text/x-python",
   "name": "python",
   "nbconvert_exporter": "python",
   "pygments_lexer": "ipython3",
   "version": "3.8.8"
  },
  "toc": {
   "base_numbering": 1,
   "nav_menu": {},
   "number_sections": true,
   "sideBar": true,
   "skip_h1_title": false,
   "title_cell": "Table of Contents",
   "title_sidebar": "Contents",
   "toc_cell": false,
   "toc_position": {},
   "toc_section_display": true,
   "toc_window_display": false
  }
 },
 "nbformat": 4,
 "nbformat_minor": 5
}
